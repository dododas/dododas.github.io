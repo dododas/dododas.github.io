{
 "cells": [
  {
   "cell_type": "markdown",
   "id": "88849015-29c5-4c4e-b84c-f7fb450b8c0f",
   "metadata": {},
   "source": [
    "## Odds ratio with bootstrap confidence intervals\n",
    "\n",
    "**Raibatak Das - 2023-Jun-01**\n",
    "\n",
    "This notebook contains Julia code to create contingency tables, compute odds ratios and estimate their confidence intervals using bootstrap resampling."
   ]
  },
  {
   "cell_type": "code",
   "execution_count": 2,
   "id": "bd5984e1-5711-427a-8ff2-7cb50630b38f",
   "metadata": {
    "tags": []
   },
   "outputs": [],
   "source": [
    "using TypedTables, StatsBase, Plots, LaTeXStrings"
   ]
  },
  {
   "cell_type": "markdown",
   "id": "679f3953-c43c-4e64-bd72-ac5802ff65bf",
   "metadata": {},
   "source": [
    "### Example 1: Aspirin, heart attacks and strokes\n",
    "\n",
    "The following data report the results of a randomized controlled trial that followed 22071 physicians who were assigned to receive either a 325 mg dose of aspirin or a placebo every other day. The number of heart attacks and strokes recorded during the 60 month study period are shown in the contingency table below:\n",
    "\n",
    "Treatment | Heart attacks | Strokes | Total\n",
    "--------- | ------------- | ------- | -----   \n",
    "Placebo   | 239           | 98      | 11034\n",
    "Aspirin   | 139           | 119     | 11037\n",
    "\n",
    "The next code block creates a contingency table with this information"
   ]
  },
  {
   "cell_type": "code",
   "execution_count": 3,
   "id": "58b0a5ea-b101-4e50-b5db-110e6b255a5c",
   "metadata": {},
   "outputs": [
    {
     "data": {
      "text/plain": [
       "Table with 4 columns and 2 rows:\n",
       "     Treatment  n      HeartAttacks  Strokes\n",
       "   ┌────────────────────────────────────────\n",
       " 1 │ Placebo    11034  239           98\n",
       " 2 │ Aspirin    11037  139           119"
      ]
     },
     "execution_count": 3,
     "metadata": {},
     "output_type": "execute_result"
    }
   ],
   "source": [
    "t = Table(Treatment    = [\"Placebo\", \"Aspirin\"],\n",
    "          n            = [11034, 11037],\n",
    "          HeartAttacks = [239, 139], \n",
    "          Strokes      = [98, 119])"
   ]
  },
  {
   "cell_type": "markdown",
   "id": "cc69cffb-659a-4905-94fe-1f9c635b116a",
   "metadata": {},
   "source": [
    "Define function to compute odds and odds ratio from contingency table"
   ]
  },
  {
   "cell_type": "code",
   "execution_count": 4,
   "id": "6a9a0de5-26be-4952-8a23-722751f992a8",
   "metadata": {},
   "outputs": [
    {
     "data": {
      "text/plain": [
       "Odds (generic function with 3 methods)"
      ]
     },
     "execution_count": 4,
     "metadata": {},
     "output_type": "execute_result"
    }
   ],
   "source": [
    "function Odds(ctable::Table, outcome::Symbol, \n",
    "              totals::Symbol = :n, \n",
    "              groups::Symbol = :Treatment)\n",
    "    \"\"\"Compute odds and odds ratios for outcome of interest\n",
    "    from input contingency table.\"\"\"\n",
    "    e = getproperty(ctable, outcome)\n",
    "    n = getproperty(ctable, totals)\n",
    "    odds = e ./ (n - e)\n",
    "    g = getproperties(ctable, (groups,))\n",
    "    results = Table(g, \n",
    "                    Odds      = odds,\n",
    "                    OddsRatio = odds/odds[1])\n",
    "    return results\n",
    "end"
   ]
  },
  {
   "cell_type": "markdown",
   "id": "b152d380-0763-421e-9b84-78208be3641c",
   "metadata": {},
   "source": [
    "Compute odds ratio for heart attacks and strokes under each treatment"
   ]
  },
  {
   "cell_type": "code",
   "execution_count": 6,
   "id": "33d1def0-dcaa-4950-ac6d-6e7dce9b8ca5",
   "metadata": {},
   "outputs": [
    {
     "data": {
      "text/plain": [
       "Table with 3 columns and 2 rows:\n",
       "     Treatment  Odds       OddsRatio\n",
       "   ┌────────────────────────────────\n",
       " 1 │ Placebo    0.0221399  1.0\n",
       " 2 │ Aspirin    0.0127546  0.576093"
      ]
     },
     "execution_count": 6,
     "metadata": {},
     "output_type": "execute_result"
    }
   ],
   "source": [
    "oddsHA = Odds(t, :HeartAttacks)"
   ]
  },
  {
   "cell_type": "code",
   "execution_count": 7,
   "id": "cee43cbc-2cc7-4f3d-8488-78ea8c3daa48",
   "metadata": {},
   "outputs": [
    {
     "data": {
      "text/plain": [
       "Table with 3 columns and 2 rows:\n",
       "     Treatment  Odds        OddsRatio\n",
       "   ┌─────────────────────────────────\n",
       " 1 │ Placebo    0.00896123  1.0\n",
       " 2 │ Aspirin    0.0108994   1.21629"
      ]
     },
     "execution_count": 7,
     "metadata": {},
     "output_type": "execute_result"
    }
   ],
   "source": [
    "oddsST = Odds(t, :Strokes)"
   ]
  },
  {
   "cell_type": "markdown",
   "id": "1398bacf-35a7-4900-a46c-32fe32498596",
   "metadata": {},
   "source": [
    "Define a function to simulate a bootstrap sample of the odds ratio "
   ]
  },
  {
   "cell_type": "code",
   "execution_count": 12,
   "id": "4086c014-16a3-4960-8f1d-7dfce55e4106",
   "metadata": {
    "tags": []
   },
   "outputs": [
    {
     "data": {
      "text/plain": [
       "BootOdds (generic function with 2 methods)"
      ]
     },
     "execution_count": 12,
     "metadata": {},
     "output_type": "execute_result"
    }
   ],
   "source": [
    "function BootOdds(e::Int, n::Int, nboot::Int = 2000)\n",
    "    \"\"\"Generate bootstrap sample of the odds of an event\n",
    "    that is observed e times in a sample of size n using\n",
    "    nboot resamples\"\"\"\n",
    "    # Generate vector of observations from input data\n",
    "    obs = vcat(trues(e), falses(n - e))\n",
    "    # Simulate bootstrap replicates\n",
    "    odds = zeros(nboot)\n",
    "    for j = 1:nboot \n",
    "        b = sample(obs, n) # Resample with replacement\n",
    "        if length(b) != n\n",
    "            print(length(b))\n",
    "        end\n",
    "        # Compute odds for bootstrap sample\n",
    "        s = sum(b)\n",
    "        odds[j] = s/(n - s)\n",
    "    end\n",
    "    return odds\n",
    "end"
   ]
  },
  {
   "cell_type": "markdown",
   "id": "506f38fe-fb6f-43bd-9c3f-e649a8089d51",
   "metadata": {},
   "source": [
    "Compute bootstrap distributions of the odds of getting a heart attack for each treatment, and estimate 95% confidence interval"
   ]
  },
  {
   "cell_type": "code",
   "execution_count": 13,
   "id": "729b52a5-f20f-4b61-ac08-5a3cab084197",
   "metadata": {},
   "outputs": [
    {
     "data": {
      "text/plain": [
       "2-element Vector{Float64}:\n",
       " 0.019401330376940133\n",
       " 0.02508361204013378"
      ]
     },
     "execution_count": 13,
     "metadata": {},
     "output_type": "execute_result"
    }
   ],
   "source": [
    "# Heart attacks for placebo group\n",
    "e, n = t[1][(:HeartAttacks, :n)]\n",
    "ha_pla = BootOdds(239, 11034)\n",
    "pct = [2.5, 97.5]\n",
    "percentile(ha_pla, pct)"
   ]
  },
  {
   "cell_type": "code",
   "execution_count": 14,
   "id": "ca6a4d59-0cdc-4c5d-bf35-e6c46d7d0bea",
   "metadata": {},
   "outputs": [
    {
     "data": {
      "text/plain": [
       "2-element Vector{Float64}:\n",
       " 0.010621737936086438\n",
       " 0.014992217866547962"
      ]
     },
     "execution_count": 14,
     "metadata": {},
     "output_type": "execute_result"
    }
   ],
   "source": [
    "# Heart attacks for aspirin group\n",
    "e, n = t[2][(:HeartAttacks, :n)]\n",
    "ha_asp = BootOdds(e, n)\n",
    "percentile(ha_asp, pct)"
   ]
  },
  {
   "cell_type": "markdown",
   "id": "091a45da-1d56-4ab9-b181-a29cb67516aa",
   "metadata": {},
   "source": [
    "Compute odds ratio and plot histogram"
   ]
  },
  {
   "cell_type": "code",
   "execution_count": 15,
   "id": "9abcad9b-05a1-422f-bdd7-69f083b59330",
   "metadata": {},
   "outputs": [
    {
     "data": {
      "text/plain": [
       "2-element Vector{Float64}:\n",
       " 0.4659690962772292\n",
       " 0.7040380374862183"
      ]
     },
     "execution_count": 15,
     "metadata": {},
     "output_type": "execute_result"
    }
   ],
   "source": [
    "# Compute odds ratio\n",
    "oddsratio_ha = ha_asp ./ ha_pla\n",
    "percentile(oddsratio_ha, [2.5, 97.5])"
   ]
  },
  {
   "cell_type": "code",
   "execution_count": 16,
   "id": "6c223439-3b4a-423c-b201-14151092f66d",
   "metadata": {},
   "outputs": [
    {
     "data": {
      "image/svg+xml": [
       "<?xml version=\"1.0\" encoding=\"utf-8\"?>\n",
       "<svg xmlns=\"http://www.w3.org/2000/svg\" xmlns:xlink=\"http://www.w3.org/1999/xlink\" width=\"600\" height=\"400\" viewBox=\"0 0 2400 1600\">\n",
       "<defs>\n",
       "  <clipPath id=\"clip450\">\n",
       "    <rect x=\"0\" y=\"0\" width=\"2400\" height=\"1600\"/>\n",
       "  </clipPath>\n",
       "</defs>\n",
       "<path clip-path=\"url(#clip450)\" d=\"M0 1600 L2400 1600 L2400 0 L0 0  Z\" fill=\"#ffffff\" fill-rule=\"evenodd\" fill-opacity=\"1\"/>\n",
       "<defs>\n",
       "  <clipPath id=\"clip451\">\n",
       "    <rect x=\"480\" y=\"0\" width=\"1681\" height=\"1600\"/>\n",
       "  </clipPath>\n",
       "</defs>\n",
       "<path clip-path=\"url(#clip450)\" d=\"M112.177 1486.45 L2352.76 1486.45 L2352.76 47.2441 L112.177 47.2441  Z\" fill=\"#ffffff\" fill-rule=\"evenodd\" fill-opacity=\"1\"/>\n",
       "<defs>\n",
       "  <clipPath id=\"clip452\">\n",
       "    <rect x=\"112\" y=\"47\" width=\"2242\" height=\"1440\"/>\n",
       "  </clipPath>\n",
       "</defs>\n",
       "<polyline clip-path=\"url(#clip452)\" style=\"stroke:#000000; stroke-linecap:round; stroke-linejoin:round; stroke-width:2; stroke-opacity:0.1; fill:none\" points=\"318.501,1486.45 318.501,47.2441 \"/>\n",
       "<polyline clip-path=\"url(#clip452)\" style=\"stroke:#000000; stroke-linecap:round; stroke-linejoin:round; stroke-width:2; stroke-opacity:0.1; fill:none\" points=\"733.94,1486.45 733.94,47.2441 \"/>\n",
       "<polyline clip-path=\"url(#clip452)\" style=\"stroke:#000000; stroke-linecap:round; stroke-linejoin:round; stroke-width:2; stroke-opacity:0.1; fill:none\" points=\"1149.38,1486.45 1149.38,47.2441 \"/>\n",
       "<polyline clip-path=\"url(#clip452)\" style=\"stroke:#000000; stroke-linecap:round; stroke-linejoin:round; stroke-width:2; stroke-opacity:0.1; fill:none\" points=\"1564.82,1486.45 1564.82,47.2441 \"/>\n",
       "<polyline clip-path=\"url(#clip452)\" style=\"stroke:#000000; stroke-linecap:round; stroke-linejoin:round; stroke-width:2; stroke-opacity:0.1; fill:none\" points=\"1980.26,1486.45 1980.26,47.2441 \"/>\n",
       "<polyline clip-path=\"url(#clip450)\" style=\"stroke:#000000; stroke-linecap:round; stroke-linejoin:round; stroke-width:4; stroke-opacity:1; fill:none\" points=\"112.177,1486.45 2352.76,1486.45 \"/>\n",
       "<polyline clip-path=\"url(#clip450)\" style=\"stroke:#000000; stroke-linecap:round; stroke-linejoin:round; stroke-width:4; stroke-opacity:1; fill:none\" points=\"318.501,1486.45 318.501,1467.55 \"/>\n",
       "<polyline clip-path=\"url(#clip450)\" style=\"stroke:#000000; stroke-linecap:round; stroke-linejoin:round; stroke-width:4; stroke-opacity:1; fill:none\" points=\"733.94,1486.45 733.94,1467.55 \"/>\n",
       "<polyline clip-path=\"url(#clip450)\" style=\"stroke:#000000; stroke-linecap:round; stroke-linejoin:round; stroke-width:4; stroke-opacity:1; fill:none\" points=\"1149.38,1486.45 1149.38,1467.55 \"/>\n",
       "<polyline clip-path=\"url(#clip450)\" style=\"stroke:#000000; stroke-linecap:round; stroke-linejoin:round; stroke-width:4; stroke-opacity:1; fill:none\" points=\"1564.82,1486.45 1564.82,1467.55 \"/>\n",
       "<polyline clip-path=\"url(#clip450)\" style=\"stroke:#000000; stroke-linecap:round; stroke-linejoin:round; stroke-width:4; stroke-opacity:1; fill:none\" points=\"1980.26,1486.45 1980.26,1467.55 \"/>\n",
       "<path clip-path=\"url(#clip450)\" d=\"M295.642 1517.37 Q292.031 1517.37 290.202 1520.93 Q288.397 1524.47 288.397 1531.6 Q288.397 1538.71 290.202 1542.27 Q292.031 1545.82 295.642 1545.82 Q299.276 1545.82 301.082 1542.27 Q302.911 1538.71 302.911 1531.6 Q302.911 1524.47 301.082 1520.93 Q299.276 1517.37 295.642 1517.37 M295.642 1513.66 Q301.452 1513.66 304.508 1518.27 Q307.586 1522.85 307.586 1531.6 Q307.586 1540.33 304.508 1544.94 Q301.452 1549.52 295.642 1549.52 Q289.832 1549.52 286.753 1544.94 Q283.698 1540.33 283.698 1531.6 Q283.698 1522.85 286.753 1518.27 Q289.832 1513.66 295.642 1513.66 Z\" fill=\"#000000\" fill-rule=\"nonzero\" fill-opacity=\"1\" /><path clip-path=\"url(#clip450)\" d=\"M315.804 1542.97 L320.688 1542.97 L320.688 1548.85 L315.804 1548.85 L315.804 1542.97 Z\" fill=\"#000000\" fill-rule=\"nonzero\" fill-opacity=\"1\" /><path clip-path=\"url(#clip450)\" d=\"M343.721 1518.36 L331.915 1536.81 L343.721 1536.81 L343.721 1518.36 M342.494 1514.29 L348.373 1514.29 L348.373 1536.81 L353.304 1536.81 L353.304 1540.7 L348.373 1540.7 L348.373 1548.85 L343.721 1548.85 L343.721 1540.7 L328.119 1540.7 L328.119 1536.19 L342.494 1514.29 Z\" fill=\"#000000\" fill-rule=\"nonzero\" fill-opacity=\"1\" /><path clip-path=\"url(#clip450)\" d=\"M711.822 1517.37 Q708.211 1517.37 706.382 1520.93 Q704.576 1524.47 704.576 1531.6 Q704.576 1538.71 706.382 1542.27 Q708.211 1545.82 711.822 1545.82 Q715.456 1545.82 717.262 1542.27 Q719.09 1538.71 719.09 1531.6 Q719.09 1524.47 717.262 1520.93 Q715.456 1517.37 711.822 1517.37 M711.822 1513.66 Q717.632 1513.66 720.688 1518.27 Q723.766 1522.85 723.766 1531.6 Q723.766 1540.33 720.688 1544.94 Q717.632 1549.52 711.822 1549.52 Q706.012 1549.52 702.933 1544.94 Q699.877 1540.33 699.877 1531.6 Q699.877 1522.85 702.933 1518.27 Q706.012 1513.66 711.822 1513.66 Z\" fill=\"#000000\" fill-rule=\"nonzero\" fill-opacity=\"1\" /><path clip-path=\"url(#clip450)\" d=\"M731.984 1542.97 L736.868 1542.97 L736.868 1548.85 L731.984 1548.85 L731.984 1542.97 Z\" fill=\"#000000\" fill-rule=\"nonzero\" fill-opacity=\"1\" /><path clip-path=\"url(#clip450)\" d=\"M747.099 1514.29 L765.456 1514.29 L765.456 1518.22 L751.382 1518.22 L751.382 1526.7 Q752.4 1526.35 753.419 1526.19 Q754.437 1526 755.456 1526 Q761.243 1526 764.622 1529.17 Q768.002 1532.34 768.002 1537.76 Q768.002 1543.34 764.53 1546.44 Q761.058 1549.52 754.738 1549.52 Q752.562 1549.52 750.294 1549.15 Q748.048 1548.78 745.641 1548.04 L745.641 1543.34 Q747.724 1544.47 749.947 1545.03 Q752.169 1545.58 754.646 1545.58 Q758.65 1545.58 760.988 1543.48 Q763.326 1541.37 763.326 1537.76 Q763.326 1534.15 760.988 1532.04 Q758.65 1529.94 754.646 1529.94 Q752.771 1529.94 750.896 1530.35 Q749.044 1530.77 747.099 1531.65 L747.099 1514.29 Z\" fill=\"#000000\" fill-rule=\"nonzero\" fill-opacity=\"1\" /><path clip-path=\"url(#clip450)\" d=\"M1126.68 1517.37 Q1123.07 1517.37 1121.24 1520.93 Q1119.44 1524.47 1119.44 1531.6 Q1119.44 1538.71 1121.24 1542.27 Q1123.07 1545.82 1126.68 1545.82 Q1130.32 1545.82 1132.12 1542.27 Q1133.95 1538.71 1133.95 1531.6 Q1133.95 1524.47 1132.12 1520.93 Q1130.32 1517.37 1126.68 1517.37 M1126.68 1513.66 Q1132.49 1513.66 1135.55 1518.27 Q1138.63 1522.85 1138.63 1531.6 Q1138.63 1540.33 1135.55 1544.94 Q1132.49 1549.52 1126.68 1549.52 Q1120.87 1549.52 1117.79 1544.94 Q1114.74 1540.33 1114.74 1531.6 Q1114.74 1522.85 1117.79 1518.27 Q1120.87 1513.66 1126.68 1513.66 Z\" fill=\"#000000\" fill-rule=\"nonzero\" fill-opacity=\"1\" /><path clip-path=\"url(#clip450)\" d=\"M1146.84 1542.97 L1151.73 1542.97 L1151.73 1548.85 L1146.84 1548.85 L1146.84 1542.97 Z\" fill=\"#000000\" fill-rule=\"nonzero\" fill-opacity=\"1\" /><path clip-path=\"url(#clip450)\" d=\"M1172.49 1529.7 Q1169.34 1529.7 1167.49 1531.86 Q1165.66 1534.01 1165.66 1537.76 Q1165.66 1541.49 1167.49 1543.66 Q1169.34 1545.82 1172.49 1545.82 Q1175.64 1545.82 1177.47 1543.66 Q1179.32 1541.49 1179.32 1537.76 Q1179.32 1534.01 1177.47 1531.86 Q1175.64 1529.7 1172.49 1529.7 M1181.77 1515.05 L1181.77 1519.31 Q1180.02 1518.48 1178.21 1518.04 Q1176.43 1517.6 1174.67 1517.6 Q1170.04 1517.6 1167.58 1520.72 Q1165.15 1523.85 1164.81 1530.17 Q1166.17 1528.15 1168.23 1527.09 Q1170.29 1526 1172.77 1526 Q1177.98 1526 1180.99 1529.17 Q1184.02 1532.32 1184.02 1537.76 Q1184.02 1543.08 1180.87 1546.3 Q1177.72 1549.52 1172.49 1549.52 Q1166.5 1549.52 1163.33 1544.94 Q1160.15 1540.33 1160.15 1531.6 Q1160.15 1523.41 1164.04 1518.55 Q1167.93 1513.66 1174.48 1513.66 Q1176.24 1513.66 1178.02 1514.01 Q1179.83 1514.36 1181.77 1515.05 Z\" fill=\"#000000\" fill-rule=\"nonzero\" fill-opacity=\"1\" /><path clip-path=\"url(#clip450)\" d=\"M1542.65 1517.37 Q1539.04 1517.37 1537.21 1520.93 Q1535.41 1524.47 1535.41 1531.6 Q1535.41 1538.71 1537.21 1542.27 Q1539.04 1545.82 1542.65 1545.82 Q1546.29 1545.82 1548.09 1542.27 Q1549.92 1538.71 1549.92 1531.6 Q1549.92 1524.47 1548.09 1520.93 Q1546.29 1517.37 1542.65 1517.37 M1542.65 1513.66 Q1548.46 1513.66 1551.52 1518.27 Q1554.6 1522.85 1554.6 1531.6 Q1554.6 1540.33 1551.52 1544.94 Q1548.46 1549.52 1542.65 1549.52 Q1536.84 1549.52 1533.76 1544.94 Q1530.71 1540.33 1530.71 1531.6 Q1530.71 1522.85 1533.76 1518.27 Q1536.84 1513.66 1542.65 1513.66 Z\" fill=\"#000000\" fill-rule=\"nonzero\" fill-opacity=\"1\" /><path clip-path=\"url(#clip450)\" d=\"M1562.82 1542.97 L1567.7 1542.97 L1567.7 1548.85 L1562.82 1548.85 L1562.82 1542.97 Z\" fill=\"#000000\" fill-rule=\"nonzero\" fill-opacity=\"1\" /><path clip-path=\"url(#clip450)\" d=\"M1576.7 1514.29 L1598.93 1514.29 L1598.93 1516.28 L1586.38 1548.85 L1581.5 1548.85 L1593.3 1518.22 L1576.7 1518.22 L1576.7 1514.29 Z\" fill=\"#000000\" fill-rule=\"nonzero\" fill-opacity=\"1\" /><path clip-path=\"url(#clip450)\" d=\"M1957.69 1517.37 Q1954.08 1517.37 1952.25 1520.93 Q1950.44 1524.47 1950.44 1531.6 Q1950.44 1538.71 1952.25 1542.27 Q1954.08 1545.82 1957.69 1545.82 Q1961.32 1545.82 1963.13 1542.27 Q1964.96 1538.71 1964.96 1531.6 Q1964.96 1524.47 1963.13 1520.93 Q1961.32 1517.37 1957.69 1517.37 M1957.69 1513.66 Q1963.5 1513.66 1966.55 1518.27 Q1969.63 1522.85 1969.63 1531.6 Q1969.63 1540.33 1966.55 1544.94 Q1963.5 1549.52 1957.69 1549.52 Q1951.88 1549.52 1948.8 1544.94 Q1945.74 1540.33 1945.74 1531.6 Q1945.74 1522.85 1948.8 1518.27 Q1951.88 1513.66 1957.69 1513.66 Z\" fill=\"#000000\" fill-rule=\"nonzero\" fill-opacity=\"1\" /><path clip-path=\"url(#clip450)\" d=\"M1977.85 1542.97 L1982.73 1542.97 L1982.73 1548.85 L1977.85 1548.85 L1977.85 1542.97 Z\" fill=\"#000000\" fill-rule=\"nonzero\" fill-opacity=\"1\" /><path clip-path=\"url(#clip450)\" d=\"M2002.92 1532.44 Q1999.59 1532.44 1997.66 1534.22 Q1995.77 1536 1995.77 1539.13 Q1995.77 1542.25 1997.66 1544.03 Q1999.59 1545.82 2002.92 1545.82 Q2006.25 1545.82 2008.17 1544.03 Q2010.09 1542.23 2010.09 1539.13 Q2010.09 1536 2008.17 1534.22 Q2006.28 1532.44 2002.92 1532.44 M1998.24 1530.45 Q1995.23 1529.7 1993.54 1527.64 Q1991.88 1525.58 1991.88 1522.62 Q1991.88 1518.48 1994.82 1516.07 Q1997.78 1513.66 2002.92 1513.66 Q2008.08 1513.66 2011.02 1516.07 Q2013.96 1518.48 2013.96 1522.62 Q2013.96 1525.58 2012.27 1527.64 Q2010.6 1529.7 2007.62 1530.45 Q2011 1531.23 2012.87 1533.52 Q2014.77 1535.82 2014.77 1539.13 Q2014.77 1544.15 2011.69 1546.83 Q2008.64 1549.52 2002.92 1549.52 Q1997.2 1549.52 1994.12 1546.83 Q1991.07 1544.15 1991.07 1539.13 Q1991.07 1535.82 1992.96 1533.52 Q1994.86 1531.23 1998.24 1530.45 M1996.53 1523.06 Q1996.53 1525.75 1998.2 1527.25 Q1999.89 1528.76 2002.92 1528.76 Q2005.93 1528.76 2007.62 1527.25 Q2009.33 1525.75 2009.33 1523.06 Q2009.33 1520.38 2007.62 1518.87 Q2005.93 1517.37 2002.92 1517.37 Q1999.89 1517.37 1998.2 1518.87 Q1996.53 1520.38 1996.53 1523.06 Z\" fill=\"#000000\" fill-rule=\"nonzero\" fill-opacity=\"1\" /><polyline clip-path=\"url(#clip452)\" style=\"stroke:#000000; stroke-linecap:round; stroke-linejoin:round; stroke-width:2; stroke-opacity:0.1; fill:none\" points=\"112.177,1445.72 2352.76,1445.72 \"/>\n",
       "<polyline clip-path=\"url(#clip452)\" style=\"stroke:#000000; stroke-linecap:round; stroke-linejoin:round; stroke-width:2; stroke-opacity:0.1; fill:none\" points=\"112.177,1046.38 2352.76,1046.38 \"/>\n",
       "<polyline clip-path=\"url(#clip452)\" style=\"stroke:#000000; stroke-linecap:round; stroke-linejoin:round; stroke-width:2; stroke-opacity:0.1; fill:none\" points=\"112.177,647.045 2352.76,647.045 \"/>\n",
       "<polyline clip-path=\"url(#clip452)\" style=\"stroke:#000000; stroke-linecap:round; stroke-linejoin:round; stroke-width:2; stroke-opacity:0.1; fill:none\" points=\"112.177,247.71 2352.76,247.71 \"/>\n",
       "<polyline clip-path=\"url(#clip450)\" style=\"stroke:#000000; stroke-linecap:round; stroke-linejoin:round; stroke-width:4; stroke-opacity:1; fill:none\" points=\"112.177,1486.45 112.177,47.2441 \"/>\n",
       "<polyline clip-path=\"url(#clip450)\" style=\"stroke:#000000; stroke-linecap:round; stroke-linejoin:round; stroke-width:4; stroke-opacity:1; fill:none\" points=\"112.177,1445.72 131.075,1445.72 \"/>\n",
       "<polyline clip-path=\"url(#clip450)\" style=\"stroke:#000000; stroke-linecap:round; stroke-linejoin:round; stroke-width:4; stroke-opacity:1; fill:none\" points=\"112.177,1046.38 131.075,1046.38 \"/>\n",
       "<polyline clip-path=\"url(#clip450)\" style=\"stroke:#000000; stroke-linecap:round; stroke-linejoin:round; stroke-width:4; stroke-opacity:1; fill:none\" points=\"112.177,647.045 131.075,647.045 \"/>\n",
       "<polyline clip-path=\"url(#clip450)\" style=\"stroke:#000000; stroke-linecap:round; stroke-linejoin:round; stroke-width:4; stroke-opacity:1; fill:none\" points=\"112.177,247.71 131.075,247.71 \"/>\n",
       "<path clip-path=\"url(#clip450)\" d=\"M64.2328 1431.51 Q60.6217 1431.51 58.793 1435.08 Q56.9875 1438.62 56.9875 1445.75 Q56.9875 1452.86 58.793 1456.42 Q60.6217 1459.96 64.2328 1459.96 Q67.867 1459.96 69.6726 1456.42 Q71.5013 1452.86 71.5013 1445.75 Q71.5013 1438.62 69.6726 1435.08 Q67.867 1431.51 64.2328 1431.51 M64.2328 1427.81 Q70.0429 1427.81 73.0985 1432.42 Q76.1772 1437 76.1772 1445.75 Q76.1772 1454.48 73.0985 1459.08 Q70.0429 1463.67 64.2328 1463.67 Q58.4226 1463.67 55.344 1459.08 Q52.2884 1454.48 52.2884 1445.75 Q52.2884 1437 55.344 1432.42 Q58.4226 1427.81 64.2328 1427.81 Z\" fill=\"#000000\" fill-rule=\"nonzero\" fill-opacity=\"1\" /><path clip-path=\"url(#clip450)\" d=\"M59.8578 1059.73 L76.1772 1059.73 L76.1772 1063.66 L54.2328 1063.66 L54.2328 1059.73 Q56.8949 1056.97 61.4782 1052.34 Q66.0846 1047.69 67.2652 1046.35 Q69.5105 1043.82 70.3902 1042.09 Q71.2929 1040.33 71.2929 1038.64 Q71.2929 1035.88 69.3485 1034.15 Q67.4272 1032.41 64.3254 1032.41 Q62.1263 1032.41 59.6726 1033.17 Q57.2421 1033.94 54.4643 1035.49 L54.4643 1030.77 Q57.2884 1029.63 59.7421 1029.05 Q62.1958 1028.48 64.2328 1028.48 Q69.6031 1028.48 72.7976 1031.16 Q75.992 1033.85 75.992 1038.34 Q75.992 1040.47 75.1818 1042.39 Q74.3948 1044.29 72.2883 1046.88 Q71.7096 1047.55 68.6078 1050.77 Q65.5059 1053.96 59.8578 1059.73 Z\" fill=\"#000000\" fill-rule=\"nonzero\" fill-opacity=\"1\" /><path clip-path=\"url(#clip450)\" d=\"M66.5939 633.839 L54.7884 652.288 L66.5939 652.288 L66.5939 633.839 M65.367 629.765 L71.2466 629.765 L71.2466 652.288 L76.1772 652.288 L76.1772 656.177 L71.2466 656.177 L71.2466 664.325 L66.5939 664.325 L66.5939 656.177 L50.9921 656.177 L50.9921 651.663 L65.367 629.765 Z\" fill=\"#000000\" fill-rule=\"nonzero\" fill-opacity=\"1\" /><path clip-path=\"url(#clip450)\" d=\"M64.6495 245.847 Q61.5013 245.847 59.6495 248 Q57.8208 250.152 57.8208 253.902 Q57.8208 257.629 59.6495 259.805 Q61.5013 261.958 64.6495 261.958 Q67.7976 261.958 69.6263 259.805 Q71.4781 257.629 71.4781 253.902 Q71.4781 250.152 69.6263 248 Q67.7976 245.847 64.6495 245.847 M73.9318 231.194 L73.9318 235.453 Q72.1726 234.62 70.367 234.18 Q68.5846 233.74 66.8254 233.74 Q62.1958 233.74 59.7421 236.865 Q57.3115 239.99 56.9643 246.31 Q58.33 244.296 60.3902 243.231 Q62.4504 242.143 64.9272 242.143 Q70.1355 242.143 73.1448 245.315 Q76.1772 248.463 76.1772 253.902 Q76.1772 259.226 73.029 262.444 Q69.8809 265.662 64.6495 265.662 Q58.6541 265.662 55.4828 261.078 Q52.3116 256.472 52.3116 247.745 Q52.3116 239.551 56.2004 234.69 Q60.0893 229.805 66.6402 229.805 Q68.3994 229.805 70.1818 230.153 Q71.9874 230.5 73.9318 231.194 Z\" fill=\"#000000\" fill-rule=\"nonzero\" fill-opacity=\"1\" /><path clip-path=\"url(#clip452)\" d=\"M235.413 1440.72 L235.413 1445.72 L318.501 1445.72 L318.501 1440.72 L235.413 1440.72 L235.413 1440.72  Z\" fill=\"#009af9\" fill-rule=\"evenodd\" fill-opacity=\"0.9\"/>\n",
       "<polyline clip-path=\"url(#clip452)\" style=\"stroke:#000000; stroke-linecap:round; stroke-linejoin:round; stroke-width:4; stroke-opacity:0.9; fill:none\" points=\"235.413,1440.72 235.413,1445.72 318.501,1445.72 318.501,1440.72 235.413,1440.72 \"/>\n",
       "<path clip-path=\"url(#clip452)\" d=\"M318.501 1415.77 L318.501 1445.72 L401.589 1445.72 L401.589 1415.77 L318.501 1415.77 L318.501 1415.77  Z\" fill=\"#009af9\" fill-rule=\"evenodd\" fill-opacity=\"0.9\"/>\n",
       "<polyline clip-path=\"url(#clip452)\" style=\"stroke:#000000; stroke-linecap:round; stroke-linejoin:round; stroke-width:4; stroke-opacity:0.9; fill:none\" points=\"318.501,1415.77 318.501,1445.72 401.589,1445.72 401.589,1415.77 318.501,1415.77 \"/>\n",
       "<path clip-path=\"url(#clip452)\" d=\"M401.589 1415.77 L401.589 1445.72 L484.676 1445.72 L484.676 1415.77 L401.589 1415.77 L401.589 1415.77  Z\" fill=\"#009af9\" fill-rule=\"evenodd\" fill-opacity=\"0.9\"/>\n",
       "<polyline clip-path=\"url(#clip452)\" style=\"stroke:#000000; stroke-linecap:round; stroke-linejoin:round; stroke-width:4; stroke-opacity:0.9; fill:none\" points=\"401.589,1415.77 401.589,1445.72 484.676,1445.72 484.676,1415.77 401.589,1415.77 \"/>\n",
       "<path clip-path=\"url(#clip452)\" d=\"M484.676 1335.9 L484.676 1445.72 L567.764 1445.72 L567.764 1335.9 L484.676 1335.9 L484.676 1335.9  Z\" fill=\"#009af9\" fill-rule=\"evenodd\" fill-opacity=\"0.9\"/>\n",
       "<polyline clip-path=\"url(#clip452)\" style=\"stroke:#000000; stroke-linecap:round; stroke-linejoin:round; stroke-width:4; stroke-opacity:0.9; fill:none\" points=\"484.676,1335.9 484.676,1445.72 567.764,1445.72 567.764,1335.9 484.676,1335.9 \"/>\n",
       "<path clip-path=\"url(#clip452)\" d=\"M567.764 1171.17 L567.764 1445.72 L650.852 1445.72 L650.852 1171.17 L567.764 1171.17 L567.764 1171.17  Z\" fill=\"#009af9\" fill-rule=\"evenodd\" fill-opacity=\"0.9\"/>\n",
       "<polyline clip-path=\"url(#clip452)\" style=\"stroke:#000000; stroke-linecap:round; stroke-linejoin:round; stroke-width:4; stroke-opacity:0.9; fill:none\" points=\"567.764,1171.17 567.764,1445.72 650.852,1445.72 650.852,1171.17 567.764,1171.17 \"/>\n",
       "<path clip-path=\"url(#clip452)\" d=\"M650.852 926.58 L650.852 1445.72 L733.94 1445.72 L733.94 926.58 L650.852 926.58 L650.852 926.58  Z\" fill=\"#009af9\" fill-rule=\"evenodd\" fill-opacity=\"0.9\"/>\n",
       "<polyline clip-path=\"url(#clip452)\" style=\"stroke:#000000; stroke-linecap:round; stroke-linejoin:round; stroke-width:4; stroke-opacity:0.9; fill:none\" points=\"650.852,926.58 650.852,1445.72 733.94,1445.72 733.94,926.58 650.852,926.58 \"/>\n",
       "<path clip-path=\"url(#clip452)\" d=\"M733.94 706.946 L733.94 1445.72 L817.028 1445.72 L817.028 706.946 L733.94 706.946 L733.94 706.946  Z\" fill=\"#009af9\" fill-rule=\"evenodd\" fill-opacity=\"0.9\"/>\n",
       "<polyline clip-path=\"url(#clip452)\" style=\"stroke:#000000; stroke-linecap:round; stroke-linejoin:round; stroke-width:4; stroke-opacity:0.9; fill:none\" points=\"733.94,706.946 733.94,1445.72 817.028,1445.72 817.028,706.946 733.94,706.946 \"/>\n",
       "<path clip-path=\"url(#clip452)\" d=\"M817.028 397.461 L817.028 1445.72 L900.115 1445.72 L900.115 397.461 L817.028 397.461 L817.028 397.461  Z\" fill=\"#009af9\" fill-rule=\"evenodd\" fill-opacity=\"0.9\"/>\n",
       "<polyline clip-path=\"url(#clip452)\" style=\"stroke:#000000; stroke-linecap:round; stroke-linejoin:round; stroke-width:4; stroke-opacity:0.9; fill:none\" points=\"817.028,397.461 817.028,1445.72 900.115,1445.72 900.115,397.461 817.028,397.461 \"/>\n",
       "<path clip-path=\"url(#clip452)\" d=\"M900.115 287.644 L900.115 1445.72 L983.203 1445.72 L983.203 287.644 L900.115 287.644 L900.115 287.644  Z\" fill=\"#009af9\" fill-rule=\"evenodd\" fill-opacity=\"0.9\"/>\n",
       "<polyline clip-path=\"url(#clip452)\" style=\"stroke:#000000; stroke-linecap:round; stroke-linejoin:round; stroke-width:4; stroke-opacity:0.9; fill:none\" points=\"900.115,287.644 900.115,1445.72 983.203,1445.72 983.203,287.644 900.115,287.644 \"/>\n",
       "<path clip-path=\"url(#clip452)\" d=\"M983.203 87.9763 L983.203 1445.72 L1066.29 1445.72 L1066.29 87.9763 L983.203 87.9763 L983.203 87.9763  Z\" fill=\"#009af9\" fill-rule=\"evenodd\" fill-opacity=\"0.9\"/>\n",
       "<polyline clip-path=\"url(#clip452)\" style=\"stroke:#000000; stroke-linecap:round; stroke-linejoin:round; stroke-width:4; stroke-opacity:0.9; fill:none\" points=\"983.203,87.9763 983.203,1445.72 1066.29,1445.72 1066.29,87.9763 983.203,87.9763 \"/>\n",
       "<path clip-path=\"url(#clip452)\" d=\"M1066.29 167.843 L1066.29 1445.72 L1149.38 1445.72 L1149.38 167.843 L1066.29 167.843 L1066.29 167.843  Z\" fill=\"#009af9\" fill-rule=\"evenodd\" fill-opacity=\"0.9\"/>\n",
       "<polyline clip-path=\"url(#clip452)\" style=\"stroke:#000000; stroke-linecap:round; stroke-linejoin:round; stroke-width:4; stroke-opacity:0.9; fill:none\" points=\"1066.29,167.843 1066.29,1445.72 1149.38,1445.72 1149.38,167.843 1066.29,167.843 \"/>\n",
       "<path clip-path=\"url(#clip452)\" d=\"M1149.38 407.444 L1149.38 1445.72 L1232.47 1445.72 L1232.47 407.444 L1149.38 407.444 L1149.38 407.444  Z\" fill=\"#009af9\" fill-rule=\"evenodd\" fill-opacity=\"0.9\"/>\n",
       "<polyline clip-path=\"url(#clip452)\" style=\"stroke:#000000; stroke-linecap:round; stroke-linejoin:round; stroke-width:4; stroke-opacity:0.9; fill:none\" points=\"1149.38,407.444 1149.38,1445.72 1232.47,1445.72 1232.47,407.444 1149.38,407.444 \"/>\n",
       "<path clip-path=\"url(#clip452)\" d=\"M1232.47 597.129 L1232.47 1445.72 L1315.55 1445.72 L1315.55 597.129 L1232.47 597.129 L1232.47 597.129  Z\" fill=\"#009af9\" fill-rule=\"evenodd\" fill-opacity=\"0.9\"/>\n",
       "<polyline clip-path=\"url(#clip452)\" style=\"stroke:#000000; stroke-linecap:round; stroke-linejoin:round; stroke-width:4; stroke-opacity:0.9; fill:none\" points=\"1232.47,597.129 1232.47,1445.72 1315.55,1445.72 1315.55,597.129 1232.47,597.129 \"/>\n",
       "<path clip-path=\"url(#clip452)\" d=\"M1315.55 946.547 L1315.55 1445.72 L1398.64 1445.72 L1398.64 946.547 L1315.55 946.547 L1315.55 946.547  Z\" fill=\"#009af9\" fill-rule=\"evenodd\" fill-opacity=\"0.9\"/>\n",
       "<polyline clip-path=\"url(#clip452)\" style=\"stroke:#000000; stroke-linecap:round; stroke-linejoin:round; stroke-width:4; stroke-opacity:0.9; fill:none\" points=\"1315.55,946.547 1315.55,1445.72 1398.64,1445.72 1398.64,946.547 1315.55,946.547 \"/>\n",
       "<path clip-path=\"url(#clip452)\" d=\"M1398.64 1011.44 L1398.64 1445.72 L1481.73 1445.72 L1481.73 1011.44 L1398.64 1011.44 L1398.64 1011.44  Z\" fill=\"#009af9\" fill-rule=\"evenodd\" fill-opacity=\"0.9\"/>\n",
       "<polyline clip-path=\"url(#clip452)\" style=\"stroke:#000000; stroke-linecap:round; stroke-linejoin:round; stroke-width:4; stroke-opacity:0.9; fill:none\" points=\"1398.64,1011.44 1398.64,1445.72 1481.73,1445.72 1481.73,1011.44 1398.64,1011.44 \"/>\n",
       "<path clip-path=\"url(#clip452)\" d=\"M1481.73 1161.19 L1481.73 1445.72 L1564.82 1445.72 L1564.82 1161.19 L1481.73 1161.19 L1481.73 1161.19  Z\" fill=\"#009af9\" fill-rule=\"evenodd\" fill-opacity=\"0.9\"/>\n",
       "<polyline clip-path=\"url(#clip452)\" style=\"stroke:#000000; stroke-linecap:round; stroke-linejoin:round; stroke-width:4; stroke-opacity:0.9; fill:none\" points=\"1481.73,1161.19 1481.73,1445.72 1564.82,1445.72 1564.82,1161.19 1481.73,1161.19 \"/>\n",
       "<path clip-path=\"url(#clip452)\" d=\"M1564.82 1266.01 L1564.82 1445.72 L1647.91 1445.72 L1647.91 1266.01 L1564.82 1266.01 L1564.82 1266.01  Z\" fill=\"#009af9\" fill-rule=\"evenodd\" fill-opacity=\"0.9\"/>\n",
       "<polyline clip-path=\"url(#clip452)\" style=\"stroke:#000000; stroke-linecap:round; stroke-linejoin:round; stroke-width:4; stroke-opacity:0.9; fill:none\" points=\"1564.82,1266.01 1564.82,1445.72 1647.91,1445.72 1647.91,1266.01 1564.82,1266.01 \"/>\n",
       "<path clip-path=\"url(#clip452)\" d=\"M1647.91 1375.83 L1647.91 1445.72 L1730.99 1445.72 L1730.99 1375.83 L1647.91 1375.83 L1647.91 1375.83  Z\" fill=\"#009af9\" fill-rule=\"evenodd\" fill-opacity=\"0.9\"/>\n",
       "<polyline clip-path=\"url(#clip452)\" style=\"stroke:#000000; stroke-linecap:round; stroke-linejoin:round; stroke-width:4; stroke-opacity:0.9; fill:none\" points=\"1647.91,1375.83 1647.91,1445.72 1730.99,1445.72 1730.99,1375.83 1647.91,1375.83 \"/>\n",
       "<path clip-path=\"url(#clip452)\" d=\"M1730.99 1415.77 L1730.99 1445.72 L1814.08 1445.72 L1814.08 1415.77 L1730.99 1415.77 L1730.99 1415.77  Z\" fill=\"#009af9\" fill-rule=\"evenodd\" fill-opacity=\"0.9\"/>\n",
       "<polyline clip-path=\"url(#clip452)\" style=\"stroke:#000000; stroke-linecap:round; stroke-linejoin:round; stroke-width:4; stroke-opacity:0.9; fill:none\" points=\"1730.99,1415.77 1730.99,1445.72 1814.08,1445.72 1814.08,1415.77 1730.99,1415.77 \"/>\n",
       "<path clip-path=\"url(#clip452)\" d=\"M1814.08 1415.77 L1814.08 1445.72 L1897.17 1445.72 L1897.17 1415.77 L1814.08 1415.77 L1814.08 1415.77  Z\" fill=\"#009af9\" fill-rule=\"evenodd\" fill-opacity=\"0.9\"/>\n",
       "<polyline clip-path=\"url(#clip452)\" style=\"stroke:#000000; stroke-linecap:round; stroke-linejoin:round; stroke-width:4; stroke-opacity:0.9; fill:none\" points=\"1814.08,1415.77 1814.08,1445.72 1897.17,1445.72 1897.17,1415.77 1814.08,1415.77 \"/>\n",
       "<path clip-path=\"url(#clip452)\" d=\"M1897.17 1445.72 L1897.17 1445.72 L1980.26 1445.72 L1980.26 1445.72 L1897.17 1445.72 L1897.17 1445.72  Z\" fill=\"#009af9\" fill-rule=\"evenodd\" fill-opacity=\"0.9\"/>\n",
       "<polyline clip-path=\"url(#clip452)\" style=\"stroke:#000000; stroke-linecap:round; stroke-linejoin:round; stroke-width:4; stroke-opacity:0.9; fill:none\" points=\"1897.17,1445.72 1897.17,1445.72 1980.26,1445.72 1897.17,1445.72 \"/>\n",
       "<path clip-path=\"url(#clip452)\" d=\"M1980.26 1430.74 L1980.26 1445.72 L2063.34 1445.72 L2063.34 1430.74 L1980.26 1430.74 L1980.26 1430.74  Z\" fill=\"#009af9\" fill-rule=\"evenodd\" fill-opacity=\"0.9\"/>\n",
       "<polyline clip-path=\"url(#clip452)\" style=\"stroke:#000000; stroke-linecap:round; stroke-linejoin:round; stroke-width:4; stroke-opacity:0.9; fill:none\" points=\"1980.26,1430.74 1980.26,1445.72 2063.34,1445.72 2063.34,1430.74 1980.26,1430.74 \"/>\n",
       "<path clip-path=\"url(#clip452)\" d=\"M2063.34 1445.72 L2063.34 1445.72 L2146.43 1445.72 L2146.43 1445.72 L2063.34 1445.72 L2063.34 1445.72  Z\" fill=\"#009af9\" fill-rule=\"evenodd\" fill-opacity=\"0.9\"/>\n",
       "<polyline clip-path=\"url(#clip452)\" style=\"stroke:#000000; stroke-linecap:round; stroke-linejoin:round; stroke-width:4; stroke-opacity:0.9; fill:none\" points=\"2063.34,1445.72 2063.34,1445.72 2146.43,1445.72 2063.34,1445.72 \"/>\n",
       "<path clip-path=\"url(#clip452)\" d=\"M2146.43 1440.72 L2146.43 1445.72 L2229.52 1445.72 L2229.52 1440.72 L2146.43 1440.72 L2146.43 1440.72  Z\" fill=\"#009af9\" fill-rule=\"evenodd\" fill-opacity=\"0.9\"/>\n",
       "<polyline clip-path=\"url(#clip452)\" style=\"stroke:#000000; stroke-linecap:round; stroke-linejoin:round; stroke-width:4; stroke-opacity:0.9; fill:none\" points=\"2146.43,1440.72 2146.43,1445.72 2229.52,1445.72 2229.52,1440.72 2146.43,1440.72 \"/>\n",
       "<circle clip-path=\"url(#clip452)\" style=\"fill:#009af9; stroke:none; fill-opacity:0\" cx=\"276.957\" cy=\"1440.72\" r=\"2\"/>\n",
       "<circle clip-path=\"url(#clip452)\" style=\"fill:#009af9; stroke:none; fill-opacity:0\" cx=\"360.045\" cy=\"1415.77\" r=\"2\"/>\n",
       "<circle clip-path=\"url(#clip452)\" style=\"fill:#009af9; stroke:none; fill-opacity:0\" cx=\"443.132\" cy=\"1415.77\" r=\"2\"/>\n",
       "<circle clip-path=\"url(#clip452)\" style=\"fill:#009af9; stroke:none; fill-opacity:0\" cx=\"526.22\" cy=\"1335.9\" r=\"2\"/>\n",
       "<circle clip-path=\"url(#clip452)\" style=\"fill:#009af9; stroke:none; fill-opacity:0\" cx=\"609.308\" cy=\"1171.17\" r=\"2\"/>\n",
       "<circle clip-path=\"url(#clip452)\" style=\"fill:#009af9; stroke:none; fill-opacity:0\" cx=\"692.396\" cy=\"926.58\" r=\"2\"/>\n",
       "<circle clip-path=\"url(#clip452)\" style=\"fill:#009af9; stroke:none; fill-opacity:0\" cx=\"775.484\" cy=\"706.946\" r=\"2\"/>\n",
       "<circle clip-path=\"url(#clip452)\" style=\"fill:#009af9; stroke:none; fill-opacity:0\" cx=\"858.571\" cy=\"397.461\" r=\"2\"/>\n",
       "<circle clip-path=\"url(#clip452)\" style=\"fill:#009af9; stroke:none; fill-opacity:0\" cx=\"941.659\" cy=\"287.644\" r=\"2\"/>\n",
       "<circle clip-path=\"url(#clip452)\" style=\"fill:#009af9; stroke:none; fill-opacity:0\" cx=\"1024.75\" cy=\"87.9763\" r=\"2\"/>\n",
       "<circle clip-path=\"url(#clip452)\" style=\"fill:#009af9; stroke:none; fill-opacity:0\" cx=\"1107.83\" cy=\"167.843\" r=\"2\"/>\n",
       "<circle clip-path=\"url(#clip452)\" style=\"fill:#009af9; stroke:none; fill-opacity:0\" cx=\"1190.92\" cy=\"407.444\" r=\"2\"/>\n",
       "<circle clip-path=\"url(#clip452)\" style=\"fill:#009af9; stroke:none; fill-opacity:0\" cx=\"1274.01\" cy=\"597.129\" r=\"2\"/>\n",
       "<circle clip-path=\"url(#clip452)\" style=\"fill:#009af9; stroke:none; fill-opacity:0\" cx=\"1357.1\" cy=\"946.547\" r=\"2\"/>\n",
       "<circle clip-path=\"url(#clip452)\" style=\"fill:#009af9; stroke:none; fill-opacity:0\" cx=\"1440.19\" cy=\"1011.44\" r=\"2\"/>\n",
       "<circle clip-path=\"url(#clip452)\" style=\"fill:#009af9; stroke:none; fill-opacity:0\" cx=\"1523.27\" cy=\"1161.19\" r=\"2\"/>\n",
       "<circle clip-path=\"url(#clip452)\" style=\"fill:#009af9; stroke:none; fill-opacity:0\" cx=\"1606.36\" cy=\"1266.01\" r=\"2\"/>\n",
       "<circle clip-path=\"url(#clip452)\" style=\"fill:#009af9; stroke:none; fill-opacity:0\" cx=\"1689.45\" cy=\"1375.83\" r=\"2\"/>\n",
       "<circle clip-path=\"url(#clip452)\" style=\"fill:#009af9; stroke:none; fill-opacity:0\" cx=\"1772.54\" cy=\"1415.77\" r=\"2\"/>\n",
       "<circle clip-path=\"url(#clip452)\" style=\"fill:#009af9; stroke:none; fill-opacity:0\" cx=\"1855.63\" cy=\"1415.77\" r=\"2\"/>\n",
       "<circle clip-path=\"url(#clip452)\" style=\"fill:#009af9; stroke:none; fill-opacity:0\" cx=\"1938.71\" cy=\"1445.72\" r=\"2\"/>\n",
       "<circle clip-path=\"url(#clip452)\" style=\"fill:#009af9; stroke:none; fill-opacity:0\" cx=\"2021.8\" cy=\"1430.74\" r=\"2\"/>\n",
       "<circle clip-path=\"url(#clip452)\" style=\"fill:#009af9; stroke:none; fill-opacity:0\" cx=\"2104.89\" cy=\"1445.72\" r=\"2\"/>\n",
       "<circle clip-path=\"url(#clip452)\" style=\"fill:#009af9; stroke:none; fill-opacity:0\" cx=\"2187.98\" cy=\"1440.72\" r=\"2\"/>\n",
       "<path clip-path=\"url(#clip450)\" d=\"M2001.58 198.898 L2278.07 198.898 L2278.07 95.2176 L2001.58 95.2176  Z\" fill=\"#ffffff\" fill-rule=\"evenodd\" fill-opacity=\"1\"/>\n",
       "<polyline clip-path=\"url(#clip450)\" style=\"stroke:#000000; stroke-linecap:round; stroke-linejoin:round; stroke-width:4; stroke-opacity:1; fill:none\" points=\"2001.58,198.898 2278.07,198.898 2278.07,95.2176 2001.58,95.2176 2001.58,198.898 \"/>\n",
       "<path clip-path=\"url(#clip450)\" d=\"M2026.48 167.794 L2175.85 167.794 L2175.85 126.322 L2026.48 126.322 L2026.48 167.794  Z\" fill=\"#009af9\" fill-rule=\"evenodd\" fill-opacity=\"0.9\"/>\n",
       "<polyline clip-path=\"url(#clip450)\" style=\"stroke:#000000; stroke-linecap:round; stroke-linejoin:round; stroke-width:4; stroke-opacity:1; fill:none\" points=\"2026.48,167.794 2175.85,167.794 2175.85,126.322 2026.48,126.322 2026.48,167.794 \"/>\n",
       "<path clip-path=\"url(#clip450)\" d=\"M2214.59 166.745 Q2212.78 171.375 2211.07 172.787 Q2209.36 174.199 2206.49 174.199 L2203.08 174.199 L2203.08 170.634 L2205.58 170.634 Q2207.34 170.634 2208.31 169.8 Q2209.29 168.967 2210.47 165.865 L2211.23 163.921 L2200.74 138.412 L2205.26 138.412 L2213.36 158.689 L2221.46 138.412 L2225.98 138.412 L2214.59 166.745 Z\" fill=\"#000000\" fill-rule=\"nonzero\" fill-opacity=\"1\" /><path clip-path=\"url(#clip450)\" d=\"M2233.27 160.402 L2240.91 160.402 L2240.91 134.037 L2232.6 135.703 L2232.6 131.444 L2240.86 129.778 L2245.54 129.778 L2245.54 160.402 L2253.17 160.402 L2253.17 164.338 L2233.27 164.338 L2233.27 160.402 Z\" fill=\"#000000\" fill-rule=\"nonzero\" fill-opacity=\"1\" /></svg>\n"
      ]
     },
     "execution_count": 16,
     "metadata": {},
     "output_type": "execute_result"
    }
   ],
   "source": [
    "histogram(oddsratio_ha, normalize = true, alpha = 0.9)"
   ]
  },
  {
   "cell_type": "markdown",
   "id": "2d360a63-ffb7-406e-9dc4-0ba661872b2d",
   "metadata": {},
   "source": [
    "Define a wrapper function to compute odds ratio and generate bootstrap confidence intervals"
   ]
  },
  {
   "cell_type": "code",
   "execution_count": 17,
   "id": "5378b19a-4ded-46a4-9107-8536db745496",
   "metadata": {},
   "outputs": [
    {
     "data": {
      "text/plain": [
       "OddsRatio (generic function with 4 methods)"
      ]
     },
     "execution_count": 17,
     "metadata": {},
     "output_type": "execute_result"
    }
   ],
   "source": [
    "function OddsRatio(ctable::Table, outcome::Symbol, totals::Symbol = :n, groups::Symbol = :Treatment,\n",
    "                   pctl::Float64 = 95.0; nboot::Int = 2000)\n",
    "    \"\"\"Compute odds ratio for outcome of interest\n",
    "    from input contingency table and compute\n",
    "    percentile confidence interval of odds ratio\n",
    "    by simulating nboot bootstap replicates. \n",
    "    Optionally return the bootstrap distribution\"\"\"\n",
    "    # Compute odds and odds ratio\n",
    "    oddsTable = Odds(ctable, outcome, totals, groups)\n",
    "    # Simulate bootstrap distributions for each treatment\n",
    "    bootDistr = zeros((nboot, 2))\n",
    "    for row = 1:2\n",
    "        e, n = [getproperty(ctable[row], p) \n",
    "                for p = (outcome, totals)]\n",
    "        bootDistr[:,row] = BootOdds(e, n, nboot)\n",
    "    end\n",
    "    bootOR = bootDistr[:,2] ./ bootDistr[:,1]\n",
    "    # Compute percentile confidence interval from bootstrap samples\n",
    "    if (pctl <= 0) | (pctl >= 100)\n",
    "        pctl = 95.0\n",
    "    end\n",
    "    lo = (100 - pctl)/2\n",
    "    hi = 100 - lo\n",
    "    CI = percentile(bootOR, [lo, hi])\n",
    "    bootCI = (Percentile = pctl, CI = CI)\n",
    "    # Gather results\n",
    "    return (OddsRatio = oddsTable, \n",
    "            CI        = bootCI, \n",
    "            Distr     = bootOR)\n",
    "end"
   ]
  },
  {
   "cell_type": "markdown",
   "id": "75e74122-3942-439a-849b-ea90a7aa942e",
   "metadata": {},
   "source": [
    "Odds ratio analysis for both outcomes"
   ]
  },
  {
   "cell_type": "code",
   "execution_count": 35,
   "id": "d6b26a50-4c2e-4671-9a64-7f6c04ef5eb2",
   "metadata": {
    "tags": []
   },
   "outputs": [
    {
     "data": {
      "text/plain": [
       "Table with 3 columns and 2 rows:\n",
       "     Treatment  Odds       OddsRatio\n",
       "   ┌────────────────────────────────\n",
       " 1 │ Placebo    0.0221399  1.0\n",
       " 2 │ Aspirin    0.0127546  0.576093"
      ]
     },
     "execution_count": 35,
     "metadata": {},
     "output_type": "execute_result"
    }
   ],
   "source": [
    "# Compute odd ratio and CI for heart attacks\n",
    "haOR = OddsRatio(t, :HeartAttacks)\n",
    "haOR.OddsRatio"
   ]
  },
  {
   "cell_type": "code",
   "execution_count": 36,
   "id": "a9a66235-49f3-43a7-8af7-518f20a553f2",
   "metadata": {},
   "outputs": [
    {
     "data": {
      "text/plain": [
       "(Percentile = 95.0, CI = [0.4655044616962059, 0.7100297278163149])"
      ]
     },
     "execution_count": 36,
     "metadata": {},
     "output_type": "execute_result"
    }
   ],
   "source": [
    "haOR.CI"
   ]
  },
  {
   "cell_type": "markdown",
   "id": "5aaff7c2-70f1-4b4d-ba4d-94b0bfbb8cc3",
   "metadata": {},
   "source": [
    "Analysis of stroke data"
   ]
  },
  {
   "cell_type": "code",
   "execution_count": 37,
   "id": "9efa3e7a-d8e9-4b54-8466-31f0bcdcfbee",
   "metadata": {},
   "outputs": [
    {
     "data": {
      "text/plain": [
       "Table with 3 columns and 2 rows:\n",
       "     Treatment  Odds        OddsRatio\n",
       "   ┌─────────────────────────────────\n",
       " 1 │ Placebo    0.00896123  1.0\n",
       " 2 │ Aspirin    0.0108994   1.21629"
      ]
     },
     "execution_count": 37,
     "metadata": {},
     "output_type": "execute_result"
    }
   ],
   "source": [
    "stOR = OddsRatio(t, :Strokes)\n",
    "stOR.OddsRatio"
   ]
  },
  {
   "cell_type": "code",
   "execution_count": 38,
   "id": "5409ac3c-b5e2-4db8-b7e5-d4f56b2458b6",
   "metadata": {},
   "outputs": [
    {
     "data": {
      "text/plain": [
       "(Percentile = 95.0, CI = [0.9156188391388423, 1.611707058667726])"
      ]
     },
     "execution_count": 38,
     "metadata": {},
     "output_type": "execute_result"
    }
   ],
   "source": [
    "stOR.CI"
   ]
  },
  {
   "cell_type": "markdown",
   "id": "a972babf-2327-410b-92e6-7f37d231a92b",
   "metadata": {},
   "source": [
    "Plot histograms of bootstrap distributions"
   ]
  },
  {
   "cell_type": "code",
   "execution_count": 42,
   "id": "8309c9c3-fd33-468c-a3ec-5110a493035d",
   "metadata": {},
   "outputs": [
    {
     "data": {
      "image/svg+xml": [
       "<?xml version=\"1.0\" encoding=\"utf-8\"?>\n",
       "<svg xmlns=\"http://www.w3.org/2000/svg\" xmlns:xlink=\"http://www.w3.org/1999/xlink\" width=\"600\" height=\"400\" viewBox=\"0 0 2400 1600\">\n",
       "<defs>\n",
       "  <clipPath id=\"clip010\">\n",
       "    <rect x=\"0\" y=\"0\" width=\"2400\" height=\"1600\"/>\n",
       "  </clipPath>\n",
       "</defs>\n",
       "<path clip-path=\"url(#clip010)\" d=\"M0 1600 L2400 1600 L2400 0 L0 0  Z\" fill=\"#ffffff\" fill-rule=\"evenodd\" fill-opacity=\"1\"/>\n",
       "<defs>\n",
       "  <clipPath id=\"clip011\">\n",
       "    <rect x=\"480\" y=\"0\" width=\"1681\" height=\"1600\"/>\n",
       "  </clipPath>\n",
       "</defs>\n",
       "<path clip-path=\"url(#clip010)\" d=\"M170.857 1486.45 L2352.76 1486.45 L2352.76 47.2441 L170.857 47.2441  Z\" fill=\"#ffffff\" fill-rule=\"evenodd\" fill-opacity=\"1\"/>\n",
       "<defs>\n",
       "  <clipPath id=\"clip012\">\n",
       "    <rect x=\"170\" y=\"47\" width=\"2183\" height=\"1440\"/>\n",
       "  </clipPath>\n",
       "</defs>\n",
       "<polyline clip-path=\"url(#clip012)\" style=\"stroke:#000000; stroke-linecap:round; stroke-linejoin:round; stroke-width:2; stroke-opacity:0.1; fill:none\" points=\"499.117,1486.45 499.117,47.2441 \"/>\n",
       "<polyline clip-path=\"url(#clip012)\" style=\"stroke:#000000; stroke-linecap:round; stroke-linejoin:round; stroke-width:2; stroke-opacity:0.1; fill:none\" points=\"873.076,1486.45 873.076,47.2441 \"/>\n",
       "<polyline clip-path=\"url(#clip012)\" style=\"stroke:#000000; stroke-linecap:round; stroke-linejoin:round; stroke-width:2; stroke-opacity:0.1; fill:none\" points=\"1247.04,1486.45 1247.04,47.2441 \"/>\n",
       "<polyline clip-path=\"url(#clip012)\" style=\"stroke:#000000; stroke-linecap:round; stroke-linejoin:round; stroke-width:2; stroke-opacity:0.1; fill:none\" points=\"1620.99,1486.45 1620.99,47.2441 \"/>\n",
       "<polyline clip-path=\"url(#clip012)\" style=\"stroke:#000000; stroke-linecap:round; stroke-linejoin:round; stroke-width:2; stroke-opacity:0.1; fill:none\" points=\"1994.95,1486.45 1994.95,47.2441 \"/>\n",
       "<polyline clip-path=\"url(#clip010)\" style=\"stroke:#000000; stroke-linecap:round; stroke-linejoin:round; stroke-width:4; stroke-opacity:1; fill:none\" points=\"170.857,1486.45 2352.76,1486.45 \"/>\n",
       "<polyline clip-path=\"url(#clip010)\" style=\"stroke:#000000; stroke-linecap:round; stroke-linejoin:round; stroke-width:4; stroke-opacity:1; fill:none\" points=\"499.117,1486.45 499.117,1467.55 \"/>\n",
       "<polyline clip-path=\"url(#clip010)\" style=\"stroke:#000000; stroke-linecap:round; stroke-linejoin:round; stroke-width:4; stroke-opacity:1; fill:none\" points=\"873.076,1486.45 873.076,1467.55 \"/>\n",
       "<polyline clip-path=\"url(#clip010)\" style=\"stroke:#000000; stroke-linecap:round; stroke-linejoin:round; stroke-width:4; stroke-opacity:1; fill:none\" points=\"1247.04,1486.45 1247.04,1467.55 \"/>\n",
       "<polyline clip-path=\"url(#clip010)\" style=\"stroke:#000000; stroke-linecap:round; stroke-linejoin:round; stroke-width:4; stroke-opacity:1; fill:none\" points=\"1620.99,1486.45 1620.99,1467.55 \"/>\n",
       "<polyline clip-path=\"url(#clip010)\" style=\"stroke:#000000; stroke-linecap:round; stroke-linejoin:round; stroke-width:4; stroke-opacity:1; fill:none\" points=\"1994.95,1486.45 1994.95,1467.55 \"/>\n",
       "<path clip-path=\"url(#clip010)\" d=\"M476.421 1517.37 Q472.81 1517.37 470.981 1520.93 Q469.175 1524.47 469.175 1531.6 Q469.175 1538.71 470.981 1542.27 Q472.81 1545.82 476.421 1545.82 Q480.055 1545.82 481.86 1542.27 Q483.689 1538.71 483.689 1531.6 Q483.689 1524.47 481.86 1520.93 Q480.055 1517.37 476.421 1517.37 M476.421 1513.66 Q482.231 1513.66 485.286 1518.27 Q488.365 1522.85 488.365 1531.6 Q488.365 1540.33 485.286 1544.94 Q482.231 1549.52 476.421 1549.52 Q470.611 1549.52 467.532 1544.94 Q464.476 1540.33 464.476 1531.6 Q464.476 1522.85 467.532 1518.27 Q470.611 1513.66 476.421 1513.66 Z\" fill=\"#000000\" fill-rule=\"nonzero\" fill-opacity=\"1\" /><path clip-path=\"url(#clip010)\" d=\"M496.583 1542.97 L501.467 1542.97 L501.467 1548.85 L496.583 1548.85 L496.583 1542.97 Z\" fill=\"#000000\" fill-rule=\"nonzero\" fill-opacity=\"1\" /><path clip-path=\"url(#clip010)\" d=\"M522.231 1529.7 Q519.083 1529.7 517.231 1531.86 Q515.402 1534.01 515.402 1537.76 Q515.402 1541.49 517.231 1543.66 Q519.083 1545.82 522.231 1545.82 Q525.379 1545.82 527.207 1543.66 Q529.059 1541.49 529.059 1537.76 Q529.059 1534.01 527.207 1531.86 Q525.379 1529.7 522.231 1529.7 M531.513 1515.05 L531.513 1519.31 Q529.754 1518.48 527.948 1518.04 Q526.166 1517.6 524.407 1517.6 Q519.777 1517.6 517.323 1520.72 Q514.893 1523.85 514.546 1530.17 Q515.911 1528.15 517.971 1527.09 Q520.032 1526 522.508 1526 Q527.717 1526 530.726 1529.17 Q533.758 1532.32 533.758 1537.76 Q533.758 1543.08 530.61 1546.3 Q527.462 1549.52 522.231 1549.52 Q516.235 1549.52 513.064 1544.94 Q509.893 1540.33 509.893 1531.6 Q509.893 1523.41 513.782 1518.55 Q517.67 1513.66 524.221 1513.66 Q525.981 1513.66 527.763 1514.01 Q529.569 1514.36 531.513 1515.05 Z\" fill=\"#000000\" fill-rule=\"nonzero\" fill-opacity=\"1\" /><path clip-path=\"url(#clip010)\" d=\"M850.553 1517.37 Q846.942 1517.37 845.114 1520.93 Q843.308 1524.47 843.308 1531.6 Q843.308 1538.71 845.114 1542.27 Q846.942 1545.82 850.553 1545.82 Q854.188 1545.82 855.993 1542.27 Q857.822 1538.71 857.822 1531.6 Q857.822 1524.47 855.993 1520.93 Q854.188 1517.37 850.553 1517.37 M850.553 1513.66 Q856.363 1513.66 859.419 1518.27 Q862.498 1522.85 862.498 1531.6 Q862.498 1540.33 859.419 1544.94 Q856.363 1549.52 850.553 1549.52 Q844.743 1549.52 841.664 1544.94 Q838.609 1540.33 838.609 1531.6 Q838.609 1522.85 841.664 1518.27 Q844.743 1513.66 850.553 1513.66 Z\" fill=\"#000000\" fill-rule=\"nonzero\" fill-opacity=\"1\" /><path clip-path=\"url(#clip010)\" d=\"M870.715 1542.97 L875.599 1542.97 L875.599 1548.85 L870.715 1548.85 L870.715 1542.97 Z\" fill=\"#000000\" fill-rule=\"nonzero\" fill-opacity=\"1\" /><path clip-path=\"url(#clip010)\" d=\"M885.923 1548.13 L885.923 1543.87 Q887.683 1544.7 889.488 1545.14 Q891.294 1545.58 893.03 1545.58 Q897.66 1545.58 900.09 1542.48 Q902.544 1539.36 902.891 1533.01 Q901.548 1535.01 899.488 1536.07 Q897.428 1537.13 894.928 1537.13 Q889.743 1537.13 886.711 1534.01 Q883.701 1530.86 883.701 1525.42 Q883.701 1520.1 886.849 1516.88 Q889.998 1513.66 895.229 1513.66 Q901.224 1513.66 904.372 1518.27 Q907.544 1522.85 907.544 1531.6 Q907.544 1539.77 903.655 1544.66 Q899.789 1549.52 893.238 1549.52 Q891.479 1549.52 889.673 1549.17 Q887.868 1548.82 885.923 1548.13 M895.229 1533.48 Q898.377 1533.48 900.206 1531.32 Q902.058 1529.17 902.058 1525.42 Q902.058 1521.7 900.206 1519.54 Q898.377 1517.37 895.229 1517.37 Q892.081 1517.37 890.229 1519.54 Q888.4 1521.7 888.4 1525.42 Q888.4 1529.17 890.229 1531.32 Q892.081 1533.48 895.229 1533.48 Z\" fill=\"#000000\" fill-rule=\"nonzero\" fill-opacity=\"1\" /><path clip-path=\"url(#clip010)\" d=\"M1214.99 1544.91 L1222.63 1544.91 L1222.63 1518.55 L1214.32 1520.21 L1214.32 1515.95 L1222.58 1514.29 L1227.26 1514.29 L1227.26 1544.91 L1234.89 1544.91 L1234.89 1548.85 L1214.99 1548.85 L1214.99 1544.91 Z\" fill=\"#000000\" fill-rule=\"nonzero\" fill-opacity=\"1\" /><path clip-path=\"url(#clip010)\" d=\"M1244.34 1542.97 L1249.22 1542.97 L1249.22 1548.85 L1244.34 1548.85 L1244.34 1542.97 Z\" fill=\"#000000\" fill-rule=\"nonzero\" fill-opacity=\"1\" /><path clip-path=\"url(#clip010)\" d=\"M1263.44 1544.91 L1279.76 1544.91 L1279.76 1548.85 L1257.81 1548.85 L1257.81 1544.91 Q1260.47 1542.16 1265.06 1537.53 Q1269.66 1532.88 1270.84 1531.53 Q1273.09 1529.01 1273.97 1527.27 Q1274.87 1525.51 1274.87 1523.82 Q1274.87 1521.07 1272.93 1519.33 Q1271.01 1517.6 1267.9 1517.6 Q1265.7 1517.6 1263.25 1518.36 Q1260.82 1519.13 1258.04 1520.68 L1258.04 1515.95 Q1260.87 1514.82 1263.32 1514.24 Q1265.77 1513.66 1267.81 1513.66 Q1273.18 1513.66 1276.38 1516.35 Q1279.57 1519.03 1279.57 1523.52 Q1279.57 1525.65 1278.76 1527.57 Q1277.97 1529.47 1275.87 1532.07 Q1275.29 1532.74 1272.19 1535.95 Q1269.08 1539.15 1263.44 1544.91 Z\" fill=\"#000000\" fill-rule=\"nonzero\" fill-opacity=\"1\" /><path clip-path=\"url(#clip010)\" d=\"M1588.64 1544.91 L1596.28 1544.91 L1596.28 1518.55 L1587.97 1520.21 L1587.97 1515.95 L1596.24 1514.29 L1600.91 1514.29 L1600.91 1544.91 L1608.55 1544.91 L1608.55 1548.85 L1588.64 1548.85 L1588.64 1544.91 Z\" fill=\"#000000\" fill-rule=\"nonzero\" fill-opacity=\"1\" /><path clip-path=\"url(#clip010)\" d=\"M1618 1542.97 L1622.88 1542.97 L1622.88 1548.85 L1618 1548.85 L1618 1542.97 Z\" fill=\"#000000\" fill-rule=\"nonzero\" fill-opacity=\"1\" /><path clip-path=\"url(#clip010)\" d=\"M1633.11 1514.29 L1651.47 1514.29 L1651.47 1518.22 L1637.39 1518.22 L1637.39 1526.7 Q1638.41 1526.35 1639.43 1526.19 Q1640.45 1526 1641.47 1526 Q1647.26 1526 1650.64 1529.17 Q1654.01 1532.34 1654.01 1537.76 Q1654.01 1543.34 1650.54 1546.44 Q1647.07 1549.52 1640.75 1549.52 Q1638.58 1549.52 1636.31 1549.15 Q1634.06 1548.78 1631.65 1548.04 L1631.65 1543.34 Q1633.74 1544.47 1635.96 1545.03 Q1638.18 1545.58 1640.66 1545.58 Q1644.66 1545.58 1647 1543.48 Q1649.34 1541.37 1649.34 1537.76 Q1649.34 1534.15 1647 1532.04 Q1644.66 1529.94 1640.66 1529.94 Q1638.78 1529.94 1636.91 1530.35 Q1635.06 1530.77 1633.11 1531.65 L1633.11 1514.29 Z\" fill=\"#000000\" fill-rule=\"nonzero\" fill-opacity=\"1\" /><path clip-path=\"url(#clip010)\" d=\"M1962.15 1544.91 L1969.79 1544.91 L1969.79 1518.55 L1961.48 1520.21 L1961.48 1515.95 L1969.75 1514.29 L1974.42 1514.29 L1974.42 1544.91 L1982.06 1544.91 L1982.06 1548.85 L1962.15 1548.85 L1962.15 1544.91 Z\" fill=\"#000000\" fill-rule=\"nonzero\" fill-opacity=\"1\" /><path clip-path=\"url(#clip010)\" d=\"M1991.5 1542.97 L1996.39 1542.97 L1996.39 1548.85 L1991.5 1548.85 L1991.5 1542.97 Z\" fill=\"#000000\" fill-rule=\"nonzero\" fill-opacity=\"1\" /><path clip-path=\"url(#clip010)\" d=\"M2016.57 1532.44 Q2013.24 1532.44 2011.32 1534.22 Q2009.42 1536 2009.42 1539.13 Q2009.42 1542.25 2011.32 1544.03 Q2013.24 1545.82 2016.57 1545.82 Q2019.91 1545.82 2021.83 1544.03 Q2023.75 1542.23 2023.75 1539.13 Q2023.75 1536 2021.83 1534.22 Q2019.93 1532.44 2016.57 1532.44 M2011.9 1530.45 Q2008.89 1529.7 2007.2 1527.64 Q2005.53 1525.58 2005.53 1522.62 Q2005.53 1518.48 2008.47 1516.07 Q2011.43 1513.66 2016.57 1513.66 Q2021.74 1513.66 2024.68 1516.07 Q2027.62 1518.48 2027.62 1522.62 Q2027.62 1525.58 2025.93 1527.64 Q2024.26 1529.7 2021.27 1530.45 Q2024.65 1531.23 2026.53 1533.52 Q2028.43 1535.82 2028.43 1539.13 Q2028.43 1544.15 2025.35 1546.83 Q2022.29 1549.52 2016.57 1549.52 Q2010.86 1549.52 2007.78 1546.83 Q2004.72 1544.15 2004.72 1539.13 Q2004.72 1535.82 2006.62 1533.52 Q2008.52 1531.23 2011.9 1530.45 M2010.18 1523.06 Q2010.18 1525.75 2011.85 1527.25 Q2013.54 1528.76 2016.57 1528.76 Q2019.58 1528.76 2021.27 1527.25 Q2022.99 1525.75 2022.99 1523.06 Q2022.99 1520.38 2021.27 1518.87 Q2019.58 1517.37 2016.57 1517.37 Q2013.54 1517.37 2011.85 1518.87 Q2010.18 1520.38 2010.18 1523.06 Z\" fill=\"#000000\" fill-rule=\"nonzero\" fill-opacity=\"1\" /><polyline clip-path=\"url(#clip012)\" style=\"stroke:#000000; stroke-linecap:round; stroke-linejoin:round; stroke-width:2; stroke-opacity:0.1; fill:none\" points=\"170.857,1445.72 2352.76,1445.72 \"/>\n",
       "<polyline clip-path=\"url(#clip012)\" style=\"stroke:#000000; stroke-linecap:round; stroke-linejoin:round; stroke-width:2; stroke-opacity:0.1; fill:none\" points=\"170.857,1187.59 2352.76,1187.59 \"/>\n",
       "<polyline clip-path=\"url(#clip012)\" style=\"stroke:#000000; stroke-linecap:round; stroke-linejoin:round; stroke-width:2; stroke-opacity:0.1; fill:none\" points=\"170.857,929.465 2352.76,929.465 \"/>\n",
       "<polyline clip-path=\"url(#clip012)\" style=\"stroke:#000000; stroke-linecap:round; stroke-linejoin:round; stroke-width:2; stroke-opacity:0.1; fill:none\" points=\"170.857,671.34 2352.76,671.34 \"/>\n",
       "<polyline clip-path=\"url(#clip012)\" style=\"stroke:#000000; stroke-linecap:round; stroke-linejoin:round; stroke-width:2; stroke-opacity:0.1; fill:none\" points=\"170.857,413.214 2352.76,413.214 \"/>\n",
       "<polyline clip-path=\"url(#clip012)\" style=\"stroke:#000000; stroke-linecap:round; stroke-linejoin:round; stroke-width:2; stroke-opacity:0.1; fill:none\" points=\"170.857,155.089 2352.76,155.089 \"/>\n",
       "<polyline clip-path=\"url(#clip010)\" style=\"stroke:#000000; stroke-linecap:round; stroke-linejoin:round; stroke-width:4; stroke-opacity:1; fill:none\" points=\"170.857,1486.45 170.857,47.2441 \"/>\n",
       "<polyline clip-path=\"url(#clip010)\" style=\"stroke:#000000; stroke-linecap:round; stroke-linejoin:round; stroke-width:4; stroke-opacity:1; fill:none\" points=\"170.857,1445.72 189.755,1445.72 \"/>\n",
       "<polyline clip-path=\"url(#clip010)\" style=\"stroke:#000000; stroke-linecap:round; stroke-linejoin:round; stroke-width:4; stroke-opacity:1; fill:none\" points=\"170.857,1187.59 189.755,1187.59 \"/>\n",
       "<polyline clip-path=\"url(#clip010)\" style=\"stroke:#000000; stroke-linecap:round; stroke-linejoin:round; stroke-width:4; stroke-opacity:1; fill:none\" points=\"170.857,929.465 189.755,929.465 \"/>\n",
       "<polyline clip-path=\"url(#clip010)\" style=\"stroke:#000000; stroke-linecap:round; stroke-linejoin:round; stroke-width:4; stroke-opacity:1; fill:none\" points=\"170.857,671.34 189.755,671.34 \"/>\n",
       "<polyline clip-path=\"url(#clip010)\" style=\"stroke:#000000; stroke-linecap:round; stroke-linejoin:round; stroke-width:4; stroke-opacity:1; fill:none\" points=\"170.857,413.214 189.755,413.214 \"/>\n",
       "<polyline clip-path=\"url(#clip010)\" style=\"stroke:#000000; stroke-linecap:round; stroke-linejoin:round; stroke-width:4; stroke-opacity:1; fill:none\" points=\"170.857,155.089 189.755,155.089 \"/>\n",
       "<path clip-path=\"url(#clip010)\" d=\"M122.913 1431.51 Q119.302 1431.51 117.473 1435.08 Q115.668 1438.62 115.668 1445.75 Q115.668 1452.86 117.473 1456.42 Q119.302 1459.96 122.913 1459.96 Q126.547 1459.96 128.353 1456.42 Q130.182 1452.86 130.182 1445.75 Q130.182 1438.62 128.353 1435.08 Q126.547 1431.51 122.913 1431.51 M122.913 1427.81 Q128.723 1427.81 131.779 1432.42 Q134.857 1437 134.857 1445.75 Q134.857 1454.48 131.779 1459.08 Q128.723 1463.67 122.913 1463.67 Q117.103 1463.67 114.024 1459.08 Q110.969 1454.48 110.969 1445.75 Q110.969 1437 114.024 1432.42 Q117.103 1427.81 122.913 1427.81 Z\" fill=\"#000000\" fill-rule=\"nonzero\" fill-opacity=\"1\" /><path clip-path=\"url(#clip010)\" d=\"M82.7975 1170.31 L101.154 1170.31 L101.154 1174.25 L87.0799 1174.25 L87.0799 1182.72 Q88.0984 1182.37 89.1169 1182.21 Q90.1354 1182.02 91.1539 1182.02 Q96.941 1182.02 100.321 1185.19 Q103.7 1188.37 103.7 1193.78 Q103.7 1199.36 100.228 1202.46 Q96.7558 1205.54 90.4364 1205.54 Q88.2604 1205.54 85.9919 1205.17 Q83.7466 1204.8 81.3392 1204.06 L81.3392 1199.36 Q83.4225 1200.5 85.6447 1201.05 Q87.8669 1201.61 90.3438 1201.61 Q94.3484 1201.61 96.6863 1199.5 Q99.0243 1197.39 99.0243 1193.78 Q99.0243 1190.17 96.6863 1188.06 Q94.3484 1185.96 90.3438 1185.96 Q88.4688 1185.96 86.5938 1186.38 Q84.7419 1186.79 82.7975 1187.67 L82.7975 1170.31 Z\" fill=\"#000000\" fill-rule=\"nonzero\" fill-opacity=\"1\" /><path clip-path=\"url(#clip010)\" d=\"M122.913 1173.39 Q119.302 1173.39 117.473 1176.95 Q115.668 1180.5 115.668 1187.63 Q115.668 1194.73 117.473 1198.3 Q119.302 1201.84 122.913 1201.84 Q126.547 1201.84 128.353 1198.3 Q130.182 1194.73 130.182 1187.63 Q130.182 1180.5 128.353 1176.95 Q126.547 1173.39 122.913 1173.39 M122.913 1169.69 Q128.723 1169.69 131.779 1174.29 Q134.857 1178.88 134.857 1187.63 Q134.857 1196.35 131.779 1200.96 Q128.723 1205.54 122.913 1205.54 Q117.103 1205.54 114.024 1200.96 Q110.969 1196.35 110.969 1187.63 Q110.969 1178.88 114.024 1174.29 Q117.103 1169.69 122.913 1169.69 Z\" fill=\"#000000\" fill-rule=\"nonzero\" fill-opacity=\"1\" /><path clip-path=\"url(#clip010)\" d=\"M53.3995 942.81 L61.0384 942.81 L61.0384 916.444 L52.7282 918.111 L52.7282 913.852 L60.9921 912.185 L65.668 912.185 L65.668 942.81 L73.3068 942.81 L73.3068 946.745 L53.3995 946.745 L53.3995 942.81 Z\" fill=\"#000000\" fill-rule=\"nonzero\" fill-opacity=\"1\" /><path clip-path=\"url(#clip010)\" d=\"M92.7512 915.264 Q89.1401 915.264 87.3114 918.828 Q85.5058 922.37 85.5058 929.5 Q85.5058 936.606 87.3114 940.171 Q89.1401 943.713 92.7512 943.713 Q96.3854 943.713 98.1909 940.171 Q100.02 936.606 100.02 929.5 Q100.02 922.37 98.1909 918.828 Q96.3854 915.264 92.7512 915.264 M92.7512 911.56 Q98.5613 911.56 101.617 916.166 Q104.696 920.75 104.696 929.5 Q104.696 938.226 101.617 942.833 Q98.5613 947.416 92.7512 947.416 Q86.941 947.416 83.8623 942.833 Q80.8068 938.226 80.8068 929.5 Q80.8068 920.75 83.8623 916.166 Q86.941 911.56 92.7512 911.56 Z\" fill=\"#000000\" fill-rule=\"nonzero\" fill-opacity=\"1\" /><path clip-path=\"url(#clip010)\" d=\"M122.913 915.264 Q119.302 915.264 117.473 918.828 Q115.668 922.37 115.668 929.5 Q115.668 936.606 117.473 940.171 Q119.302 943.713 122.913 943.713 Q126.547 943.713 128.353 940.171 Q130.182 936.606 130.182 929.5 Q130.182 922.37 128.353 918.828 Q126.547 915.264 122.913 915.264 M122.913 911.56 Q128.723 911.56 131.779 916.166 Q134.857 920.75 134.857 929.5 Q134.857 938.226 131.779 942.833 Q128.723 947.416 122.913 947.416 Q117.103 947.416 114.024 942.833 Q110.969 938.226 110.969 929.5 Q110.969 920.75 114.024 916.166 Q117.103 911.56 122.913 911.56 Z\" fill=\"#000000\" fill-rule=\"nonzero\" fill-opacity=\"1\" /><path clip-path=\"url(#clip010)\" d=\"M53.3995 684.684 L61.0384 684.684 L61.0384 658.319 L52.7282 659.985 L52.7282 655.726 L60.9921 654.06 L65.668 654.06 L65.668 684.684 L73.3068 684.684 L73.3068 688.62 L53.3995 688.62 L53.3995 684.684 Z\" fill=\"#000000\" fill-rule=\"nonzero\" fill-opacity=\"1\" /><path clip-path=\"url(#clip010)\" d=\"M82.7975 654.06 L101.154 654.06 L101.154 657.995 L87.0799 657.995 L87.0799 666.467 Q88.0984 666.12 89.1169 665.958 Q90.1354 665.772 91.1539 665.772 Q96.941 665.772 100.321 668.944 Q103.7 672.115 103.7 677.532 Q103.7 683.11 100.228 686.212 Q96.7558 689.291 90.4364 689.291 Q88.2604 689.291 85.9919 688.921 Q83.7466 688.55 81.3392 687.809 L81.3392 683.11 Q83.4225 684.245 85.6447 684.8 Q87.8669 685.356 90.3438 685.356 Q94.3484 685.356 96.6863 683.249 Q99.0243 681.143 99.0243 677.532 Q99.0243 673.921 96.6863 671.814 Q94.3484 669.708 90.3438 669.708 Q88.4688 669.708 86.5938 670.124 Q84.7419 670.541 82.7975 671.421 L82.7975 654.06 Z\" fill=\"#000000\" fill-rule=\"nonzero\" fill-opacity=\"1\" /><path clip-path=\"url(#clip010)\" d=\"M122.913 657.138 Q119.302 657.138 117.473 660.703 Q115.668 664.245 115.668 671.374 Q115.668 678.481 117.473 682.046 Q119.302 685.587 122.913 685.587 Q126.547 685.587 128.353 682.046 Q130.182 678.481 130.182 671.374 Q130.182 664.245 128.353 660.703 Q126.547 657.138 122.913 657.138 M122.913 653.435 Q128.723 653.435 131.779 658.041 Q134.857 662.624 134.857 671.374 Q134.857 680.101 131.779 684.708 Q128.723 689.291 122.913 689.291 Q117.103 689.291 114.024 684.708 Q110.969 680.101 110.969 671.374 Q110.969 662.624 114.024 658.041 Q117.103 653.435 122.913 653.435 Z\" fill=\"#000000\" fill-rule=\"nonzero\" fill-opacity=\"1\" /><path clip-path=\"url(#clip010)\" d=\"M56.6171 426.559 L72.9365 426.559 L72.9365 430.494 L50.9921 430.494 L50.9921 426.559 Q53.6541 423.804 58.2375 419.175 Q62.8439 414.522 64.0245 413.18 Q66.2698 410.656 67.1494 408.92 Q68.0522 407.161 68.0522 405.471 Q68.0522 402.717 66.1078 400.981 Q64.1865 399.244 61.0847 399.244 Q58.8856 399.244 56.4319 400.008 Q54.0014 400.772 51.2236 402.323 L51.2236 397.601 Q54.0477 396.467 56.5014 395.888 Q58.955 395.309 60.9921 395.309 Q66.3624 395.309 69.5568 397.994 Q72.7513 400.68 72.7513 405.17 Q72.7513 407.3 71.9411 409.221 Q71.1541 411.119 69.0476 413.712 Q68.4689 414.383 65.367 417.601 Q62.2652 420.795 56.6171 426.559 Z\" fill=\"#000000\" fill-rule=\"nonzero\" fill-opacity=\"1\" /><path clip-path=\"url(#clip010)\" d=\"M92.7512 399.013 Q89.1401 399.013 87.3114 402.578 Q85.5058 406.119 85.5058 413.249 Q85.5058 420.355 87.3114 423.92 Q89.1401 427.462 92.7512 427.462 Q96.3854 427.462 98.1909 423.92 Q100.02 420.355 100.02 413.249 Q100.02 406.119 98.1909 402.578 Q96.3854 399.013 92.7512 399.013 M92.7512 395.309 Q98.5613 395.309 101.617 399.916 Q104.696 404.499 104.696 413.249 Q104.696 421.976 101.617 426.582 Q98.5613 431.166 92.7512 431.166 Q86.941 431.166 83.8623 426.582 Q80.8068 421.976 80.8068 413.249 Q80.8068 404.499 83.8623 399.916 Q86.941 395.309 92.7512 395.309 Z\" fill=\"#000000\" fill-rule=\"nonzero\" fill-opacity=\"1\" /><path clip-path=\"url(#clip010)\" d=\"M122.913 399.013 Q119.302 399.013 117.473 402.578 Q115.668 406.119 115.668 413.249 Q115.668 420.355 117.473 423.92 Q119.302 427.462 122.913 427.462 Q126.547 427.462 128.353 423.92 Q130.182 420.355 130.182 413.249 Q130.182 406.119 128.353 402.578 Q126.547 399.013 122.913 399.013 M122.913 395.309 Q128.723 395.309 131.779 399.916 Q134.857 404.499 134.857 413.249 Q134.857 421.976 131.779 426.582 Q128.723 431.166 122.913 431.166 Q117.103 431.166 114.024 426.582 Q110.969 421.976 110.969 413.249 Q110.969 404.499 114.024 399.916 Q117.103 395.309 122.913 395.309 Z\" fill=\"#000000\" fill-rule=\"nonzero\" fill-opacity=\"1\" /><path clip-path=\"url(#clip010)\" d=\"M56.6171 168.434 L72.9365 168.434 L72.9365 172.369 L50.9921 172.369 L50.9921 168.434 Q53.6541 165.679 58.2375 161.049 Q62.8439 156.397 64.0245 155.054 Q66.2698 152.531 67.1494 150.795 Q68.0522 149.036 68.0522 147.346 Q68.0522 144.591 66.1078 142.855 Q64.1865 141.119 61.0847 141.119 Q58.8856 141.119 56.4319 141.883 Q54.0014 142.647 51.2236 144.198 L51.2236 139.476 Q54.0477 138.341 56.5014 137.763 Q58.955 137.184 60.9921 137.184 Q66.3624 137.184 69.5568 139.869 Q72.7513 142.554 72.7513 147.045 Q72.7513 149.175 71.9411 151.096 Q71.1541 152.994 69.0476 155.587 Q68.4689 156.258 65.367 159.475 Q62.2652 162.67 56.6171 168.434 Z\" fill=\"#000000\" fill-rule=\"nonzero\" fill-opacity=\"1\" /><path clip-path=\"url(#clip010)\" d=\"M82.7975 137.809 L101.154 137.809 L101.154 141.744 L87.0799 141.744 L87.0799 150.216 Q88.0984 149.869 89.1169 149.707 Q90.1354 149.522 91.1539 149.522 Q96.941 149.522 100.321 152.693 Q103.7 155.864 103.7 161.281 Q103.7 166.86 100.228 169.961 Q96.7558 173.04 90.4364 173.04 Q88.2604 173.04 85.9919 172.67 Q83.7466 172.299 81.3392 171.559 L81.3392 166.86 Q83.4225 167.994 85.6447 168.549 Q87.8669 169.105 90.3438 169.105 Q94.3484 169.105 96.6863 166.999 Q99.0243 164.892 99.0243 161.281 Q99.0243 157.67 96.6863 155.563 Q94.3484 153.457 90.3438 153.457 Q88.4688 153.457 86.5938 153.874 Q84.7419 154.29 82.7975 155.17 L82.7975 137.809 Z\" fill=\"#000000\" fill-rule=\"nonzero\" fill-opacity=\"1\" /><path clip-path=\"url(#clip010)\" d=\"M122.913 140.888 Q119.302 140.888 117.473 144.452 Q115.668 147.994 115.668 155.124 Q115.668 162.23 117.473 165.795 Q119.302 169.336 122.913 169.336 Q126.547 169.336 128.353 165.795 Q130.182 162.23 130.182 155.124 Q130.182 147.994 128.353 144.452 Q126.547 140.888 122.913 140.888 M122.913 137.184 Q128.723 137.184 131.779 141.79 Q134.857 146.374 134.857 155.124 Q134.857 163.85 131.779 168.457 Q128.723 173.04 122.913 173.04 Q117.103 173.04 114.024 168.457 Q110.969 163.85 110.969 155.124 Q110.969 146.374 114.024 141.79 Q117.103 137.184 122.913 137.184 Z\" fill=\"#000000\" fill-rule=\"nonzero\" fill-opacity=\"1\" /><path clip-path=\"url(#clip012)\" d=\"M686.097 1430.23 L686.097 1445.72 L748.423 1445.72 L748.423 1430.23 L686.097 1430.23 L686.097 1430.23  Z\" fill=\"#009af9\" fill-rule=\"evenodd\" fill-opacity=\"1\"/>\n",
       "<polyline clip-path=\"url(#clip012)\" style=\"stroke:#000000; stroke-linecap:round; stroke-linejoin:round; stroke-width:4; stroke-opacity:1; fill:none\" points=\"686.097,1430.23 686.097,1445.72 748.423,1445.72 748.423,1430.23 686.097,1430.23 \"/>\n",
       "<path clip-path=\"url(#clip012)\" d=\"M748.423 1383.77 L748.423 1445.72 L810.75 1445.72 L810.75 1383.77 L748.423 1383.77 L748.423 1383.77  Z\" fill=\"#009af9\" fill-rule=\"evenodd\" fill-opacity=\"1\"/>\n",
       "<polyline clip-path=\"url(#clip012)\" style=\"stroke:#000000; stroke-linecap:round; stroke-linejoin:round; stroke-width:4; stroke-opacity:1; fill:none\" points=\"748.423,1383.77 748.423,1445.72 810.75,1445.72 810.75,1383.77 748.423,1383.77 \"/>\n",
       "<path clip-path=\"url(#clip012)\" d=\"M810.75 1321.82 L810.75 1445.72 L873.076 1445.72 L873.076 1321.82 L810.75 1321.82 L810.75 1321.82  Z\" fill=\"#009af9\" fill-rule=\"evenodd\" fill-opacity=\"1\"/>\n",
       "<polyline clip-path=\"url(#clip012)\" style=\"stroke:#000000; stroke-linecap:round; stroke-linejoin:round; stroke-width:4; stroke-opacity:1; fill:none\" points=\"810.75,1321.82 810.75,1445.72 873.076,1445.72 873.076,1321.82 810.75,1321.82 \"/>\n",
       "<path clip-path=\"url(#clip012)\" d=\"M873.076 1182.43 L873.076 1445.72 L935.403 1445.72 L935.403 1182.43 L873.076 1182.43 L873.076 1182.43  Z\" fill=\"#009af9\" fill-rule=\"evenodd\" fill-opacity=\"1\"/>\n",
       "<polyline clip-path=\"url(#clip012)\" style=\"stroke:#000000; stroke-linecap:round; stroke-linejoin:round; stroke-width:4; stroke-opacity:1; fill:none\" points=\"873.076,1182.43 873.076,1445.72 935.403,1445.72 935.403,1182.43 873.076,1182.43 \"/>\n",
       "<path clip-path=\"url(#clip012)\" d=\"M935.403 986.253 L935.403 1445.72 L997.729 1445.72 L997.729 986.253 L935.403 986.253 L935.403 986.253  Z\" fill=\"#009af9\" fill-rule=\"evenodd\" fill-opacity=\"1\"/>\n",
       "<polyline clip-path=\"url(#clip012)\" style=\"stroke:#000000; stroke-linecap:round; stroke-linejoin:round; stroke-width:4; stroke-opacity:1; fill:none\" points=\"935.403,986.253 935.403,1445.72 997.729,1445.72 997.729,986.253 935.403,986.253 \"/>\n",
       "<path clip-path=\"url(#clip012)\" d=\"M997.729 666.177 L997.729 1445.72 L1060.06 1445.72 L1060.06 666.177 L997.729 666.177 L997.729 666.177  Z\" fill=\"#009af9\" fill-rule=\"evenodd\" fill-opacity=\"1\"/>\n",
       "<polyline clip-path=\"url(#clip012)\" style=\"stroke:#000000; stroke-linecap:round; stroke-linejoin:round; stroke-width:4; stroke-opacity:1; fill:none\" points=\"997.729,666.177 997.729,1445.72 1060.06,1445.72 1060.06,666.177 997.729,666.177 \"/>\n",
       "<path clip-path=\"url(#clip012)\" d=\"M1060.06 542.277 L1060.06 1445.72 L1122.38 1445.72 L1122.38 542.277 L1060.06 542.277 L1060.06 542.277  Z\" fill=\"#009af9\" fill-rule=\"evenodd\" fill-opacity=\"1\"/>\n",
       "<polyline clip-path=\"url(#clip012)\" style=\"stroke:#000000; stroke-linecap:round; stroke-linejoin:round; stroke-width:4; stroke-opacity:1; fill:none\" points=\"1060.06,542.277 1060.06,1445.72 1122.38,1445.72 1122.38,542.277 1060.06,542.277 \"/>\n",
       "<path clip-path=\"url(#clip012)\" d=\"M1122.38 366.752 L1122.38 1445.72 L1184.71 1445.72 L1184.71 366.752 L1122.38 366.752 L1122.38 366.752  Z\" fill=\"#009af9\" fill-rule=\"evenodd\" fill-opacity=\"1\"/>\n",
       "<polyline clip-path=\"url(#clip012)\" style=\"stroke:#000000; stroke-linecap:round; stroke-linejoin:round; stroke-width:4; stroke-opacity:1; fill:none\" points=\"1122.38,366.752 1122.38,1445.72 1184.71,1445.72 1184.71,366.752 1122.38,366.752 \"/>\n",
       "<path clip-path=\"url(#clip012)\" d=\"M1184.71 196.389 L1184.71 1445.72 L1247.04 1445.72 L1247.04 196.389 L1184.71 196.389 L1184.71 196.389  Z\" fill=\"#009af9\" fill-rule=\"evenodd\" fill-opacity=\"1\"/>\n",
       "<polyline clip-path=\"url(#clip012)\" style=\"stroke:#000000; stroke-linecap:round; stroke-linejoin:round; stroke-width:4; stroke-opacity:1; fill:none\" points=\"1184.71,196.389 1184.71,1445.72 1247.04,1445.72 1247.04,196.389 1184.71,196.389 \"/>\n",
       "<path clip-path=\"url(#clip012)\" d=\"M1247.04 325.452 L1247.04 1445.72 L1309.36 1445.72 L1309.36 325.452 L1247.04 325.452 L1247.04 325.452  Z\" fill=\"#009af9\" fill-rule=\"evenodd\" fill-opacity=\"1\"/>\n",
       "<polyline clip-path=\"url(#clip012)\" style=\"stroke:#000000; stroke-linecap:round; stroke-linejoin:round; stroke-width:4; stroke-opacity:1; fill:none\" points=\"1247.04,325.452 1247.04,1445.72 1309.36,1445.72 1309.36,325.452 1247.04,325.452 \"/>\n",
       "<path clip-path=\"url(#clip012)\" d=\"M1309.36 248.014 L1309.36 1445.72 L1371.69 1445.72 L1371.69 248.014 L1309.36 248.014 L1309.36 248.014  Z\" fill=\"#009af9\" fill-rule=\"evenodd\" fill-opacity=\"1\"/>\n",
       "<polyline clip-path=\"url(#clip012)\" style=\"stroke:#000000; stroke-linecap:round; stroke-linejoin:round; stroke-width:4; stroke-opacity:1; fill:none\" points=\"1309.36,248.014 1309.36,1445.72 1371.69,1445.72 1371.69,248.014 1309.36,248.014 \"/>\n",
       "<path clip-path=\"url(#clip012)\" d=\"M1371.69 624.877 L1371.69 1445.72 L1434.01 1445.72 L1434.01 624.877 L1371.69 624.877 L1371.69 624.877  Z\" fill=\"#009af9\" fill-rule=\"evenodd\" fill-opacity=\"1\"/>\n",
       "<polyline clip-path=\"url(#clip012)\" style=\"stroke:#000000; stroke-linecap:round; stroke-linejoin:round; stroke-width:4; stroke-opacity:1; fill:none\" points=\"1371.69,624.877 1371.69,1445.72 1434.01,1445.72 1434.01,624.877 1371.69,624.877 \"/>\n",
       "<path clip-path=\"url(#clip012)\" d=\"M1434.01 857.19 L1434.01 1445.72 L1496.34 1445.72 L1496.34 857.19 L1434.01 857.19 L1434.01 857.19  Z\" fill=\"#009af9\" fill-rule=\"evenodd\" fill-opacity=\"1\"/>\n",
       "<polyline clip-path=\"url(#clip012)\" style=\"stroke:#000000; stroke-linecap:round; stroke-linejoin:round; stroke-width:4; stroke-opacity:1; fill:none\" points=\"1434.01,857.19 1434.01,1445.72 1496.34,1445.72 1496.34,857.19 1434.01,857.19 \"/>\n",
       "<path clip-path=\"url(#clip012)\" d=\"M1496.34 934.627 L1496.34 1445.72 L1558.67 1445.72 L1558.67 934.627 L1496.34 934.627 L1496.34 934.627  Z\" fill=\"#009af9\" fill-rule=\"evenodd\" fill-opacity=\"1\"/>\n",
       "<polyline clip-path=\"url(#clip012)\" style=\"stroke:#000000; stroke-linecap:round; stroke-linejoin:round; stroke-width:4; stroke-opacity:1; fill:none\" points=\"1496.34,934.627 1496.34,1445.72 1558.67,1445.72 1558.67,934.627 1496.34,934.627 \"/>\n",
       "<path clip-path=\"url(#clip012)\" d=\"M1558.67 1022.39 L1558.67 1445.72 L1620.99 1445.72 L1620.99 1022.39 L1558.67 1022.39 L1558.67 1022.39  Z\" fill=\"#009af9\" fill-rule=\"evenodd\" fill-opacity=\"1\"/>\n",
       "<polyline clip-path=\"url(#clip012)\" style=\"stroke:#000000; stroke-linecap:round; stroke-linejoin:round; stroke-width:4; stroke-opacity:1; fill:none\" points=\"1558.67,1022.39 1558.67,1445.72 1620.99,1445.72 1620.99,1022.39 1558.67,1022.39 \"/>\n",
       "<path clip-path=\"url(#clip012)\" d=\"M1620.99 1182.43 L1620.99 1445.72 L1683.32 1445.72 L1683.32 1182.43 L1620.99 1182.43 L1620.99 1182.43  Z\" fill=\"#009af9\" fill-rule=\"evenodd\" fill-opacity=\"1\"/>\n",
       "<polyline clip-path=\"url(#clip012)\" style=\"stroke:#000000; stroke-linecap:round; stroke-linejoin:round; stroke-width:4; stroke-opacity:1; fill:none\" points=\"1620.99,1182.43 1620.99,1445.72 1683.32,1445.72 1683.32,1182.43 1620.99,1182.43 \"/>\n",
       "<path clip-path=\"url(#clip012)\" d=\"M1683.32 1265.03 L1683.32 1445.72 L1745.65 1445.72 L1745.65 1265.03 L1683.32 1265.03 L1683.32 1265.03  Z\" fill=\"#009af9\" fill-rule=\"evenodd\" fill-opacity=\"1\"/>\n",
       "<polyline clip-path=\"url(#clip012)\" style=\"stroke:#000000; stroke-linecap:round; stroke-linejoin:round; stroke-width:4; stroke-opacity:1; fill:none\" points=\"1683.32,1265.03 1683.32,1445.72 1745.65,1445.72 1745.65,1265.03 1683.32,1265.03 \"/>\n",
       "<path clip-path=\"url(#clip012)\" d=\"M1745.65 1332.14 L1745.65 1445.72 L1807.97 1445.72 L1807.97 1332.14 L1745.65 1332.14 L1745.65 1332.14  Z\" fill=\"#009af9\" fill-rule=\"evenodd\" fill-opacity=\"1\"/>\n",
       "<polyline clip-path=\"url(#clip012)\" style=\"stroke:#000000; stroke-linecap:round; stroke-linejoin:round; stroke-width:4; stroke-opacity:1; fill:none\" points=\"1745.65,1332.14 1745.65,1445.72 1807.97,1445.72 1807.97,1332.14 1745.65,1332.14 \"/>\n",
       "<path clip-path=\"url(#clip012)\" d=\"M1807.97 1352.79 L1807.97 1445.72 L1870.3 1445.72 L1870.3 1352.79 L1807.97 1352.79 L1807.97 1352.79  Z\" fill=\"#009af9\" fill-rule=\"evenodd\" fill-opacity=\"1\"/>\n",
       "<polyline clip-path=\"url(#clip012)\" style=\"stroke:#000000; stroke-linecap:round; stroke-linejoin:round; stroke-width:4; stroke-opacity:1; fill:none\" points=\"1807.97,1352.79 1807.97,1445.72 1870.3,1445.72 1870.3,1352.79 1807.97,1352.79 \"/>\n",
       "<path clip-path=\"url(#clip012)\" d=\"M1870.3 1414.74 L1870.3 1445.72 L1932.63 1445.72 L1932.63 1414.74 L1870.3 1414.74 L1870.3 1414.74  Z\" fill=\"#009af9\" fill-rule=\"evenodd\" fill-opacity=\"1\"/>\n",
       "<polyline clip-path=\"url(#clip012)\" style=\"stroke:#000000; stroke-linecap:round; stroke-linejoin:round; stroke-width:4; stroke-opacity:1; fill:none\" points=\"1870.3,1414.74 1870.3,1445.72 1932.63,1445.72 1932.63,1414.74 1870.3,1414.74 \"/>\n",
       "<path clip-path=\"url(#clip012)\" d=\"M1932.63 1425.07 L1932.63 1445.72 L1994.95 1445.72 L1994.95 1425.07 L1932.63 1425.07 L1932.63 1425.07  Z\" fill=\"#009af9\" fill-rule=\"evenodd\" fill-opacity=\"1\"/>\n",
       "<polyline clip-path=\"url(#clip012)\" style=\"stroke:#000000; stroke-linecap:round; stroke-linejoin:round; stroke-width:4; stroke-opacity:1; fill:none\" points=\"1932.63,1425.07 1932.63,1445.72 1994.95,1445.72 1994.95,1425.07 1932.63,1425.07 \"/>\n",
       "<path clip-path=\"url(#clip012)\" d=\"M1994.95 1435.39 L1994.95 1445.72 L2057.28 1445.72 L2057.28 1435.39 L1994.95 1435.39 L1994.95 1435.39  Z\" fill=\"#009af9\" fill-rule=\"evenodd\" fill-opacity=\"1\"/>\n",
       "<polyline clip-path=\"url(#clip012)\" style=\"stroke:#000000; stroke-linecap:round; stroke-linejoin:round; stroke-width:4; stroke-opacity:1; fill:none\" points=\"1994.95,1435.39 1994.95,1445.72 2057.28,1445.72 2057.28,1435.39 1994.95,1435.39 \"/>\n",
       "<path clip-path=\"url(#clip012)\" d=\"M2057.28 1435.39 L2057.28 1445.72 L2119.61 1445.72 L2119.61 1435.39 L2057.28 1435.39 L2057.28 1435.39  Z\" fill=\"#009af9\" fill-rule=\"evenodd\" fill-opacity=\"1\"/>\n",
       "<polyline clip-path=\"url(#clip012)\" style=\"stroke:#000000; stroke-linecap:round; stroke-linejoin:round; stroke-width:4; stroke-opacity:1; fill:none\" points=\"2057.28,1435.39 2057.28,1445.72 2119.61,1445.72 2119.61,1435.39 2057.28,1435.39 \"/>\n",
       "<path clip-path=\"url(#clip012)\" d=\"M2119.61 1445.72 L2119.61 1445.72 L2181.93 1445.72 L2181.93 1445.72 L2119.61 1445.72 L2119.61 1445.72  Z\" fill=\"#009af9\" fill-rule=\"evenodd\" fill-opacity=\"1\"/>\n",
       "<polyline clip-path=\"url(#clip012)\" style=\"stroke:#000000; stroke-linecap:round; stroke-linejoin:round; stroke-width:4; stroke-opacity:1; fill:none\" points=\"2119.61,1445.72 2119.61,1445.72 2181.93,1445.72 2119.61,1445.72 \"/>\n",
       "<path clip-path=\"url(#clip012)\" d=\"M2181.93 1440.55 L2181.93 1445.72 L2244.26 1445.72 L2244.26 1440.55 L2181.93 1440.55 L2181.93 1440.55  Z\" fill=\"#009af9\" fill-rule=\"evenodd\" fill-opacity=\"1\"/>\n",
       "<polyline clip-path=\"url(#clip012)\" style=\"stroke:#000000; stroke-linecap:round; stroke-linejoin:round; stroke-width:4; stroke-opacity:1; fill:none\" points=\"2181.93,1440.55 2181.93,1445.72 2244.26,1445.72 2244.26,1440.55 2181.93,1440.55 \"/>\n",
       "<circle clip-path=\"url(#clip012)\" style=\"fill:#009af9; stroke:none; fill-opacity:0\" cx=\"717.26\" cy=\"1430.23\" r=\"2\"/>\n",
       "<circle clip-path=\"url(#clip012)\" style=\"fill:#009af9; stroke:none; fill-opacity:0\" cx=\"779.587\" cy=\"1383.77\" r=\"2\"/>\n",
       "<circle clip-path=\"url(#clip012)\" style=\"fill:#009af9; stroke:none; fill-opacity:0\" cx=\"841.913\" cy=\"1321.82\" r=\"2\"/>\n",
       "<circle clip-path=\"url(#clip012)\" style=\"fill:#009af9; stroke:none; fill-opacity:0\" cx=\"904.24\" cy=\"1182.43\" r=\"2\"/>\n",
       "<circle clip-path=\"url(#clip012)\" style=\"fill:#009af9; stroke:none; fill-opacity:0\" cx=\"966.566\" cy=\"986.253\" r=\"2\"/>\n",
       "<circle clip-path=\"url(#clip012)\" style=\"fill:#009af9; stroke:none; fill-opacity:0\" cx=\"1028.89\" cy=\"666.177\" r=\"2\"/>\n",
       "<circle clip-path=\"url(#clip012)\" style=\"fill:#009af9; stroke:none; fill-opacity:0\" cx=\"1091.22\" cy=\"542.277\" r=\"2\"/>\n",
       "<circle clip-path=\"url(#clip012)\" style=\"fill:#009af9; stroke:none; fill-opacity:0\" cx=\"1153.55\" cy=\"366.752\" r=\"2\"/>\n",
       "<circle clip-path=\"url(#clip012)\" style=\"fill:#009af9; stroke:none; fill-opacity:0\" cx=\"1215.87\" cy=\"196.389\" r=\"2\"/>\n",
       "<circle clip-path=\"url(#clip012)\" style=\"fill:#009af9; stroke:none; fill-opacity:0\" cx=\"1278.2\" cy=\"325.452\" r=\"2\"/>\n",
       "<circle clip-path=\"url(#clip012)\" style=\"fill:#009af9; stroke:none; fill-opacity:0\" cx=\"1340.53\" cy=\"248.014\" r=\"2\"/>\n",
       "<circle clip-path=\"url(#clip012)\" style=\"fill:#009af9; stroke:none; fill-opacity:0\" cx=\"1402.85\" cy=\"624.877\" r=\"2\"/>\n",
       "<circle clip-path=\"url(#clip012)\" style=\"fill:#009af9; stroke:none; fill-opacity:0\" cx=\"1465.18\" cy=\"857.19\" r=\"2\"/>\n",
       "<circle clip-path=\"url(#clip012)\" style=\"fill:#009af9; stroke:none; fill-opacity:0\" cx=\"1527.5\" cy=\"934.627\" r=\"2\"/>\n",
       "<circle clip-path=\"url(#clip012)\" style=\"fill:#009af9; stroke:none; fill-opacity:0\" cx=\"1589.83\" cy=\"1022.39\" r=\"2\"/>\n",
       "<circle clip-path=\"url(#clip012)\" style=\"fill:#009af9; stroke:none; fill-opacity:0\" cx=\"1652.16\" cy=\"1182.43\" r=\"2\"/>\n",
       "<circle clip-path=\"url(#clip012)\" style=\"fill:#009af9; stroke:none; fill-opacity:0\" cx=\"1714.48\" cy=\"1265.03\" r=\"2\"/>\n",
       "<circle clip-path=\"url(#clip012)\" style=\"fill:#009af9; stroke:none; fill-opacity:0\" cx=\"1776.81\" cy=\"1332.14\" r=\"2\"/>\n",
       "<circle clip-path=\"url(#clip012)\" style=\"fill:#009af9; stroke:none; fill-opacity:0\" cx=\"1839.14\" cy=\"1352.79\" r=\"2\"/>\n",
       "<circle clip-path=\"url(#clip012)\" style=\"fill:#009af9; stroke:none; fill-opacity:0\" cx=\"1901.46\" cy=\"1414.74\" r=\"2\"/>\n",
       "<circle clip-path=\"url(#clip012)\" style=\"fill:#009af9; stroke:none; fill-opacity:0\" cx=\"1963.79\" cy=\"1425.07\" r=\"2\"/>\n",
       "<circle clip-path=\"url(#clip012)\" style=\"fill:#009af9; stroke:none; fill-opacity:0\" cx=\"2026.12\" cy=\"1435.39\" r=\"2\"/>\n",
       "<circle clip-path=\"url(#clip012)\" style=\"fill:#009af9; stroke:none; fill-opacity:0\" cx=\"2088.44\" cy=\"1435.39\" r=\"2\"/>\n",
       "<circle clip-path=\"url(#clip012)\" style=\"fill:#009af9; stroke:none; fill-opacity:0\" cx=\"2150.77\" cy=\"1445.72\" r=\"2\"/>\n",
       "<circle clip-path=\"url(#clip012)\" style=\"fill:#009af9; stroke:none; fill-opacity:0\" cx=\"2213.1\" cy=\"1440.55\" r=\"2\"/>\n",
       "<path clip-path=\"url(#clip012)\" d=\"M249.811 1419.9 L249.811 1445.72 L274.742 1445.72 L274.742 1419.9 L249.811 1419.9 L249.811 1419.9  Z\" fill=\"#e26f46\" fill-rule=\"evenodd\" fill-opacity=\"1\"/>\n",
       "<polyline clip-path=\"url(#clip012)\" style=\"stroke:#000000; stroke-linecap:round; stroke-linejoin:round; stroke-width:4; stroke-opacity:1; fill:none\" points=\"249.811,1419.9 249.811,1445.72 274.742,1445.72 274.742,1419.9 249.811,1419.9 \"/>\n",
       "<path clip-path=\"url(#clip012)\" d=\"M274.742 1409.58 L274.742 1445.72 L299.673 1445.72 L299.673 1409.58 L274.742 1409.58 L274.742 1409.58  Z\" fill=\"#e26f46\" fill-rule=\"evenodd\" fill-opacity=\"1\"/>\n",
       "<polyline clip-path=\"url(#clip012)\" style=\"stroke:#000000; stroke-linecap:round; stroke-linejoin:round; stroke-width:4; stroke-opacity:1; fill:none\" points=\"274.742,1409.58 274.742,1445.72 299.673,1445.72 299.673,1409.58 274.742,1409.58 \"/>\n",
       "<path clip-path=\"url(#clip012)\" d=\"M299.673 1316.65 L299.673 1445.72 L324.603 1445.72 L324.603 1316.65 L299.673 1316.65 L299.673 1316.65  Z\" fill=\"#e26f46\" fill-rule=\"evenodd\" fill-opacity=\"1\"/>\n",
       "<polyline clip-path=\"url(#clip012)\" style=\"stroke:#000000; stroke-linecap:round; stroke-linejoin:round; stroke-width:4; stroke-opacity:1; fill:none\" points=\"299.673,1316.65 299.673,1445.72 324.603,1445.72 324.603,1316.65 299.673,1316.65 \"/>\n",
       "<path clip-path=\"url(#clip012)\" d=\"M324.603 1182.43 L324.603 1445.72 L349.534 1445.72 L349.534 1182.43 L324.603 1182.43 L324.603 1182.43  Z\" fill=\"#e26f46\" fill-rule=\"evenodd\" fill-opacity=\"1\"/>\n",
       "<polyline clip-path=\"url(#clip012)\" style=\"stroke:#000000; stroke-linecap:round; stroke-linejoin:round; stroke-width:4; stroke-opacity:1; fill:none\" points=\"324.603,1182.43 324.603,1445.72 349.534,1445.72 349.534,1182.43 324.603,1182.43 \"/>\n",
       "<path clip-path=\"url(#clip012)\" d=\"M349.534 888.165 L349.534 1445.72 L374.464 1445.72 L374.464 888.165 L349.534 888.165 L349.534 888.165  Z\" fill=\"#e26f46\" fill-rule=\"evenodd\" fill-opacity=\"1\"/>\n",
       "<polyline clip-path=\"url(#clip012)\" style=\"stroke:#000000; stroke-linecap:round; stroke-linejoin:round; stroke-width:4; stroke-opacity:1; fill:none\" points=\"349.534,888.165 349.534,1445.72 374.464,1445.72 374.464,888.165 349.534,888.165 \"/>\n",
       "<path clip-path=\"url(#clip012)\" d=\"M374.464 635.202 L374.464 1445.72 L399.395 1445.72 L399.395 635.202 L374.464 635.202 L374.464 635.202  Z\" fill=\"#e26f46\" fill-rule=\"evenodd\" fill-opacity=\"1\"/>\n",
       "<polyline clip-path=\"url(#clip012)\" style=\"stroke:#000000; stroke-linecap:round; stroke-linejoin:round; stroke-width:4; stroke-opacity:1; fill:none\" points=\"374.464,635.202 374.464,1445.72 399.395,1445.72 399.395,635.202 374.464,635.202 \"/>\n",
       "<path clip-path=\"url(#clip012)\" d=\"M399.395 402.889 L399.395 1445.72 L424.326 1445.72 L424.326 402.889 L399.395 402.889 L399.395 402.889  Z\" fill=\"#e26f46\" fill-rule=\"evenodd\" fill-opacity=\"1\"/>\n",
       "<polyline clip-path=\"url(#clip012)\" style=\"stroke:#000000; stroke-linecap:round; stroke-linejoin:round; stroke-width:4; stroke-opacity:1; fill:none\" points=\"399.395,402.889 399.395,1445.72 424.326,1445.72 424.326,402.889 399.395,402.889 \"/>\n",
       "<path clip-path=\"url(#clip012)\" d=\"M424.326 87.9763 L424.326 1445.72 L449.256 1445.72 L449.256 87.9763 L424.326 87.9763 L424.326 87.9763  Z\" fill=\"#e26f46\" fill-rule=\"evenodd\" fill-opacity=\"1\"/>\n",
       "<polyline clip-path=\"url(#clip012)\" style=\"stroke:#000000; stroke-linecap:round; stroke-linejoin:round; stroke-width:4; stroke-opacity:1; fill:none\" points=\"424.326,87.9763 424.326,1445.72 449.256,1445.72 449.256,87.9763 424.326,87.9763 \"/>\n",
       "<path clip-path=\"url(#clip012)\" d=\"M449.256 124.114 L449.256 1445.72 L474.187 1445.72 L474.187 124.114 L449.256 124.114 L449.256 124.114  Z\" fill=\"#e26f46\" fill-rule=\"evenodd\" fill-opacity=\"1\"/>\n",
       "<polyline clip-path=\"url(#clip012)\" style=\"stroke:#000000; stroke-linecap:round; stroke-linejoin:round; stroke-width:4; stroke-opacity:1; fill:none\" points=\"449.256,124.114 449.256,1445.72 474.187,1445.72 474.187,124.114 449.256,124.114 \"/>\n",
       "<path clip-path=\"url(#clip012)\" d=\"M474.187 206.714 L474.187 1445.72 L499.117 1445.72 L499.117 206.714 L474.187 206.714 L474.187 206.714  Z\" fill=\"#e26f46\" fill-rule=\"evenodd\" fill-opacity=\"1\"/>\n",
       "<polyline clip-path=\"url(#clip012)\" style=\"stroke:#000000; stroke-linecap:round; stroke-linejoin:round; stroke-width:4; stroke-opacity:1; fill:none\" points=\"474.187,206.714 474.187,1445.72 499.117,1445.72 499.117,206.714 474.187,206.714 \"/>\n",
       "<path clip-path=\"url(#clip012)\" d=\"M499.117 402.889 L499.117 1445.72 L524.048 1445.72 L524.048 402.889 L499.117 402.889 L499.117 402.889  Z\" fill=\"#e26f46\" fill-rule=\"evenodd\" fill-opacity=\"1\"/>\n",
       "<polyline clip-path=\"url(#clip012)\" style=\"stroke:#000000; stroke-linecap:round; stroke-linejoin:round; stroke-width:4; stroke-opacity:1; fill:none\" points=\"499.117,402.889 499.117,1445.72 524.048,1445.72 524.048,402.889 499.117,402.889 \"/>\n",
       "<path clip-path=\"url(#clip012)\" d=\"M524.048 635.202 L524.048 1445.72 L548.979 1445.72 L548.979 635.202 L524.048 635.202 L524.048 635.202  Z\" fill=\"#e26f46\" fill-rule=\"evenodd\" fill-opacity=\"1\"/>\n",
       "<polyline clip-path=\"url(#clip012)\" style=\"stroke:#000000; stroke-linecap:round; stroke-linejoin:round; stroke-width:4; stroke-opacity:1; fill:none\" points=\"524.048,635.202 524.048,1445.72 548.979,1445.72 548.979,635.202 524.048,635.202 \"/>\n",
       "<path clip-path=\"url(#clip012)\" d=\"M548.979 826.215 L548.979 1445.72 L573.909 1445.72 L573.909 826.215 L548.979 826.215 L548.979 826.215  Z\" fill=\"#e26f46\" fill-rule=\"evenodd\" fill-opacity=\"1\"/>\n",
       "<polyline clip-path=\"url(#clip012)\" style=\"stroke:#000000; stroke-linecap:round; stroke-linejoin:round; stroke-width:4; stroke-opacity:1; fill:none\" points=\"548.979,826.215 548.979,1445.72 573.909,1445.72 573.909,826.215 548.979,826.215 \"/>\n",
       "<path clip-path=\"url(#clip012)\" d=\"M573.909 996.578 L573.909 1445.72 L598.84 1445.72 L598.84 996.578 L573.909 996.578 L573.909 996.578  Z\" fill=\"#e26f46\" fill-rule=\"evenodd\" fill-opacity=\"1\"/>\n",
       "<polyline clip-path=\"url(#clip012)\" style=\"stroke:#000000; stroke-linecap:round; stroke-linejoin:round; stroke-width:4; stroke-opacity:1; fill:none\" points=\"573.909,996.578 573.909,1445.72 598.84,1445.72 598.84,996.578 573.909,996.578 \"/>\n",
       "<path clip-path=\"url(#clip012)\" d=\"M598.84 1161.78 L598.84 1445.72 L623.77 1445.72 L623.77 1161.78 L598.84 1161.78 L598.84 1161.78  Z\" fill=\"#e26f46\" fill-rule=\"evenodd\" fill-opacity=\"1\"/>\n",
       "<polyline clip-path=\"url(#clip012)\" style=\"stroke:#000000; stroke-linecap:round; stroke-linejoin:round; stroke-width:4; stroke-opacity:1; fill:none\" points=\"598.84,1161.78 598.84,1445.72 623.77,1445.72 623.77,1161.78 598.84,1161.78 \"/>\n",
       "<path clip-path=\"url(#clip012)\" d=\"M623.77 1301.17 L623.77 1445.72 L648.701 1445.72 L648.701 1301.17 L623.77 1301.17 L623.77 1301.17  Z\" fill=\"#e26f46\" fill-rule=\"evenodd\" fill-opacity=\"1\"/>\n",
       "<polyline clip-path=\"url(#clip012)\" style=\"stroke:#000000; stroke-linecap:round; stroke-linejoin:round; stroke-width:4; stroke-opacity:1; fill:none\" points=\"623.77,1301.17 623.77,1445.72 648.701,1445.72 648.701,1301.17 623.77,1301.17 \"/>\n",
       "<path clip-path=\"url(#clip012)\" d=\"M648.701 1368.28 L648.701 1445.72 L673.632 1445.72 L673.632 1368.28 L648.701 1368.28 L648.701 1368.28  Z\" fill=\"#e26f46\" fill-rule=\"evenodd\" fill-opacity=\"1\"/>\n",
       "<polyline clip-path=\"url(#clip012)\" style=\"stroke:#000000; stroke-linecap:round; stroke-linejoin:round; stroke-width:4; stroke-opacity:1; fill:none\" points=\"648.701,1368.28 648.701,1445.72 673.632,1445.72 673.632,1368.28 648.701,1368.28 \"/>\n",
       "<path clip-path=\"url(#clip012)\" d=\"M673.632 1383.77 L673.632 1445.72 L698.562 1445.72 L698.562 1383.77 L673.632 1383.77 L673.632 1383.77  Z\" fill=\"#e26f46\" fill-rule=\"evenodd\" fill-opacity=\"1\"/>\n",
       "<polyline clip-path=\"url(#clip012)\" style=\"stroke:#000000; stroke-linecap:round; stroke-linejoin:round; stroke-width:4; stroke-opacity:1; fill:none\" points=\"673.632,1383.77 673.632,1445.72 698.562,1445.72 698.562,1383.77 673.632,1383.77 \"/>\n",
       "<path clip-path=\"url(#clip012)\" d=\"M698.562 1414.74 L698.562 1445.72 L723.493 1445.72 L723.493 1414.74 L698.562 1414.74 L698.562 1414.74  Z\" fill=\"#e26f46\" fill-rule=\"evenodd\" fill-opacity=\"1\"/>\n",
       "<polyline clip-path=\"url(#clip012)\" style=\"stroke:#000000; stroke-linecap:round; stroke-linejoin:round; stroke-width:4; stroke-opacity:1; fill:none\" points=\"698.562,1414.74 698.562,1445.72 723.493,1445.72 723.493,1414.74 698.562,1414.74 \"/>\n",
       "<path clip-path=\"url(#clip012)\" d=\"M723.493 1435.39 L723.493 1445.72 L748.423 1445.72 L748.423 1435.39 L723.493 1435.39 L723.493 1435.39  Z\" fill=\"#e26f46\" fill-rule=\"evenodd\" fill-opacity=\"1\"/>\n",
       "<polyline clip-path=\"url(#clip012)\" style=\"stroke:#000000; stroke-linecap:round; stroke-linejoin:round; stroke-width:4; stroke-opacity:1; fill:none\" points=\"723.493,1435.39 723.493,1445.72 748.423,1445.72 748.423,1435.39 723.493,1435.39 \"/>\n",
       "<path clip-path=\"url(#clip012)\" d=\"M748.423 1440.55 L748.423 1445.72 L773.354 1445.72 L773.354 1440.55 L748.423 1440.55 L748.423 1440.55  Z\" fill=\"#e26f46\" fill-rule=\"evenodd\" fill-opacity=\"1\"/>\n",
       "<polyline clip-path=\"url(#clip012)\" style=\"stroke:#000000; stroke-linecap:round; stroke-linejoin:round; stroke-width:4; stroke-opacity:1; fill:none\" points=\"748.423,1440.55 748.423,1445.72 773.354,1445.72 773.354,1440.55 748.423,1440.55 \"/>\n",
       "<path clip-path=\"url(#clip012)\" d=\"M773.354 1445.72 L773.354 1445.72 L798.285 1445.72 L798.285 1445.72 L773.354 1445.72 L773.354 1445.72  Z\" fill=\"#e26f46\" fill-rule=\"evenodd\" fill-opacity=\"1\"/>\n",
       "<polyline clip-path=\"url(#clip012)\" style=\"stroke:#000000; stroke-linecap:round; stroke-linejoin:round; stroke-width:4; stroke-opacity:1; fill:none\" points=\"773.354,1445.72 773.354,1445.72 798.285,1445.72 773.354,1445.72 \"/>\n",
       "<path clip-path=\"url(#clip012)\" d=\"M798.285 1440.55 L798.285 1445.72 L823.215 1445.72 L823.215 1440.55 L798.285 1440.55 L798.285 1440.55  Z\" fill=\"#e26f46\" fill-rule=\"evenodd\" fill-opacity=\"1\"/>\n",
       "<polyline clip-path=\"url(#clip012)\" style=\"stroke:#000000; stroke-linecap:round; stroke-linejoin:round; stroke-width:4; stroke-opacity:1; fill:none\" points=\"798.285,1440.55 798.285,1445.72 823.215,1445.72 823.215,1440.55 798.285,1440.55 \"/>\n",
       "<circle clip-path=\"url(#clip012)\" style=\"fill:#e26f46; stroke:none; fill-opacity:0\" cx=\"262.277\" cy=\"1419.9\" r=\"2\"/>\n",
       "<circle clip-path=\"url(#clip012)\" style=\"fill:#e26f46; stroke:none; fill-opacity:0\" cx=\"287.207\" cy=\"1409.58\" r=\"2\"/>\n",
       "<circle clip-path=\"url(#clip012)\" style=\"fill:#e26f46; stroke:none; fill-opacity:0\" cx=\"312.138\" cy=\"1316.65\" r=\"2\"/>\n",
       "<circle clip-path=\"url(#clip012)\" style=\"fill:#e26f46; stroke:none; fill-opacity:0\" cx=\"337.068\" cy=\"1182.43\" r=\"2\"/>\n",
       "<circle clip-path=\"url(#clip012)\" style=\"fill:#e26f46; stroke:none; fill-opacity:0\" cx=\"361.999\" cy=\"888.165\" r=\"2\"/>\n",
       "<circle clip-path=\"url(#clip012)\" style=\"fill:#e26f46; stroke:none; fill-opacity:0\" cx=\"386.93\" cy=\"635.202\" r=\"2\"/>\n",
       "<circle clip-path=\"url(#clip012)\" style=\"fill:#e26f46; stroke:none; fill-opacity:0\" cx=\"411.86\" cy=\"402.889\" r=\"2\"/>\n",
       "<circle clip-path=\"url(#clip012)\" style=\"fill:#e26f46; stroke:none; fill-opacity:0\" cx=\"436.791\" cy=\"87.9763\" r=\"2\"/>\n",
       "<circle clip-path=\"url(#clip012)\" style=\"fill:#e26f46; stroke:none; fill-opacity:0\" cx=\"461.721\" cy=\"124.114\" r=\"2\"/>\n",
       "<circle clip-path=\"url(#clip012)\" style=\"fill:#e26f46; stroke:none; fill-opacity:0\" cx=\"486.652\" cy=\"206.714\" r=\"2\"/>\n",
       "<circle clip-path=\"url(#clip012)\" style=\"fill:#e26f46; stroke:none; fill-opacity:0\" cx=\"511.583\" cy=\"402.889\" r=\"2\"/>\n",
       "<circle clip-path=\"url(#clip012)\" style=\"fill:#e26f46; stroke:none; fill-opacity:0\" cx=\"536.513\" cy=\"635.202\" r=\"2\"/>\n",
       "<circle clip-path=\"url(#clip012)\" style=\"fill:#e26f46; stroke:none; fill-opacity:0\" cx=\"561.444\" cy=\"826.215\" r=\"2\"/>\n",
       "<circle clip-path=\"url(#clip012)\" style=\"fill:#e26f46; stroke:none; fill-opacity:0\" cx=\"586.374\" cy=\"996.578\" r=\"2\"/>\n",
       "<circle clip-path=\"url(#clip012)\" style=\"fill:#e26f46; stroke:none; fill-opacity:0\" cx=\"611.305\" cy=\"1161.78\" r=\"2\"/>\n",
       "<circle clip-path=\"url(#clip012)\" style=\"fill:#e26f46; stroke:none; fill-opacity:0\" cx=\"636.236\" cy=\"1301.17\" r=\"2\"/>\n",
       "<circle clip-path=\"url(#clip012)\" style=\"fill:#e26f46; stroke:none; fill-opacity:0\" cx=\"661.166\" cy=\"1368.28\" r=\"2\"/>\n",
       "<circle clip-path=\"url(#clip012)\" style=\"fill:#e26f46; stroke:none; fill-opacity:0\" cx=\"686.097\" cy=\"1383.77\" r=\"2\"/>\n",
       "<circle clip-path=\"url(#clip012)\" style=\"fill:#e26f46; stroke:none; fill-opacity:0\" cx=\"711.027\" cy=\"1414.74\" r=\"2\"/>\n",
       "<circle clip-path=\"url(#clip012)\" style=\"fill:#e26f46; stroke:none; fill-opacity:0\" cx=\"735.958\" cy=\"1435.39\" r=\"2\"/>\n",
       "<circle clip-path=\"url(#clip012)\" style=\"fill:#e26f46; stroke:none; fill-opacity:0\" cx=\"760.889\" cy=\"1440.55\" r=\"2\"/>\n",
       "<circle clip-path=\"url(#clip012)\" style=\"fill:#e26f46; stroke:none; fill-opacity:0\" cx=\"785.819\" cy=\"1445.72\" r=\"2\"/>\n",
       "<circle clip-path=\"url(#clip012)\" style=\"fill:#e26f46; stroke:none; fill-opacity:0\" cx=\"810.75\" cy=\"1440.55\" r=\"2\"/>\n",
       "<path clip-path=\"url(#clip010)\" d=\"M1770.82 250.738 L2280.03 250.738 L2280.03 95.2176 L1770.82 95.2176  Z\" fill=\"#ffffff\" fill-rule=\"evenodd\" fill-opacity=\"1\"/>\n",
       "<polyline clip-path=\"url(#clip010)\" style=\"stroke:#000000; stroke-linecap:round; stroke-linejoin:round; stroke-width:4; stroke-opacity:1; fill:none\" points=\"1770.82,250.738 2280.03,250.738 2280.03,95.2176 1770.82,95.2176 1770.82,250.738 \"/>\n",
       "<path clip-path=\"url(#clip010)\" d=\"M1795.06 167.794 L1940.52 167.794 L1940.52 126.322 L1795.06 126.322 L1795.06 167.794  Z\" fill=\"#009af9\" fill-rule=\"evenodd\" fill-opacity=\"1\"/>\n",
       "<polyline clip-path=\"url(#clip010)\" style=\"stroke:#000000; stroke-linecap:round; stroke-linejoin:round; stroke-width:4; stroke-opacity:1; fill:none\" points=\"1795.06,167.794 1940.52,167.794 1940.52,126.322 1795.06,126.322 1795.06,167.794 \"/>\n",
       "<path clip-path=\"url(#clip010)\" d=\"M1987.01 130.912 L1987.01 135.472 Q1984.35 134.199 1981.99 133.574 Q1979.63 132.949 1977.43 132.949 Q1973.61 132.949 1971.52 134.43 Q1969.46 135.912 1969.46 138.643 Q1969.46 140.935 1970.83 142.115 Q1972.22 143.273 1976.06 143.99 L1978.89 144.569 Q1984.12 145.565 1986.59 148.088 Q1989.09 150.588 1989.09 154.801 Q1989.09 159.824 1985.71 162.416 Q1982.36 165.009 1975.85 165.009 Q1973.4 165.009 1970.62 164.453 Q1967.87 163.898 1964.9 162.81 L1964.9 157.995 Q1967.75 159.592 1970.48 160.402 Q1973.21 161.213 1975.85 161.213 Q1979.86 161.213 1982.03 159.639 Q1984.21 158.064 1984.21 155.148 Q1984.21 152.602 1982.64 151.166 Q1981.09 149.731 1977.52 149.014 L1974.67 148.458 Q1969.44 147.416 1967.1 145.194 Q1964.77 142.972 1964.77 139.014 Q1964.77 134.43 1967.98 131.791 Q1971.22 129.153 1976.9 129.153 Q1979.33 129.153 1981.85 129.592 Q1984.37 130.032 1987.01 130.912 Z\" fill=\"#000000\" fill-rule=\"nonzero\" fill-opacity=\"1\" /><path clip-path=\"url(#clip010)\" d=\"M2000.41 131.051 L2000.41 138.412 L2009.19 138.412 L2009.19 141.722 L2000.41 141.722 L2000.41 155.796 Q2000.41 158.967 2001.27 159.87 Q2002.15 160.773 2004.81 160.773 L2009.19 160.773 L2009.19 164.338 L2004.81 164.338 Q1999.88 164.338 1998.01 162.509 Q1996.13 160.657 1996.13 155.796 L1996.13 141.722 L1993.01 141.722 L1993.01 138.412 L1996.13 138.412 L1996.13 131.051 L2000.41 131.051 Z\" fill=\"#000000\" fill-rule=\"nonzero\" fill-opacity=\"1\" /><path clip-path=\"url(#clip010)\" d=\"M2029.81 142.393 Q2029.09 141.977 2028.24 141.791 Q2027.4 141.583 2026.39 141.583 Q2022.77 141.583 2020.83 143.944 Q2018.91 146.282 2018.91 150.68 L2018.91 164.338 L2014.63 164.338 L2014.63 138.412 L2018.91 138.412 L2018.91 142.44 Q2020.25 140.078 2022.4 138.944 Q2024.56 137.787 2027.64 137.787 Q2028.08 137.787 2028.61 137.856 Q2029.14 137.903 2029.79 138.018 L2029.81 142.393 Z\" fill=\"#000000\" fill-rule=\"nonzero\" fill-opacity=\"1\" /><path clip-path=\"url(#clip010)\" d=\"M2043.28 141.398 Q2039.86 141.398 2037.87 144.083 Q2035.88 146.745 2035.88 151.398 Q2035.88 156.051 2037.84 158.736 Q2039.83 161.398 2043.28 161.398 Q2046.69 161.398 2048.68 158.713 Q2050.67 156.027 2050.67 151.398 Q2050.67 146.791 2048.68 144.106 Q2046.69 141.398 2043.28 141.398 M2043.28 137.787 Q2048.84 137.787 2052.01 141.398 Q2055.18 145.009 2055.18 151.398 Q2055.18 157.764 2052.01 161.398 Q2048.84 165.009 2043.28 165.009 Q2037.71 165.009 2034.53 161.398 Q2031.39 157.764 2031.39 151.398 Q2031.39 145.009 2034.53 141.398 Q2037.71 137.787 2043.28 137.787 Z\" fill=\"#000000\" fill-rule=\"nonzero\" fill-opacity=\"1\" /><path clip-path=\"url(#clip010)\" d=\"M2062.08 128.319 L2066.36 128.319 L2066.36 149.592 L2079.07 138.412 L2084.51 138.412 L2070.76 150.541 L2085.09 164.338 L2079.53 164.338 L2066.36 151.676 L2066.36 164.338 L2062.08 164.338 L2062.08 128.319 Z\" fill=\"#000000\" fill-rule=\"nonzero\" fill-opacity=\"1\" /><path clip-path=\"url(#clip010)\" d=\"M2110.18 150.31 L2110.18 152.393 L2090.6 152.393 Q2090.88 156.791 2093.24 159.106 Q2095.62 161.398 2099.86 161.398 Q2102.31 161.398 2104.6 160.796 Q2106.92 160.194 2109.19 158.99 L2109.19 163.018 Q2106.89 163.99 2104.49 164.5 Q2102.08 165.009 2099.6 165.009 Q2093.4 165.009 2089.77 161.398 Q2086.15 157.787 2086.15 151.629 Q2086.15 145.264 2089.58 141.537 Q2093.03 137.787 2098.86 137.787 Q2104.09 137.787 2107.13 141.166 Q2110.18 144.523 2110.18 150.31 M2105.92 149.06 Q2105.88 145.565 2103.95 143.481 Q2102.06 141.398 2098.91 141.398 Q2095.34 141.398 2093.19 143.412 Q2091.06 145.426 2090.74 149.083 L2105.92 149.06 Z\" fill=\"#000000\" fill-rule=\"nonzero\" fill-opacity=\"1\" /><path clip-path=\"url(#clip010)\" d=\"M1795.06 219.634 L1940.52 219.634 L1940.52 178.162 L1795.06 178.162 L1795.06 219.634  Z\" fill=\"#e26f46\" fill-rule=\"evenodd\" fill-opacity=\"1\"/>\n",
       "<polyline clip-path=\"url(#clip010)\" style=\"stroke:#000000; stroke-linecap:round; stroke-linejoin:round; stroke-width:4; stroke-opacity:1; fill:none\" points=\"1795.06,219.634 1940.52,219.634 1940.52,178.162 1795.06,178.162 1795.06,219.634 \"/>\n",
       "<path clip-path=\"url(#clip010)\" d=\"M1964.77 181.618 L1969.44 181.618 L1969.44 195.784 L1986.43 195.784 L1986.43 181.618 L1991.11 181.618 L1991.11 216.178 L1986.43 216.178 L1986.43 199.719 L1969.44 199.719 L1969.44 216.178 L1964.77 216.178 L1964.77 181.618 Z\" fill=\"#000000\" fill-rule=\"nonzero\" fill-opacity=\"1\" /><path clip-path=\"url(#clip010)\" d=\"M2022.4 202.15 L2022.4 204.233 L2002.82 204.233 Q2003.1 208.631 2005.46 210.946 Q2007.84 213.238 2012.08 213.238 Q2014.53 213.238 2016.83 212.636 Q2019.14 212.034 2021.41 210.83 L2021.41 214.858 Q2019.12 215.83 2016.71 216.34 Q2014.3 216.849 2011.83 216.849 Q2005.62 216.849 2001.99 213.238 Q1998.38 209.627 1998.38 203.469 Q1998.38 197.104 2001.8 193.377 Q2005.25 189.627 2011.08 189.627 Q2016.32 189.627 2019.35 193.006 Q2022.4 196.363 2022.4 202.15 M2018.15 200.9 Q2018.1 197.405 2016.18 195.321 Q2014.28 193.238 2011.13 193.238 Q2007.57 193.238 2005.41 195.252 Q2003.28 197.266 2002.96 200.923 L2018.15 200.9 Z\" fill=\"#000000\" fill-rule=\"nonzero\" fill-opacity=\"1\" /><path clip-path=\"url(#clip010)\" d=\"M2041.18 203.145 Q2036.02 203.145 2034.02 204.326 Q2032.03 205.506 2032.03 208.354 Q2032.03 210.622 2033.52 211.965 Q2035.02 213.284 2037.59 213.284 Q2041.13 213.284 2043.26 210.784 Q2045.41 208.261 2045.41 204.094 L2045.41 203.145 L2041.18 203.145 M2049.67 201.386 L2049.67 216.178 L2045.41 216.178 L2045.41 212.242 Q2043.96 214.603 2041.78 215.738 Q2039.6 216.849 2036.46 216.849 Q2032.47 216.849 2030.11 214.627 Q2027.77 212.381 2027.77 208.631 Q2027.77 204.256 2030.69 202.034 Q2033.63 199.812 2039.44 199.812 L2045.41 199.812 L2045.41 199.395 Q2045.41 196.455 2043.47 194.858 Q2041.55 193.238 2038.05 193.238 Q2035.83 193.238 2033.72 193.77 Q2031.62 194.303 2029.67 195.367 L2029.67 191.432 Q2032.01 190.53 2034.21 190.09 Q2036.41 189.627 2038.49 189.627 Q2044.12 189.627 2046.89 192.543 Q2049.67 195.46 2049.67 201.386 Z\" fill=\"#000000\" fill-rule=\"nonzero\" fill-opacity=\"1\" /><path clip-path=\"url(#clip010)\" d=\"M2073.47 194.233 Q2072.75 193.817 2071.89 193.631 Q2071.06 193.423 2070.04 193.423 Q2066.43 193.423 2064.49 195.784 Q2062.57 198.122 2062.57 202.52 L2062.57 216.178 L2058.28 216.178 L2058.28 190.252 L2062.57 190.252 L2062.57 194.28 Q2063.91 191.918 2066.06 190.784 Q2068.21 189.627 2071.29 189.627 Q2071.73 189.627 2072.27 189.696 Q2072.8 189.743 2073.45 189.858 L2073.47 194.233 Z\" fill=\"#000000\" fill-rule=\"nonzero\" fill-opacity=\"1\" /><path clip-path=\"url(#clip010)\" d=\"M2082.15 182.891 L2082.15 190.252 L2090.92 190.252 L2090.92 193.562 L2082.15 193.562 L2082.15 207.636 Q2082.15 210.807 2083.01 211.71 Q2083.89 212.613 2086.55 212.613 L2090.92 212.613 L2090.92 216.178 L2086.55 216.178 Q2081.62 216.178 2079.74 214.349 Q2077.87 212.497 2077.87 207.636 L2077.87 193.562 L2074.74 193.562 L2074.74 190.252 L2077.87 190.252 L2077.87 182.891 L2082.15 182.891 Z\" fill=\"#000000\" fill-rule=\"nonzero\" fill-opacity=\"1\" /><path clip-path=\"url(#clip010)\" d=\"M2123.38 203.145 Q2118.21 203.145 2116.22 204.326 Q2114.23 205.506 2114.23 208.354 Q2114.23 210.622 2115.71 211.965 Q2117.22 213.284 2119.79 213.284 Q2123.33 213.284 2125.46 210.784 Q2127.61 208.261 2127.61 204.094 L2127.61 203.145 L2123.38 203.145 M2131.87 201.386 L2131.87 216.178 L2127.61 216.178 L2127.61 212.242 Q2126.15 214.603 2123.98 215.738 Q2121.8 216.849 2118.65 216.849 Q2114.67 216.849 2112.31 214.627 Q2109.97 212.381 2109.97 208.631 Q2109.97 204.256 2112.89 202.034 Q2115.83 199.812 2121.64 199.812 L2127.61 199.812 L2127.61 199.395 Q2127.61 196.455 2125.67 194.858 Q2123.75 193.238 2120.25 193.238 Q2118.03 193.238 2115.92 193.77 Q2113.82 194.303 2111.87 195.367 L2111.87 191.432 Q2114.21 190.53 2116.41 190.09 Q2118.61 189.627 2120.69 189.627 Q2126.32 189.627 2129.09 192.543 Q2131.87 195.46 2131.87 201.386 Z\" fill=\"#000000\" fill-rule=\"nonzero\" fill-opacity=\"1\" /><path clip-path=\"url(#clip010)\" d=\"M2144.86 182.891 L2144.86 190.252 L2153.63 190.252 L2153.63 193.562 L2144.86 193.562 L2144.86 207.636 Q2144.86 210.807 2145.71 211.71 Q2146.59 212.613 2149.26 212.613 L2153.63 212.613 L2153.63 216.178 L2149.26 216.178 Q2144.32 216.178 2142.45 214.349 Q2140.57 212.497 2140.57 207.636 L2140.57 193.562 L2137.45 193.562 L2137.45 190.252 L2140.57 190.252 L2140.57 182.891 L2144.86 182.891 Z\" fill=\"#000000\" fill-rule=\"nonzero\" fill-opacity=\"1\" /><path clip-path=\"url(#clip010)\" d=\"M2163.45 182.891 L2163.45 190.252 L2172.22 190.252 L2172.22 193.562 L2163.45 193.562 L2163.45 207.636 Q2163.45 210.807 2164.3 211.71 Q2165.18 212.613 2167.84 212.613 L2172.22 212.613 L2172.22 216.178 L2167.84 216.178 Q2162.91 216.178 2161.04 214.349 Q2159.16 212.497 2159.16 207.636 L2159.16 193.562 L2156.04 193.562 L2156.04 190.252 L2159.16 190.252 L2159.16 182.891 L2163.45 182.891 Z\" fill=\"#000000\" fill-rule=\"nonzero\" fill-opacity=\"1\" /><path clip-path=\"url(#clip010)\" d=\"M2189.6 203.145 Q2184.44 203.145 2182.45 204.326 Q2180.46 205.506 2180.46 208.354 Q2180.46 210.622 2181.94 211.965 Q2183.45 213.284 2186.01 213.284 Q2189.56 213.284 2191.69 210.784 Q2193.84 208.261 2193.84 204.094 L2193.84 203.145 L2189.6 203.145 M2198.1 201.386 L2198.1 216.178 L2193.84 216.178 L2193.84 212.242 Q2192.38 214.603 2190.2 215.738 Q2188.03 216.849 2184.88 216.849 Q2180.9 216.849 2178.54 214.627 Q2176.2 212.381 2176.2 208.631 Q2176.2 204.256 2179.12 202.034 Q2182.06 199.812 2187.87 199.812 L2193.84 199.812 L2193.84 199.395 Q2193.84 196.455 2191.89 194.858 Q2189.97 193.238 2186.48 193.238 Q2184.26 193.238 2182.15 193.77 Q2180.04 194.303 2178.1 195.367 L2178.1 191.432 Q2180.44 190.53 2182.63 190.09 Q2184.83 189.627 2186.92 189.627 Q2192.54 189.627 2195.32 192.543 Q2198.1 195.46 2198.1 201.386 Z\" fill=\"#000000\" fill-rule=\"nonzero\" fill-opacity=\"1\" /><path clip-path=\"url(#clip010)\" d=\"M2225.53 191.247 L2225.53 195.229 Q2223.72 194.233 2221.89 193.747 Q2220.09 193.238 2218.24 193.238 Q2214.09 193.238 2211.8 195.877 Q2209.51 198.492 2209.51 203.238 Q2209.51 207.983 2211.8 210.622 Q2214.09 213.238 2218.24 213.238 Q2220.09 213.238 2221.89 212.752 Q2223.72 212.242 2225.53 211.247 L2225.53 215.182 Q2223.75 216.016 2221.82 216.432 Q2219.93 216.849 2217.77 216.849 Q2211.92 216.849 2208.47 213.168 Q2205.02 209.488 2205.02 203.238 Q2205.02 196.895 2208.49 193.261 Q2211.99 189.627 2218.05 189.627 Q2220.02 189.627 2221.89 190.043 Q2223.77 190.437 2225.53 191.247 Z\" fill=\"#000000\" fill-rule=\"nonzero\" fill-opacity=\"1\" /><path clip-path=\"url(#clip010)\" d=\"M2232.77 180.159 L2237.06 180.159 L2237.06 201.432 L2249.76 190.252 L2255.2 190.252 L2241.45 202.381 L2255.78 216.178 L2250.23 216.178 L2237.06 203.516 L2237.06 216.178 L2232.77 216.178 L2232.77 180.159 Z\" fill=\"#000000\" fill-rule=\"nonzero\" fill-opacity=\"1\" /></svg>\n"
      ]
     },
     "execution_count": 42,
     "metadata": {},
     "output_type": "execute_result"
    }
   ],
   "source": [
    "histogram(stOR.Distr, bins = 30, normalize = false, label = \"Stroke\")\n",
    "histogram!(haOR.Distr, bins = 30, normalize = false, label = \"Heart attack\")"
   ]
  },
  {
   "cell_type": "markdown",
   "id": "63be32f1-71c6-4d56-892e-86d64e3e1f43",
   "metadata": {},
   "source": [
    "## Example 2: Smoking and lung cancer\n",
    "\n",
    "Case control study to determine if there is a correlation between smoking and lung cancer. "
   ]
  },
  {
   "cell_type": "code",
   "execution_count": 8,
   "id": "5892f0ec-0c36-4c7b-b2bc-b552cbe37a39",
   "metadata": {},
   "outputs": [
    {
     "data": {
      "text/plain": [
       "Table with 4 columns and 2 rows:\n",
       "     Group       n    Smokers  NonSmokers\n",
       "   ┌─────────────────────────────────────\n",
       " 1 │ Control     649  622      27\n",
       " 2 │ LungCancer  649  647      2"
      ]
     },
     "execution_count": 8,
     "metadata": {},
     "output_type": "execute_result"
    }
   ],
   "source": [
    "t = Table(Group        = [\"Control\", \"LungCancer\"],\n",
    "          n            = [649, 649],\n",
    "          Smokers      = [622, 647],\n",
    "          NonSmokers   = [ 27,   2])"
   ]
  },
  {
   "cell_type": "code",
   "execution_count": 52,
   "id": "dd75d52a-e2e5-44a4-8eed-ebde310207d9",
   "metadata": {},
   "outputs": [
    {
     "data": {
      "text/plain": [
       "Table with 3 columns and 2 rows:\n",
       "     Group       Odds        OddsRatio\n",
       "   ┌──────────────────────────────────\n",
       " 1 │ Control     0.0434084   1.0\n",
       " 2 │ LungCancer  0.00309119  0.0712119"
      ]
     },
     "execution_count": 52,
     "metadata": {},
     "output_type": "execute_result"
    }
   ],
   "source": [
    "smoking = OddsRatio(t, :NonSmokers, :n, :Group)\n",
    "smoking.OddsRatio"
   ]
  },
  {
   "cell_type": "code",
   "execution_count": 53,
   "id": "e5cd73cd-efa4-4001-9d95-454a2a729cbf",
   "metadata": {},
   "outputs": [
    {
     "data": {
      "text/plain": [
       "(Percentile = 95.0, CI = [0.0, 0.2173987941429802])"
      ]
     },
     "execution_count": 53,
     "metadata": {},
     "output_type": "execute_result"
    }
   ],
   "source": [
    "smoking.CI"
   ]
  },
  {
   "cell_type": "code",
   "execution_count": 65,
   "id": "0b5eb5c0-d6f3-4a9d-9e00-0a98a44ad44e",
   "metadata": {},
   "outputs": [
    {
     "data": {
      "image/svg+xml": [
       "<?xml version=\"1.0\" encoding=\"utf-8\"?>\n",
       "<svg xmlns=\"http://www.w3.org/2000/svg\" xmlns:xlink=\"http://www.w3.org/1999/xlink\" width=\"600\" height=\"400\" viewBox=\"0 0 2400 1600\">\n",
       "<defs>\n",
       "  <clipPath id=\"clip490\">\n",
       "    <rect x=\"0\" y=\"0\" width=\"2400\" height=\"1600\"/>\n",
       "  </clipPath>\n",
       "</defs>\n",
       "<path clip-path=\"url(#clip490)\" d=\"M0 1600 L2400 1600 L2400 0 L0 0  Z\" fill=\"#ffffff\" fill-rule=\"evenodd\" fill-opacity=\"1\"/>\n",
       "<defs>\n",
       "  <clipPath id=\"clip491\">\n",
       "    <rect x=\"480\" y=\"0\" width=\"1681\" height=\"1600\"/>\n",
       "  </clipPath>\n",
       "</defs>\n",
       "<path clip-path=\"url(#clip490)\" d=\"M170.857 1486.45 L2352.76 1486.45 L2352.76 47.2441 L170.857 47.2441  Z\" fill=\"#ffffff\" fill-rule=\"evenodd\" fill-opacity=\"1\"/>\n",
       "<defs>\n",
       "  <clipPath id=\"clip492\">\n",
       "    <rect x=\"170\" y=\"47\" width=\"2183\" height=\"1440\"/>\n",
       "  </clipPath>\n",
       "</defs>\n",
       "<polyline clip-path=\"url(#clip492)\" style=\"stroke:#000000; stroke-linecap:round; stroke-linejoin:round; stroke-width:2; stroke-opacity:0.1; fill:none\" points=\"290.866,1486.45 290.866,47.2441 \"/>\n",
       "<polyline clip-path=\"url(#clip492)\" style=\"stroke:#000000; stroke-linecap:round; stroke-linejoin:round; stroke-width:2; stroke-opacity:0.1; fill:none\" points=\"732.203,1486.45 732.203,47.2441 \"/>\n",
       "<polyline clip-path=\"url(#clip492)\" style=\"stroke:#000000; stroke-linecap:round; stroke-linejoin:round; stroke-width:2; stroke-opacity:0.1; fill:none\" points=\"1173.54,1486.45 1173.54,47.2441 \"/>\n",
       "<polyline clip-path=\"url(#clip492)\" style=\"stroke:#000000; stroke-linecap:round; stroke-linejoin:round; stroke-width:2; stroke-opacity:0.1; fill:none\" points=\"1614.88,1486.45 1614.88,47.2441 \"/>\n",
       "<polyline clip-path=\"url(#clip492)\" style=\"stroke:#000000; stroke-linecap:round; stroke-linejoin:round; stroke-width:2; stroke-opacity:0.1; fill:none\" points=\"2056.21,1486.45 2056.21,47.2441 \"/>\n",
       "<polyline clip-path=\"url(#clip490)\" style=\"stroke:#000000; stroke-linecap:round; stroke-linejoin:round; stroke-width:4; stroke-opacity:1; fill:none\" points=\"170.857,1486.45 2352.76,1486.45 \"/>\n",
       "<polyline clip-path=\"url(#clip490)\" style=\"stroke:#000000; stroke-linecap:round; stroke-linejoin:round; stroke-width:4; stroke-opacity:1; fill:none\" points=\"290.866,1486.45 290.866,1467.55 \"/>\n",
       "<polyline clip-path=\"url(#clip490)\" style=\"stroke:#000000; stroke-linecap:round; stroke-linejoin:round; stroke-width:4; stroke-opacity:1; fill:none\" points=\"732.203,1486.45 732.203,1467.55 \"/>\n",
       "<polyline clip-path=\"url(#clip490)\" style=\"stroke:#000000; stroke-linecap:round; stroke-linejoin:round; stroke-width:4; stroke-opacity:1; fill:none\" points=\"1173.54,1486.45 1173.54,1467.55 \"/>\n",
       "<polyline clip-path=\"url(#clip490)\" style=\"stroke:#000000; stroke-linecap:round; stroke-linejoin:round; stroke-width:4; stroke-opacity:1; fill:none\" points=\"1614.88,1486.45 1614.88,1467.55 \"/>\n",
       "<polyline clip-path=\"url(#clip490)\" style=\"stroke:#000000; stroke-linecap:round; stroke-linejoin:round; stroke-width:4; stroke-opacity:1; fill:none\" points=\"2056.21,1486.45 2056.21,1467.55 \"/>\n",
       "<path clip-path=\"url(#clip490)\" d=\"M268.25 1517.37 Q264.639 1517.37 262.81 1520.93 Q261.005 1524.47 261.005 1531.6 Q261.005 1538.71 262.81 1542.27 Q264.639 1545.82 268.25 1545.82 Q271.884 1545.82 273.69 1542.27 Q275.519 1538.71 275.519 1531.6 Q275.519 1524.47 273.69 1520.93 Q271.884 1517.37 268.25 1517.37 M268.25 1513.66 Q274.06 1513.66 277.116 1518.27 Q280.194 1522.85 280.194 1531.6 Q280.194 1540.33 277.116 1544.94 Q274.06 1549.52 268.25 1549.52 Q262.44 1549.52 259.361 1544.94 Q256.306 1540.33 256.306 1531.6 Q256.306 1522.85 259.361 1518.27 Q262.44 1513.66 268.25 1513.66 Z\" fill=\"#000000\" fill-rule=\"nonzero\" fill-opacity=\"1\" /><path clip-path=\"url(#clip490)\" d=\"M288.412 1542.97 L293.296 1542.97 L293.296 1548.85 L288.412 1548.85 L288.412 1542.97 Z\" fill=\"#000000\" fill-rule=\"nonzero\" fill-opacity=\"1\" /><path clip-path=\"url(#clip490)\" d=\"M313.481 1517.37 Q309.87 1517.37 308.042 1520.93 Q306.236 1524.47 306.236 1531.6 Q306.236 1538.71 308.042 1542.27 Q309.87 1545.82 313.481 1545.82 Q317.116 1545.82 318.921 1542.27 Q320.75 1538.71 320.75 1531.6 Q320.75 1524.47 318.921 1520.93 Q317.116 1517.37 313.481 1517.37 M313.481 1513.66 Q319.291 1513.66 322.347 1518.27 Q325.426 1522.85 325.426 1531.6 Q325.426 1540.33 322.347 1544.94 Q319.291 1549.52 313.481 1549.52 Q307.671 1549.52 304.592 1544.94 Q301.537 1540.33 301.537 1531.6 Q301.537 1522.85 304.592 1518.27 Q307.671 1513.66 313.481 1513.66 Z\" fill=\"#000000\" fill-rule=\"nonzero\" fill-opacity=\"1\" /><path clip-path=\"url(#clip490)\" d=\"M710.2 1517.37 Q706.589 1517.37 704.761 1520.93 Q702.955 1524.47 702.955 1531.6 Q702.955 1538.71 704.761 1542.27 Q706.589 1545.82 710.2 1545.82 Q713.835 1545.82 715.64 1542.27 Q717.469 1538.71 717.469 1531.6 Q717.469 1524.47 715.64 1520.93 Q713.835 1517.37 710.2 1517.37 M710.2 1513.66 Q716.01 1513.66 719.066 1518.27 Q722.145 1522.85 722.145 1531.6 Q722.145 1540.33 719.066 1544.94 Q716.01 1549.52 710.2 1549.52 Q704.39 1549.52 701.311 1544.94 Q698.256 1540.33 698.256 1531.6 Q698.256 1522.85 701.311 1518.27 Q704.39 1513.66 710.2 1513.66 Z\" fill=\"#000000\" fill-rule=\"nonzero\" fill-opacity=\"1\" /><path clip-path=\"url(#clip490)\" d=\"M730.362 1542.97 L735.246 1542.97 L735.246 1548.85 L730.362 1548.85 L730.362 1542.97 Z\" fill=\"#000000\" fill-rule=\"nonzero\" fill-opacity=\"1\" /><path clip-path=\"url(#clip490)\" d=\"M746.242 1544.91 L753.881 1544.91 L753.881 1518.55 L745.57 1520.21 L745.57 1515.95 L753.834 1514.29 L758.51 1514.29 L758.51 1544.91 L766.149 1544.91 L766.149 1548.85 L746.242 1548.85 L746.242 1544.91 Z\" fill=\"#000000\" fill-rule=\"nonzero\" fill-opacity=\"1\" /><path clip-path=\"url(#clip490)\" d=\"M1151.72 1517.37 Q1148.11 1517.37 1146.28 1520.93 Q1144.48 1524.47 1144.48 1531.6 Q1144.48 1538.71 1146.28 1542.27 Q1148.11 1545.82 1151.72 1545.82 Q1155.36 1545.82 1157.16 1542.27 Q1158.99 1538.71 1158.99 1531.6 Q1158.99 1524.47 1157.16 1520.93 Q1155.36 1517.37 1151.72 1517.37 M1151.72 1513.66 Q1157.53 1513.66 1160.59 1518.27 Q1163.67 1522.85 1163.67 1531.6 Q1163.67 1540.33 1160.59 1544.94 Q1157.53 1549.52 1151.72 1549.52 Q1145.91 1549.52 1142.83 1544.94 Q1139.78 1540.33 1139.78 1531.6 Q1139.78 1522.85 1142.83 1518.27 Q1145.91 1513.66 1151.72 1513.66 Z\" fill=\"#000000\" fill-rule=\"nonzero\" fill-opacity=\"1\" /><path clip-path=\"url(#clip490)\" d=\"M1171.88 1542.97 L1176.77 1542.97 L1176.77 1548.85 L1171.88 1548.85 L1171.88 1542.97 Z\" fill=\"#000000\" fill-rule=\"nonzero\" fill-opacity=\"1\" /><path clip-path=\"url(#clip490)\" d=\"M1190.98 1544.91 L1207.3 1544.91 L1207.3 1548.85 L1185.36 1548.85 L1185.36 1544.91 Q1188.02 1542.16 1192.6 1537.53 Q1197.21 1532.88 1198.39 1531.53 Q1200.63 1529.01 1201.51 1527.27 Q1202.42 1525.51 1202.42 1523.82 Q1202.42 1521.07 1200.47 1519.33 Q1198.55 1517.6 1195.45 1517.6 Q1193.25 1517.6 1190.8 1518.36 Q1188.37 1519.13 1185.59 1520.68 L1185.59 1515.95 Q1188.41 1514.82 1190.87 1514.24 Q1193.32 1513.66 1195.36 1513.66 Q1200.73 1513.66 1203.92 1516.35 Q1207.12 1519.03 1207.12 1523.52 Q1207.12 1525.65 1206.31 1527.57 Q1205.52 1529.47 1203.41 1532.07 Q1202.83 1532.74 1199.73 1535.95 Q1196.63 1539.15 1190.98 1544.91 Z\" fill=\"#000000\" fill-rule=\"nonzero\" fill-opacity=\"1\" /><path clip-path=\"url(#clip490)\" d=\"M1592.58 1517.37 Q1588.97 1517.37 1587.14 1520.93 Q1585.34 1524.47 1585.34 1531.6 Q1585.34 1538.71 1587.14 1542.27 Q1588.97 1545.82 1592.58 1545.82 Q1596.22 1545.82 1598.02 1542.27 Q1599.85 1538.71 1599.85 1531.6 Q1599.85 1524.47 1598.02 1520.93 Q1596.22 1517.37 1592.58 1517.37 M1592.58 1513.66 Q1598.39 1513.66 1601.45 1518.27 Q1604.53 1522.85 1604.53 1531.6 Q1604.53 1540.33 1601.45 1544.94 Q1598.39 1549.52 1592.58 1549.52 Q1586.77 1549.52 1583.7 1544.94 Q1580.64 1540.33 1580.64 1531.6 Q1580.64 1522.85 1583.7 1518.27 Q1586.77 1513.66 1592.58 1513.66 Z\" fill=\"#000000\" fill-rule=\"nonzero\" fill-opacity=\"1\" /><path clip-path=\"url(#clip490)\" d=\"M1612.75 1542.97 L1617.63 1542.97 L1617.63 1548.85 L1612.75 1548.85 L1612.75 1542.97 Z\" fill=\"#000000\" fill-rule=\"nonzero\" fill-opacity=\"1\" /><path clip-path=\"url(#clip490)\" d=\"M1641.98 1530.21 Q1645.34 1530.93 1647.21 1533.2 Q1649.11 1535.47 1649.11 1538.8 Q1649.11 1543.92 1645.59 1546.72 Q1642.08 1549.52 1635.59 1549.52 Q1633.42 1549.52 1631.1 1549.08 Q1628.81 1548.66 1626.36 1547.81 L1626.36 1543.29 Q1628.3 1544.43 1630.62 1545.01 Q1632.93 1545.58 1635.45 1545.58 Q1639.85 1545.58 1642.14 1543.85 Q1644.46 1542.11 1644.46 1538.8 Q1644.46 1535.75 1642.31 1534.03 Q1640.18 1532.3 1636.36 1532.3 L1632.33 1532.3 L1632.33 1528.45 L1636.54 1528.45 Q1639.99 1528.45 1641.82 1527.09 Q1643.65 1525.7 1643.65 1523.11 Q1643.65 1520.45 1641.75 1519.03 Q1639.88 1517.6 1636.36 1517.6 Q1634.44 1517.6 1632.24 1518.01 Q1630.04 1518.43 1627.4 1519.31 L1627.4 1515.14 Q1630.06 1514.4 1632.38 1514.03 Q1634.71 1513.66 1636.77 1513.66 Q1642.1 1513.66 1645.2 1516.09 Q1648.3 1518.5 1648.3 1522.62 Q1648.3 1525.49 1646.66 1527.48 Q1645.01 1529.45 1641.98 1530.21 Z\" fill=\"#000000\" fill-rule=\"nonzero\" fill-opacity=\"1\" /><path clip-path=\"url(#clip490)\" d=\"M2033.35 1517.37 Q2029.74 1517.37 2027.91 1520.93 Q2026.11 1524.47 2026.11 1531.6 Q2026.11 1538.71 2027.91 1542.27 Q2029.74 1545.82 2033.35 1545.82 Q2036.99 1545.82 2038.79 1542.27 Q2040.62 1538.71 2040.62 1531.6 Q2040.62 1524.47 2038.79 1520.93 Q2036.99 1517.37 2033.35 1517.37 M2033.35 1513.66 Q2039.16 1513.66 2042.22 1518.27 Q2045.3 1522.85 2045.3 1531.6 Q2045.3 1540.33 2042.22 1544.94 Q2039.16 1549.52 2033.35 1549.52 Q2027.54 1549.52 2024.47 1544.94 Q2021.41 1540.33 2021.41 1531.6 Q2021.41 1522.85 2024.47 1518.27 Q2027.54 1513.66 2033.35 1513.66 Z\" fill=\"#000000\" fill-rule=\"nonzero\" fill-opacity=\"1\" /><path clip-path=\"url(#clip490)\" d=\"M2053.52 1542.97 L2058.4 1542.97 L2058.4 1548.85 L2053.52 1548.85 L2053.52 1542.97 Z\" fill=\"#000000\" fill-rule=\"nonzero\" fill-opacity=\"1\" /><path clip-path=\"url(#clip490)\" d=\"M2081.43 1518.36 L2069.63 1536.81 L2081.43 1536.81 L2081.43 1518.36 M2080.21 1514.29 L2086.09 1514.29 L2086.09 1536.81 L2091.02 1536.81 L2091.02 1540.7 L2086.09 1540.7 L2086.09 1548.85 L2081.43 1548.85 L2081.43 1540.7 L2065.83 1540.7 L2065.83 1536.19 L2080.21 1514.29 Z\" fill=\"#000000\" fill-rule=\"nonzero\" fill-opacity=\"1\" /><polyline clip-path=\"url(#clip492)\" style=\"stroke:#000000; stroke-linecap:round; stroke-linejoin:round; stroke-width:2; stroke-opacity:0.1; fill:none\" points=\"170.857,1445.72 2352.76,1445.72 \"/>\n",
       "<polyline clip-path=\"url(#clip492)\" style=\"stroke:#000000; stroke-linecap:round; stroke-linejoin:round; stroke-width:2; stroke-opacity:0.1; fill:none\" points=\"170.857,1045.2 2352.76,1045.2 \"/>\n",
       "<polyline clip-path=\"url(#clip492)\" style=\"stroke:#000000; stroke-linecap:round; stroke-linejoin:round; stroke-width:2; stroke-opacity:0.1; fill:none\" points=\"170.857,644.689 2352.76,644.689 \"/>\n",
       "<polyline clip-path=\"url(#clip492)\" style=\"stroke:#000000; stroke-linecap:round; stroke-linejoin:round; stroke-width:2; stroke-opacity:0.1; fill:none\" points=\"170.857,244.176 2352.76,244.176 \"/>\n",
       "<polyline clip-path=\"url(#clip490)\" style=\"stroke:#000000; stroke-linecap:round; stroke-linejoin:round; stroke-width:4; stroke-opacity:1; fill:none\" points=\"170.857,1486.45 170.857,47.2441 \"/>\n",
       "<polyline clip-path=\"url(#clip490)\" style=\"stroke:#000000; stroke-linecap:round; stroke-linejoin:round; stroke-width:4; stroke-opacity:1; fill:none\" points=\"170.857,1445.72 189.755,1445.72 \"/>\n",
       "<polyline clip-path=\"url(#clip490)\" style=\"stroke:#000000; stroke-linecap:round; stroke-linejoin:round; stroke-width:4; stroke-opacity:1; fill:none\" points=\"170.857,1045.2 189.755,1045.2 \"/>\n",
       "<polyline clip-path=\"url(#clip490)\" style=\"stroke:#000000; stroke-linecap:round; stroke-linejoin:round; stroke-width:4; stroke-opacity:1; fill:none\" points=\"170.857,644.689 189.755,644.689 \"/>\n",
       "<polyline clip-path=\"url(#clip490)\" style=\"stroke:#000000; stroke-linecap:round; stroke-linejoin:round; stroke-width:4; stroke-opacity:1; fill:none\" points=\"170.857,244.176 189.755,244.176 \"/>\n",
       "<path clip-path=\"url(#clip490)\" d=\"M122.913 1431.51 Q119.302 1431.51 117.473 1435.08 Q115.668 1438.62 115.668 1445.75 Q115.668 1452.86 117.473 1456.42 Q119.302 1459.96 122.913 1459.96 Q126.547 1459.96 128.353 1456.42 Q130.182 1452.86 130.182 1445.75 Q130.182 1438.62 128.353 1435.08 Q126.547 1431.51 122.913 1431.51 M122.913 1427.81 Q128.723 1427.81 131.779 1432.42 Q134.857 1437 134.857 1445.75 Q134.857 1454.48 131.779 1459.08 Q128.723 1463.67 122.913 1463.67 Q117.103 1463.67 114.024 1459.08 Q110.969 1454.48 110.969 1445.75 Q110.969 1437 114.024 1432.42 Q117.103 1427.81 122.913 1427.81 Z\" fill=\"#000000\" fill-rule=\"nonzero\" fill-opacity=\"1\" /><path clip-path=\"url(#clip490)\" d=\"M53.3995 1058.55 L61.0384 1058.55 L61.0384 1032.18 L52.7282 1033.85 L52.7282 1029.59 L60.9921 1027.92 L65.668 1027.92 L65.668 1058.55 L73.3068 1058.55 L73.3068 1062.48 L53.3995 1062.48 L53.3995 1058.55 Z\" fill=\"#000000\" fill-rule=\"nonzero\" fill-opacity=\"1\" /><path clip-path=\"url(#clip490)\" d=\"M92.7512 1031 Q89.1401 1031 87.3114 1034.57 Q85.5058 1038.11 85.5058 1045.24 Q85.5058 1052.34 87.3114 1055.91 Q89.1401 1059.45 92.7512 1059.45 Q96.3854 1059.45 98.1909 1055.91 Q100.02 1052.34 100.02 1045.24 Q100.02 1038.11 98.1909 1034.57 Q96.3854 1031 92.7512 1031 M92.7512 1027.3 Q98.5613 1027.3 101.617 1031.9 Q104.696 1036.49 104.696 1045.24 Q104.696 1053.96 101.617 1058.57 Q98.5613 1063.15 92.7512 1063.15 Q86.941 1063.15 83.8623 1058.57 Q80.8068 1053.96 80.8068 1045.24 Q80.8068 1036.49 83.8623 1031.9 Q86.941 1027.3 92.7512 1027.3 Z\" fill=\"#000000\" fill-rule=\"nonzero\" fill-opacity=\"1\" /><path clip-path=\"url(#clip490)\" d=\"M122.913 1031 Q119.302 1031 117.473 1034.57 Q115.668 1038.11 115.668 1045.24 Q115.668 1052.34 117.473 1055.91 Q119.302 1059.45 122.913 1059.45 Q126.547 1059.45 128.353 1055.91 Q130.182 1052.34 130.182 1045.24 Q130.182 1038.11 128.353 1034.57 Q126.547 1031 122.913 1031 M122.913 1027.3 Q128.723 1027.3 131.779 1031.9 Q134.857 1036.49 134.857 1045.24 Q134.857 1053.96 131.779 1058.57 Q128.723 1063.15 122.913 1063.15 Q117.103 1063.15 114.024 1058.57 Q110.969 1053.96 110.969 1045.24 Q110.969 1036.49 114.024 1031.9 Q117.103 1027.3 122.913 1027.3 Z\" fill=\"#000000\" fill-rule=\"nonzero\" fill-opacity=\"1\" /><path clip-path=\"url(#clip490)\" d=\"M56.6171 658.034 L72.9365 658.034 L72.9365 661.969 L50.9921 661.969 L50.9921 658.034 Q53.6541 655.28 58.2375 650.65 Q62.8439 645.997 64.0245 644.655 Q66.2698 642.132 67.1494 640.396 Q68.0522 638.636 68.0522 636.946 Q68.0522 634.192 66.1078 632.456 Q64.1865 630.72 61.0847 630.72 Q58.8856 630.72 56.4319 631.484 Q54.0014 632.247 51.2236 633.798 L51.2236 629.076 Q54.0477 627.942 56.5014 627.363 Q58.955 626.784 60.9921 626.784 Q66.3624 626.784 69.5568 629.47 Q72.7513 632.155 72.7513 636.646 Q72.7513 638.775 71.9411 640.696 Q71.1541 642.595 69.0476 645.187 Q68.4689 645.858 65.367 649.076 Q62.2652 652.27 56.6171 658.034 Z\" fill=\"#000000\" fill-rule=\"nonzero\" fill-opacity=\"1\" /><path clip-path=\"url(#clip490)\" d=\"M92.7512 630.488 Q89.1401 630.488 87.3114 634.053 Q85.5058 637.595 85.5058 644.724 Q85.5058 651.831 87.3114 655.395 Q89.1401 658.937 92.7512 658.937 Q96.3854 658.937 98.1909 655.395 Q100.02 651.831 100.02 644.724 Q100.02 637.595 98.1909 634.053 Q96.3854 630.488 92.7512 630.488 M92.7512 626.784 Q98.5613 626.784 101.617 631.391 Q104.696 635.974 104.696 644.724 Q104.696 653.451 101.617 658.057 Q98.5613 662.641 92.7512 662.641 Q86.941 662.641 83.8623 658.057 Q80.8068 653.451 80.8068 644.724 Q80.8068 635.974 83.8623 631.391 Q86.941 626.784 92.7512 626.784 Z\" fill=\"#000000\" fill-rule=\"nonzero\" fill-opacity=\"1\" /><path clip-path=\"url(#clip490)\" d=\"M122.913 630.488 Q119.302 630.488 117.473 634.053 Q115.668 637.595 115.668 644.724 Q115.668 651.831 117.473 655.395 Q119.302 658.937 122.913 658.937 Q126.547 658.937 128.353 655.395 Q130.182 651.831 130.182 644.724 Q130.182 637.595 128.353 634.053 Q126.547 630.488 122.913 630.488 M122.913 626.784 Q128.723 626.784 131.779 631.391 Q134.857 635.974 134.857 644.724 Q134.857 653.451 131.779 658.057 Q128.723 662.641 122.913 662.641 Q117.103 662.641 114.024 658.057 Q110.969 653.451 110.969 644.724 Q110.969 635.974 114.024 631.391 Q117.103 626.784 122.913 626.784 Z\" fill=\"#000000\" fill-rule=\"nonzero\" fill-opacity=\"1\" /><path clip-path=\"url(#clip490)\" d=\"M66.7559 242.822 Q70.1124 243.54 71.9874 245.808 Q73.8855 248.077 73.8855 251.41 Q73.8855 256.526 70.367 259.327 Q66.8485 262.128 60.3671 262.128 Q58.1912 262.128 55.8764 261.688 Q53.5847 261.271 51.131 260.415 L51.131 255.901 Q53.0754 257.035 55.3903 257.614 Q57.7051 258.193 60.2282 258.193 Q64.6263 258.193 66.918 256.456 Q69.2328 254.72 69.2328 251.41 Q69.2328 248.355 67.08 246.642 Q64.9504 244.906 61.131 244.906 L57.1032 244.906 L57.1032 241.063 L61.3161 241.063 Q64.7652 241.063 66.5939 239.697 Q68.4226 238.308 68.4226 235.716 Q68.4226 233.054 66.5245 231.642 Q64.6495 230.207 61.131 230.207 Q59.2097 230.207 57.0106 230.623 Q54.8115 231.04 52.1727 231.92 L52.1727 227.753 Q54.8347 227.012 57.1495 226.642 Q59.4875 226.271 61.5476 226.271 Q66.8717 226.271 69.9735 228.702 Q73.0753 231.109 73.0753 235.23 Q73.0753 238.1 71.4318 240.091 Q69.7883 242.058 66.7559 242.822 Z\" fill=\"#000000\" fill-rule=\"nonzero\" fill-opacity=\"1\" /><path clip-path=\"url(#clip490)\" d=\"M92.7512 229.975 Q89.1401 229.975 87.3114 233.54 Q85.5058 237.082 85.5058 244.211 Q85.5058 251.318 87.3114 254.882 Q89.1401 258.424 92.7512 258.424 Q96.3854 258.424 98.1909 254.882 Q100.02 251.318 100.02 244.211 Q100.02 237.082 98.1909 233.54 Q96.3854 229.975 92.7512 229.975 M92.7512 226.271 Q98.5613 226.271 101.617 230.878 Q104.696 235.461 104.696 244.211 Q104.696 252.938 101.617 257.544 Q98.5613 262.128 92.7512 262.128 Q86.941 262.128 83.8623 257.544 Q80.8068 252.938 80.8068 244.211 Q80.8068 235.461 83.8623 230.878 Q86.941 226.271 92.7512 226.271 Z\" fill=\"#000000\" fill-rule=\"nonzero\" fill-opacity=\"1\" /><path clip-path=\"url(#clip490)\" d=\"M122.913 229.975 Q119.302 229.975 117.473 233.54 Q115.668 237.082 115.668 244.211 Q115.668 251.318 117.473 254.882 Q119.302 258.424 122.913 258.424 Q126.547 258.424 128.353 254.882 Q130.182 251.318 130.182 244.211 Q130.182 237.082 128.353 233.54 Q126.547 229.975 122.913 229.975 M122.913 226.271 Q128.723 226.271 131.779 230.878 Q134.857 235.461 134.857 244.211 Q134.857 252.938 131.779 257.544 Q128.723 262.128 122.913 262.128 Q117.103 262.128 114.024 257.544 Q110.969 252.938 110.969 244.211 Q110.969 235.461 114.024 230.878 Q117.103 226.271 122.913 226.271 Z\" fill=\"#000000\" fill-rule=\"nonzero\" fill-opacity=\"1\" /><path clip-path=\"url(#clip492)\" d=\"M290.866 460.453 L290.866 1445.72 L379.133 1445.72 L379.133 460.453 L290.866 460.453 L290.866 460.453  Z\" fill=\"#009af9\" fill-rule=\"evenodd\" fill-opacity=\"1\"/>\n",
       "<polyline clip-path=\"url(#clip492)\" style=\"stroke:#000000; stroke-linecap:round; stroke-linejoin:round; stroke-width:4; stroke-opacity:1; fill:none\" points=\"290.866,460.453 290.866,1445.72 379.133,1445.72 379.133,460.453 290.866,460.453 \"/>\n",
       "<path clip-path=\"url(#clip492)\" d=\"M379.133 87.9763 L379.133 1445.72 L467.4 1445.72 L467.4 87.9763 L379.133 87.9763 L379.133 87.9763  Z\" fill=\"#009af9\" fill-rule=\"evenodd\" fill-opacity=\"1\"/>\n",
       "<polyline clip-path=\"url(#clip492)\" style=\"stroke:#000000; stroke-linecap:round; stroke-linejoin:round; stroke-width:4; stroke-opacity:1; fill:none\" points=\"379.133,87.9763 379.133,1445.72 467.4,1445.72 467.4,87.9763 379.133,87.9763 \"/>\n",
       "<path clip-path=\"url(#clip492)\" d=\"M467.4 340.3 L467.4 1445.72 L555.668 1445.72 L555.668 340.3 L467.4 340.3 L467.4 340.3  Z\" fill=\"#009af9\" fill-rule=\"evenodd\" fill-opacity=\"1\"/>\n",
       "<polyline clip-path=\"url(#clip492)\" style=\"stroke:#000000; stroke-linecap:round; stroke-linejoin:round; stroke-width:4; stroke-opacity:1; fill:none\" points=\"467.4,340.3 467.4,1445.72 555.668,1445.72 555.668,340.3 467.4,340.3 \"/>\n",
       "<path clip-path=\"url(#clip492)\" d=\"M555.668 160.069 L555.668 1445.72 L643.935 1445.72 L643.935 160.069 L555.668 160.069 L555.668 160.069  Z\" fill=\"#009af9\" fill-rule=\"evenodd\" fill-opacity=\"1\"/>\n",
       "<polyline clip-path=\"url(#clip492)\" style=\"stroke:#000000; stroke-linecap:round; stroke-linejoin:round; stroke-width:4; stroke-opacity:1; fill:none\" points=\"555.668,160.069 555.668,1445.72 643.935,1445.72 643.935,160.069 555.668,160.069 \"/>\n",
       "<path clip-path=\"url(#clip492)\" d=\"M643.935 388.361 L643.935 1445.72 L732.203 1445.72 L732.203 388.361 L643.935 388.361 L643.935 388.361  Z\" fill=\"#009af9\" fill-rule=\"evenodd\" fill-opacity=\"1\"/>\n",
       "<polyline clip-path=\"url(#clip492)\" style=\"stroke:#000000; stroke-linecap:round; stroke-linejoin:round; stroke-width:4; stroke-opacity:1; fill:none\" points=\"643.935,388.361 643.935,1445.72 732.203,1445.72 732.203,388.361 643.935,388.361 \"/>\n",
       "<path clip-path=\"url(#clip492)\" d=\"M732.203 740.813 L732.203 1445.72 L820.47 1445.72 L820.47 740.813 L732.203 740.813 L732.203 740.813  Z\" fill=\"#009af9\" fill-rule=\"evenodd\" fill-opacity=\"1\"/>\n",
       "<polyline clip-path=\"url(#clip492)\" style=\"stroke:#000000; stroke-linecap:round; stroke-linejoin:round; stroke-width:4; stroke-opacity:1; fill:none\" points=\"732.203,740.813 732.203,1445.72 820.47,1445.72 820.47,740.813 732.203,740.813 \"/>\n",
       "<path clip-path=\"url(#clip492)\" d=\"M820.47 901.018 L820.47 1445.72 L908.737 1445.72 L908.737 901.018 L820.47 901.018 L820.47 901.018  Z\" fill=\"#009af9\" fill-rule=\"evenodd\" fill-opacity=\"1\"/>\n",
       "<polyline clip-path=\"url(#clip492)\" style=\"stroke:#000000; stroke-linecap:round; stroke-linejoin:round; stroke-width:4; stroke-opacity:1; fill:none\" points=\"820.47,901.018 820.47,1445.72 908.737,1445.72 908.737,901.018 820.47,901.018 \"/>\n",
       "<path clip-path=\"url(#clip492)\" d=\"M908.737 1161.35 L908.737 1445.72 L997.005 1445.72 L997.005 1161.35 L908.737 1161.35 L908.737 1161.35  Z\" fill=\"#009af9\" fill-rule=\"evenodd\" fill-opacity=\"1\"/>\n",
       "<polyline clip-path=\"url(#clip492)\" style=\"stroke:#000000; stroke-linecap:round; stroke-linejoin:round; stroke-width:4; stroke-opacity:1; fill:none\" points=\"908.737,1161.35 908.737,1445.72 997.005,1445.72 997.005,1161.35 908.737,1161.35 \"/>\n",
       "<path clip-path=\"url(#clip492)\" d=\"M997.005 1177.37 L997.005 1445.72 L1085.27 1445.72 L1085.27 1177.37 L997.005 1177.37 L997.005 1177.37  Z\" fill=\"#009af9\" fill-rule=\"evenodd\" fill-opacity=\"1\"/>\n",
       "<polyline clip-path=\"url(#clip492)\" style=\"stroke:#000000; stroke-linecap:round; stroke-linejoin:round; stroke-width:4; stroke-opacity:1; fill:none\" points=\"997.005,1177.37 997.005,1445.72 1085.27,1445.72 1085.27,1177.37 997.005,1177.37 \"/>\n",
       "<path clip-path=\"url(#clip492)\" d=\"M1085.27 1297.53 L1085.27 1445.72 L1173.54 1445.72 L1173.54 1297.53 L1085.27 1297.53 L1085.27 1297.53  Z\" fill=\"#009af9\" fill-rule=\"evenodd\" fill-opacity=\"1\"/>\n",
       "<polyline clip-path=\"url(#clip492)\" style=\"stroke:#000000; stroke-linecap:round; stroke-linejoin:round; stroke-width:4; stroke-opacity:1; fill:none\" points=\"1085.27,1297.53 1085.27,1445.72 1173.54,1445.72 1173.54,1297.53 1085.27,1297.53 \"/>\n",
       "<path clip-path=\"url(#clip492)\" d=\"M1173.54 1361.61 L1173.54 1445.72 L1261.81 1445.72 L1261.81 1361.61 L1173.54 1361.61 L1173.54 1361.61  Z\" fill=\"#009af9\" fill-rule=\"evenodd\" fill-opacity=\"1\"/>\n",
       "<polyline clip-path=\"url(#clip492)\" style=\"stroke:#000000; stroke-linecap:round; stroke-linejoin:round; stroke-width:4; stroke-opacity:1; fill:none\" points=\"1173.54,1361.61 1173.54,1445.72 1261.81,1445.72 1261.81,1361.61 1173.54,1361.61 \"/>\n",
       "<path clip-path=\"url(#clip492)\" d=\"M1261.81 1373.62 L1261.81 1445.72 L1350.07 1445.72 L1350.07 1373.62 L1261.81 1373.62 L1261.81 1373.62  Z\" fill=\"#009af9\" fill-rule=\"evenodd\" fill-opacity=\"1\"/>\n",
       "<polyline clip-path=\"url(#clip492)\" style=\"stroke:#000000; stroke-linecap:round; stroke-linejoin:round; stroke-width:4; stroke-opacity:1; fill:none\" points=\"1261.81,1373.62 1261.81,1445.72 1350.07,1445.72 1350.07,1373.62 1261.81,1373.62 \"/>\n",
       "<path clip-path=\"url(#clip492)\" d=\"M1350.07 1405.66 L1350.07 1445.72 L1438.34 1445.72 L1438.34 1405.66 L1350.07 1405.66 L1350.07 1405.66  Z\" fill=\"#009af9\" fill-rule=\"evenodd\" fill-opacity=\"1\"/>\n",
       "<polyline clip-path=\"url(#clip492)\" style=\"stroke:#000000; stroke-linecap:round; stroke-linejoin:round; stroke-width:4; stroke-opacity:1; fill:none\" points=\"1350.07,1405.66 1350.07,1445.72 1438.34,1445.72 1438.34,1405.66 1350.07,1405.66 \"/>\n",
       "<path clip-path=\"url(#clip492)\" d=\"M1438.34 1417.68 L1438.34 1445.72 L1526.61 1445.72 L1526.61 1417.68 L1438.34 1417.68 L1438.34 1417.68  Z\" fill=\"#009af9\" fill-rule=\"evenodd\" fill-opacity=\"1\"/>\n",
       "<polyline clip-path=\"url(#clip492)\" style=\"stroke:#000000; stroke-linecap:round; stroke-linejoin:round; stroke-width:4; stroke-opacity:1; fill:none\" points=\"1438.34,1417.68 1438.34,1445.72 1526.61,1445.72 1526.61,1417.68 1438.34,1417.68 \"/>\n",
       "<path clip-path=\"url(#clip492)\" d=\"M1526.61 1425.69 L1526.61 1445.72 L1614.88 1445.72 L1614.88 1425.69 L1526.61 1425.69 L1526.61 1425.69  Z\" fill=\"#009af9\" fill-rule=\"evenodd\" fill-opacity=\"1\"/>\n",
       "<polyline clip-path=\"url(#clip492)\" style=\"stroke:#000000; stroke-linecap:round; stroke-linejoin:round; stroke-width:4; stroke-opacity:1; fill:none\" points=\"1526.61,1425.69 1526.61,1445.72 1614.88,1445.72 1614.88,1425.69 1526.61,1425.69 \"/>\n",
       "<path clip-path=\"url(#clip492)\" d=\"M1614.88 1437.71 L1614.88 1445.72 L1703.14 1445.72 L1703.14 1437.71 L1614.88 1437.71 L1614.88 1437.71  Z\" fill=\"#009af9\" fill-rule=\"evenodd\" fill-opacity=\"1\"/>\n",
       "<polyline clip-path=\"url(#clip492)\" style=\"stroke:#000000; stroke-linecap:round; stroke-linejoin:round; stroke-width:4; stroke-opacity:1; fill:none\" points=\"1614.88,1437.71 1614.88,1445.72 1703.14,1445.72 1703.14,1437.71 1614.88,1437.71 \"/>\n",
       "<path clip-path=\"url(#clip492)\" d=\"M1703.14 1445.72 L1703.14 1445.72 L1791.41 1445.72 L1791.41 1445.72 L1703.14 1445.72 L1703.14 1445.72  Z\" fill=\"#009af9\" fill-rule=\"evenodd\" fill-opacity=\"1\"/>\n",
       "<polyline clip-path=\"url(#clip492)\" style=\"stroke:#000000; stroke-linecap:round; stroke-linejoin:round; stroke-width:4; stroke-opacity:1; fill:none\" points=\"1703.14,1445.72 1703.14,1445.72 1791.41,1445.72 1703.14,1445.72 \"/>\n",
       "<path clip-path=\"url(#clip492)\" d=\"M1791.41 1437.71 L1791.41 1445.72 L1879.68 1445.72 L1879.68 1437.71 L1791.41 1437.71 L1791.41 1437.71  Z\" fill=\"#009af9\" fill-rule=\"evenodd\" fill-opacity=\"1\"/>\n",
       "<polyline clip-path=\"url(#clip492)\" style=\"stroke:#000000; stroke-linecap:round; stroke-linejoin:round; stroke-width:4; stroke-opacity:1; fill:none\" points=\"1791.41,1437.71 1791.41,1445.72 1879.68,1445.72 1879.68,1437.71 1791.41,1437.71 \"/>\n",
       "<path clip-path=\"url(#clip492)\" d=\"M1879.68 1445.72 L1879.68 1445.72 L1967.95 1445.72 L1967.95 1445.72 L1879.68 1445.72 L1879.68 1445.72  Z\" fill=\"#009af9\" fill-rule=\"evenodd\" fill-opacity=\"1\"/>\n",
       "<polyline clip-path=\"url(#clip492)\" style=\"stroke:#000000; stroke-linecap:round; stroke-linejoin:round; stroke-width:4; stroke-opacity:1; fill:none\" points=\"1879.68,1445.72 1879.68,1445.72 1967.95,1445.72 1879.68,1445.72 \"/>\n",
       "<path clip-path=\"url(#clip492)\" d=\"M1967.95 1445.72 L1967.95 1445.72 L2056.21 1445.72 L2056.21 1445.72 L1967.95 1445.72 L1967.95 1445.72  Z\" fill=\"#009af9\" fill-rule=\"evenodd\" fill-opacity=\"1\"/>\n",
       "<polyline clip-path=\"url(#clip492)\" style=\"stroke:#000000; stroke-linecap:round; stroke-linejoin:round; stroke-width:4; stroke-opacity:1; fill:none\" points=\"1967.95,1445.72 1967.95,1445.72 2056.21,1445.72 1967.95,1445.72 \"/>\n",
       "<path clip-path=\"url(#clip492)\" d=\"M2056.21 1441.71 L2056.21 1445.72 L2144.48 1445.72 L2144.48 1441.71 L2056.21 1441.71 L2056.21 1441.71  Z\" fill=\"#009af9\" fill-rule=\"evenodd\" fill-opacity=\"1\"/>\n",
       "<polyline clip-path=\"url(#clip492)\" style=\"stroke:#000000; stroke-linecap:round; stroke-linejoin:round; stroke-width:4; stroke-opacity:1; fill:none\" points=\"2056.21,1441.71 2056.21,1445.72 2144.48,1445.72 2144.48,1441.71 2056.21,1441.71 \"/>\n",
       "<path clip-path=\"url(#clip492)\" d=\"M2144.48 1441.71 L2144.48 1445.72 L2232.75 1445.72 L2232.75 1441.71 L2144.48 1441.71 L2144.48 1441.71  Z\" fill=\"#009af9\" fill-rule=\"evenodd\" fill-opacity=\"1\"/>\n",
       "<polyline clip-path=\"url(#clip492)\" style=\"stroke:#000000; stroke-linecap:round; stroke-linejoin:round; stroke-width:4; stroke-opacity:1; fill:none\" points=\"2144.48,1441.71 2144.48,1445.72 2232.75,1445.72 2232.75,1441.71 2144.48,1441.71 \"/>\n",
       "<circle clip-path=\"url(#clip492)\" style=\"fill:#009af9; stroke:none; fill-opacity:0\" cx=\"334.999\" cy=\"460.453\" r=\"2\"/>\n",
       "<circle clip-path=\"url(#clip492)\" style=\"fill:#009af9; stroke:none; fill-opacity:0\" cx=\"423.267\" cy=\"87.9763\" r=\"2\"/>\n",
       "<circle clip-path=\"url(#clip492)\" style=\"fill:#009af9; stroke:none; fill-opacity:0\" cx=\"511.534\" cy=\"340.3\" r=\"2\"/>\n",
       "<circle clip-path=\"url(#clip492)\" style=\"fill:#009af9; stroke:none; fill-opacity:0\" cx=\"599.801\" cy=\"160.069\" r=\"2\"/>\n",
       "<circle clip-path=\"url(#clip492)\" style=\"fill:#009af9; stroke:none; fill-opacity:0\" cx=\"688.069\" cy=\"388.361\" r=\"2\"/>\n",
       "<circle clip-path=\"url(#clip492)\" style=\"fill:#009af9; stroke:none; fill-opacity:0\" cx=\"776.336\" cy=\"740.813\" r=\"2\"/>\n",
       "<circle clip-path=\"url(#clip492)\" style=\"fill:#009af9; stroke:none; fill-opacity:0\" cx=\"864.604\" cy=\"901.018\" r=\"2\"/>\n",
       "<circle clip-path=\"url(#clip492)\" style=\"fill:#009af9; stroke:none; fill-opacity:0\" cx=\"952.871\" cy=\"1161.35\" r=\"2\"/>\n",
       "<circle clip-path=\"url(#clip492)\" style=\"fill:#009af9; stroke:none; fill-opacity:0\" cx=\"1041.14\" cy=\"1177.37\" r=\"2\"/>\n",
       "<circle clip-path=\"url(#clip492)\" style=\"fill:#009af9; stroke:none; fill-opacity:0\" cx=\"1129.41\" cy=\"1297.53\" r=\"2\"/>\n",
       "<circle clip-path=\"url(#clip492)\" style=\"fill:#009af9; stroke:none; fill-opacity:0\" cx=\"1217.67\" cy=\"1361.61\" r=\"2\"/>\n",
       "<circle clip-path=\"url(#clip492)\" style=\"fill:#009af9; stroke:none; fill-opacity:0\" cx=\"1305.94\" cy=\"1373.62\" r=\"2\"/>\n",
       "<circle clip-path=\"url(#clip492)\" style=\"fill:#009af9; stroke:none; fill-opacity:0\" cx=\"1394.21\" cy=\"1405.66\" r=\"2\"/>\n",
       "<circle clip-path=\"url(#clip492)\" style=\"fill:#009af9; stroke:none; fill-opacity:0\" cx=\"1482.48\" cy=\"1417.68\" r=\"2\"/>\n",
       "<circle clip-path=\"url(#clip492)\" style=\"fill:#009af9; stroke:none; fill-opacity:0\" cx=\"1570.74\" cy=\"1425.69\" r=\"2\"/>\n",
       "<circle clip-path=\"url(#clip492)\" style=\"fill:#009af9; stroke:none; fill-opacity:0\" cx=\"1659.01\" cy=\"1437.71\" r=\"2\"/>\n",
       "<circle clip-path=\"url(#clip492)\" style=\"fill:#009af9; stroke:none; fill-opacity:0\" cx=\"1747.28\" cy=\"1445.72\" r=\"2\"/>\n",
       "<circle clip-path=\"url(#clip492)\" style=\"fill:#009af9; stroke:none; fill-opacity:0\" cx=\"1835.54\" cy=\"1437.71\" r=\"2\"/>\n",
       "<circle clip-path=\"url(#clip492)\" style=\"fill:#009af9; stroke:none; fill-opacity:0\" cx=\"1923.81\" cy=\"1445.72\" r=\"2\"/>\n",
       "<circle clip-path=\"url(#clip492)\" style=\"fill:#009af9; stroke:none; fill-opacity:0\" cx=\"2012.08\" cy=\"1445.72\" r=\"2\"/>\n",
       "<circle clip-path=\"url(#clip492)\" style=\"fill:#009af9; stroke:none; fill-opacity:0\" cx=\"2100.35\" cy=\"1441.71\" r=\"2\"/>\n",
       "<circle clip-path=\"url(#clip492)\" style=\"fill:#009af9; stroke:none; fill-opacity:0\" cx=\"2188.61\" cy=\"1441.71\" r=\"2\"/>\n",
       "<path clip-path=\"url(#clip490)\" d=\"M1760.22 198.898 L2280.03 198.898 L2280.03 95.2176 L1760.22 95.2176  Z\" fill=\"#ffffff\" fill-rule=\"evenodd\" fill-opacity=\"1\"/>\n",
       "<polyline clip-path=\"url(#clip490)\" style=\"stroke:#000000; stroke-linecap:round; stroke-linejoin:round; stroke-width:4; stroke-opacity:1; fill:none\" points=\"1760.22,198.898 2280.03,198.898 2280.03,95.2176 1760.22,95.2176 1760.22,198.898 \"/>\n",
       "<path clip-path=\"url(#clip490)\" d=\"M1784.46 167.794 L1929.92 167.794 L1929.92 126.322 L1784.46 126.322 L1784.46 167.794  Z\" fill=\"#009af9\" fill-rule=\"evenodd\" fill-opacity=\"1\"/>\n",
       "<polyline clip-path=\"url(#clip490)\" style=\"stroke:#000000; stroke-linecap:round; stroke-linejoin:round; stroke-width:4; stroke-opacity:1; fill:none\" points=\"1784.46,167.794 1929.92,167.794 1929.92,126.322 1784.46,126.322 1784.46,167.794 \"/>\n",
       "<path clip-path=\"url(#clip490)\" d=\"M1954.16 129.778 L1960.46 129.778 L1975.78 158.689 L1975.78 129.778 L1980.32 129.778 L1980.32 164.338 L1974.02 164.338 L1958.7 135.426 L1958.7 164.338 L1954.16 164.338 L1954.16 129.778 Z\" fill=\"#000000\" fill-rule=\"nonzero\" fill-opacity=\"1\" /><path clip-path=\"url(#clip490)\" d=\"M1999.49 141.398 Q1996.06 141.398 1994.07 144.083 Q1992.08 146.745 1992.08 151.398 Q1992.08 156.051 1994.05 158.736 Q1996.04 161.398 1999.49 161.398 Q2002.89 161.398 2004.88 158.713 Q2006.87 156.027 2006.87 151.398 Q2006.87 146.791 2004.88 144.106 Q2002.89 141.398 1999.49 141.398 M1999.49 137.787 Q2005.04 137.787 2008.21 141.398 Q2011.39 145.009 2011.39 151.398 Q2011.39 157.764 2008.21 161.398 Q2005.04 165.009 1999.49 165.009 Q1993.91 165.009 1990.74 161.398 Q1987.59 157.764 1987.59 151.398 Q1987.59 145.009 1990.74 141.398 Q1993.91 137.787 1999.49 137.787 Z\" fill=\"#000000\" fill-rule=\"nonzero\" fill-opacity=\"1\" /><path clip-path=\"url(#clip490)\" d=\"M2040 148.689 L2040 164.338 L2035.74 164.338 L2035.74 148.828 Q2035.74 145.148 2034.3 143.319 Q2032.87 141.49 2030 141.49 Q2026.55 141.49 2024.56 143.69 Q2022.57 145.889 2022.57 149.685 L2022.57 164.338 L2018.28 164.338 L2018.28 138.412 L2022.57 138.412 L2022.57 142.44 Q2024.09 140.102 2026.15 138.944 Q2028.24 137.787 2030.95 137.787 Q2035.41 137.787 2037.71 140.565 Q2040 143.319 2040 148.689 Z\" fill=\"#000000\" fill-rule=\"nonzero\" fill-opacity=\"1\" /><path clip-path=\"url(#clip490)\" d=\"M2080.09 139.176 L2080.09 143.203 Q2078.28 142.277 2076.34 141.815 Q2074.39 141.352 2072.31 141.352 Q2069.14 141.352 2067.54 142.324 Q2065.97 143.296 2065.97 145.24 Q2065.97 146.722 2067.1 147.578 Q2068.24 148.412 2071.66 149.176 L2073.12 149.5 Q2077.66 150.472 2079.56 152.254 Q2081.48 154.014 2081.48 157.185 Q2081.48 160.796 2078.61 162.902 Q2075.76 165.009 2070.76 165.009 Q2068.68 165.009 2066.41 164.592 Q2064.16 164.199 2061.66 163.388 L2061.66 158.99 Q2064.02 160.217 2066.32 160.842 Q2068.61 161.444 2070.85 161.444 Q2073.86 161.444 2075.48 160.426 Q2077.1 159.384 2077.1 157.509 Q2077.1 155.773 2075.92 154.847 Q2074.77 153.921 2070.81 153.064 L2069.33 152.717 Q2065.37 151.884 2063.61 150.171 Q2061.85 148.435 2061.85 145.426 Q2061.85 141.768 2064.44 139.778 Q2067.03 137.787 2071.8 137.787 Q2074.16 137.787 2076.25 138.134 Q2078.33 138.481 2080.09 139.176 Z\" fill=\"#000000\" fill-rule=\"nonzero\" fill-opacity=\"1\" /><path clip-path=\"url(#clip490)\" d=\"M2108.45 143.389 Q2110.04 140.518 2112.26 139.153 Q2114.49 137.787 2117.5 137.787 Q2121.55 137.787 2123.75 140.634 Q2125.95 143.458 2125.95 148.689 L2125.95 164.338 L2121.66 164.338 L2121.66 148.828 Q2121.66 145.102 2120.34 143.296 Q2119.02 141.49 2116.32 141.49 Q2113.01 141.49 2111.08 143.69 Q2109.16 145.889 2109.16 149.685 L2109.16 164.338 L2104.88 164.338 L2104.88 148.828 Q2104.88 145.078 2103.56 143.296 Q2102.24 141.49 2099.49 141.49 Q2096.22 141.49 2094.3 143.713 Q2092.38 145.912 2092.38 149.685 L2092.38 164.338 L2088.1 164.338 L2088.1 138.412 L2092.38 138.412 L2092.38 142.44 Q2093.84 140.055 2095.88 138.921 Q2097.91 137.787 2100.71 137.787 Q2103.54 137.787 2105.51 139.222 Q2107.5 140.657 2108.45 143.389 Z\" fill=\"#000000\" fill-rule=\"nonzero\" fill-opacity=\"1\" /><path clip-path=\"url(#clip490)\" d=\"M2144.49 141.398 Q2141.06 141.398 2139.07 144.083 Q2137.08 146.745 2137.08 151.398 Q2137.08 156.051 2139.05 158.736 Q2141.04 161.398 2144.49 161.398 Q2147.89 161.398 2149.88 158.713 Q2151.87 156.027 2151.87 151.398 Q2151.87 146.791 2149.88 144.106 Q2147.89 141.398 2144.49 141.398 M2144.49 137.787 Q2150.04 137.787 2153.21 141.398 Q2156.39 145.009 2156.39 151.398 Q2156.39 157.764 2153.21 161.398 Q2150.04 165.009 2144.49 165.009 Q2138.91 165.009 2135.74 161.398 Q2132.59 157.764 2132.59 151.398 Q2132.59 145.009 2135.74 141.398 Q2138.91 137.787 2144.49 137.787 Z\" fill=\"#000000\" fill-rule=\"nonzero\" fill-opacity=\"1\" /><path clip-path=\"url(#clip490)\" d=\"M2163.28 128.319 L2167.57 128.319 L2167.57 149.592 L2180.27 138.412 L2185.71 138.412 L2171.96 150.541 L2186.29 164.338 L2180.74 164.338 L2167.57 151.676 L2167.57 164.338 L2163.28 164.338 L2163.28 128.319 Z\" fill=\"#000000\" fill-rule=\"nonzero\" fill-opacity=\"1\" /><path clip-path=\"url(#clip490)\" d=\"M2211.38 150.31 L2211.38 152.393 L2191.8 152.393 Q2192.08 156.791 2194.44 159.106 Q2196.82 161.398 2201.06 161.398 Q2203.51 161.398 2205.81 160.796 Q2208.12 160.194 2210.39 158.99 L2210.39 163.018 Q2208.1 163.99 2205.69 164.5 Q2203.28 165.009 2200.81 165.009 Q2194.6 165.009 2190.97 161.398 Q2187.36 157.787 2187.36 151.629 Q2187.36 145.264 2190.78 141.537 Q2194.23 137.787 2200.07 137.787 Q2205.3 137.787 2208.33 141.166 Q2211.38 144.523 2211.38 150.31 M2207.13 149.06 Q2207.08 145.565 2205.16 143.481 Q2203.26 141.398 2200.11 141.398 Q2196.55 141.398 2194.39 143.412 Q2192.26 145.426 2191.94 149.083 L2207.13 149.06 Z\" fill=\"#000000\" fill-rule=\"nonzero\" fill-opacity=\"1\" /><path clip-path=\"url(#clip490)\" d=\"M2233.4 142.393 Q2232.68 141.977 2231.82 141.791 Q2230.99 141.583 2229.97 141.583 Q2226.36 141.583 2224.42 143.944 Q2222.5 146.282 2222.5 150.68 L2222.5 164.338 L2218.21 164.338 L2218.21 138.412 L2222.5 138.412 L2222.5 142.44 Q2223.84 140.078 2225.99 138.944 Q2228.14 137.787 2231.22 137.787 Q2231.66 137.787 2232.19 137.856 Q2232.73 137.903 2233.38 138.018 L2233.4 142.393 Z\" fill=\"#000000\" fill-rule=\"nonzero\" fill-opacity=\"1\" /><path clip-path=\"url(#clip490)\" d=\"M2254.39 139.176 L2254.39 143.203 Q2252.59 142.277 2250.64 141.815 Q2248.7 141.352 2246.62 141.352 Q2243.44 141.352 2241.85 142.324 Q2240.27 143.296 2240.27 145.24 Q2240.27 146.722 2241.41 147.578 Q2242.54 148.412 2245.97 149.176 L2247.43 149.5 Q2251.96 150.472 2253.86 152.254 Q2255.78 154.014 2255.78 157.185 Q2255.78 160.796 2252.91 162.902 Q2250.07 165.009 2245.07 165.009 Q2242.98 165.009 2240.71 164.592 Q2238.47 164.199 2235.97 163.388 L2235.97 158.99 Q2238.33 160.217 2240.62 160.842 Q2242.91 161.444 2245.16 161.444 Q2248.17 161.444 2249.79 160.426 Q2251.41 159.384 2251.41 157.509 Q2251.41 155.773 2250.23 154.847 Q2249.07 153.921 2245.11 153.064 L2243.63 152.717 Q2239.67 151.884 2237.91 150.171 Q2236.15 148.435 2236.15 145.426 Q2236.15 141.768 2238.75 139.778 Q2241.34 137.787 2246.11 137.787 Q2248.47 137.787 2250.55 138.134 Q2252.63 138.481 2254.39 139.176 Z\" fill=\"#000000\" fill-rule=\"nonzero\" fill-opacity=\"1\" /></svg>\n"
      ]
     },
     "execution_count": 65,
     "metadata": {},
     "output_type": "execute_result"
    }
   ],
   "source": [
    "histogram(smoking.Distr, bins = 35, label = \"Non smokers\")"
   ]
  },
  {
   "cell_type": "code",
   "execution_count": null,
   "id": "bb1149f7-3e6c-4c03-99b9-887fe1298bb6",
   "metadata": {},
   "outputs": [],
   "source": []
  }
 ],
 "metadata": {
  "kernelspec": {
   "display_name": "Julia 1.8.5",
   "language": "julia",
   "name": "julia-1.8"
  },
  "language_info": {
   "file_extension": ".jl",
   "mimetype": "application/julia",
   "name": "julia",
   "version": "1.8.5"
  }
 },
 "nbformat": 4,
 "nbformat_minor": 5
}
